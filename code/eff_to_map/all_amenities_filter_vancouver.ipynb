{
 "metadata": {
  "language_info": {
   "codemirror_mode": {
    "name": "ipython",
    "version": 3
   },
   "file_extension": ".py",
   "mimetype": "text/x-python",
   "name": "python",
   "nbconvert_exporter": "python",
   "pygments_lexer": "ipython3",
   "version": "3.8.10"
  },
  "orig_nbformat": 2,
  "kernelspec": {
   "name": "python3",
   "display_name": "Python 3.8.10 64-bit ('base': conda)"
  },
  "interpreter": {
   "hash": "e95bd23c58372e532c13f19770ac32345ce14fa00d207afebbf1161aa1e79f4b"
  }
 },
 "nbformat": 4,
 "nbformat_minor": 2,
 "cells": [
  {
   "cell_type": "code",
   "execution_count": 1,
   "metadata": {},
   "outputs": [],
   "source": [
    "## Libraries\n",
    "import pandas as pd\n",
    "import numpy as np"
   ]
  },
  {
   "cell_type": "code",
   "execution_count": 2,
   "metadata": {},
   "outputs": [
    {
     "output_type": "execute_result",
     "data": {
      "text/plain": [
       "                           Facility_Name            Source_Facility_Type  \\\n",
       "Index                                                                      \n",
       "1                       #Hashtag Gallery                              ..   \n",
       "2      'Ksan Historical Village & Museum  historic site-building or park   \n",
       "3                   'School Days' Museum       community/regional museum   \n",
       "4                       10 Austin Street       built heritage properties   \n",
       "5                  10 Gates Dancing Inc.                            arts   \n",
       "\n",
       "             ODCAF_Facility_Type                      Provider Unit Street_No  \\\n",
       "Index                                                                           \n",
       "1                        gallery                       toronto   ..       801   \n",
       "2                         museum  canadian museums association   ..      1500   \n",
       "3                         museum  canadian museums association   ..       427   \n",
       "4      heritage or historic site                       moncton   ..        10   \n",
       "5                  miscellaneous                        ottawa   ..        ..   \n",
       "\n",
       "       Street_Name Postal_Code         City Prov_Terr  \\\n",
       "Index                                                   \n",
       "1      dundas st w     M6J 1V2      toronto        on   \n",
       "2           62 hwy     V0J 1Y0     hazelton        bc   \n",
       "3         queen st     E3B 5R6  fredericton        nb   \n",
       "4        austin st     E1C 1Z6      moncton        nb   \n",
       "5               ..          ..       ottawa        on   \n",
       "\n",
       "                                   Source_Format_Address     CSD_Name  \\\n",
       "Index                                                                   \n",
       "1                                        801 dundas st w      Toronto   \n",
       "2      1500 hwy 62 hazelton british columbia v0j 1y0 ...     Hazelton   \n",
       "3      427 queen st fredericton new brunswick e3b 5r6...  Fredericton   \n",
       "4                                           10 austin st      Moncton   \n",
       "5                                                     ..       Ottawa   \n",
       "\n",
       "        CSDUID PRUID     Latitude     Longitude  \n",
       "Index                                            \n",
       "1      3520005    35  43.65169472  -79.40803272  \n",
       "2      5949022    59   55.2645508  -127.6428124  \n",
       "3      1310032    13    45.963283   -66.6419017  \n",
       "4      1307022    13  46.09247776  -64.78022946  \n",
       "5      3506008    35  45.40856224  -75.71536766  "
      ],
      "text/html": "<div>\n<style scoped>\n    .dataframe tbody tr th:only-of-type {\n        vertical-align: middle;\n    }\n\n    .dataframe tbody tr th {\n        vertical-align: top;\n    }\n\n    .dataframe thead th {\n        text-align: right;\n    }\n</style>\n<table border=\"1\" class=\"dataframe\">\n  <thead>\n    <tr style=\"text-align: right;\">\n      <th></th>\n      <th>Facility_Name</th>\n      <th>Source_Facility_Type</th>\n      <th>ODCAF_Facility_Type</th>\n      <th>Provider</th>\n      <th>Unit</th>\n      <th>Street_No</th>\n      <th>Street_Name</th>\n      <th>Postal_Code</th>\n      <th>City</th>\n      <th>Prov_Terr</th>\n      <th>Source_Format_Address</th>\n      <th>CSD_Name</th>\n      <th>CSDUID</th>\n      <th>PRUID</th>\n      <th>Latitude</th>\n      <th>Longitude</th>\n    </tr>\n    <tr>\n      <th>Index</th>\n      <th></th>\n      <th></th>\n      <th></th>\n      <th></th>\n      <th></th>\n      <th></th>\n      <th></th>\n      <th></th>\n      <th></th>\n      <th></th>\n      <th></th>\n      <th></th>\n      <th></th>\n      <th></th>\n      <th></th>\n      <th></th>\n    </tr>\n  </thead>\n  <tbody>\n    <tr>\n      <th>1</th>\n      <td>#Hashtag Gallery</td>\n      <td>..</td>\n      <td>gallery</td>\n      <td>toronto</td>\n      <td>..</td>\n      <td>801</td>\n      <td>dundas st w</td>\n      <td>M6J 1V2</td>\n      <td>toronto</td>\n      <td>on</td>\n      <td>801 dundas st w</td>\n      <td>Toronto</td>\n      <td>3520005</td>\n      <td>35</td>\n      <td>43.65169472</td>\n      <td>-79.40803272</td>\n    </tr>\n    <tr>\n      <th>2</th>\n      <td>'Ksan Historical Village &amp; Museum</td>\n      <td>historic site-building or park</td>\n      <td>museum</td>\n      <td>canadian museums association</td>\n      <td>..</td>\n      <td>1500</td>\n      <td>62 hwy</td>\n      <td>V0J 1Y0</td>\n      <td>hazelton</td>\n      <td>bc</td>\n      <td>1500 hwy 62 hazelton british columbia v0j 1y0 ...</td>\n      <td>Hazelton</td>\n      <td>5949022</td>\n      <td>59</td>\n      <td>55.2645508</td>\n      <td>-127.6428124</td>\n    </tr>\n    <tr>\n      <th>3</th>\n      <td>'School Days' Museum</td>\n      <td>community/regional museum</td>\n      <td>museum</td>\n      <td>canadian museums association</td>\n      <td>..</td>\n      <td>427</td>\n      <td>queen st</td>\n      <td>E3B 5R6</td>\n      <td>fredericton</td>\n      <td>nb</td>\n      <td>427 queen st fredericton new brunswick e3b 5r6...</td>\n      <td>Fredericton</td>\n      <td>1310032</td>\n      <td>13</td>\n      <td>45.963283</td>\n      <td>-66.6419017</td>\n    </tr>\n    <tr>\n      <th>4</th>\n      <td>10 Austin Street</td>\n      <td>built heritage properties</td>\n      <td>heritage or historic site</td>\n      <td>moncton</td>\n      <td>..</td>\n      <td>10</td>\n      <td>austin st</td>\n      <td>E1C 1Z6</td>\n      <td>moncton</td>\n      <td>nb</td>\n      <td>10 austin st</td>\n      <td>Moncton</td>\n      <td>1307022</td>\n      <td>13</td>\n      <td>46.09247776</td>\n      <td>-64.78022946</td>\n    </tr>\n    <tr>\n      <th>5</th>\n      <td>10 Gates Dancing Inc.</td>\n      <td>arts</td>\n      <td>miscellaneous</td>\n      <td>ottawa</td>\n      <td>..</td>\n      <td>..</td>\n      <td>..</td>\n      <td>..</td>\n      <td>ottawa</td>\n      <td>on</td>\n      <td>..</td>\n      <td>Ottawa</td>\n      <td>3506008</td>\n      <td>35</td>\n      <td>45.40856224</td>\n      <td>-75.71536766</td>\n    </tr>\n  </tbody>\n</table>\n</div>"
     },
     "metadata": {},
     "execution_count": 2
    }
   ],
   "source": [
    "## Import All Canadian Amenities\n",
    "all_cad_amenities = pd.read_csv('../../data/raw/points_of_interest.csv', encoding='latin-1', index_col=0)\n",
    "all_cad_amenities.head()"
   ]
  },
  {
   "cell_type": "code",
   "execution_count": 3,
   "metadata": {},
   "outputs": [
    {
     "output_type": "execute_result",
     "data": {
      "text/plain": [
       "                                facility_name source_facility_type  \\\n",
       "index                                                                \n",
       "1      Advanced Facial & Nasal Surgery Centre                other   \n",
       "10                Alberta Children's Hospital            pediatric   \n",
       "100                    Devon General Hospital              general   \n",
       "1000                           Kimbelee Place                  NaN   \n",
       "1001              Kimberley Special Care Home                  NaN   \n",
       "\n",
       "                            odhf_facility_type  \\\n",
       "index                                            \n",
       "1              Ambulatory health care services   \n",
       "10                                   Hospitals   \n",
       "100                                  Hospitals   \n",
       "1000   Nursing and residential care facilities   \n",
       "1001   Nursing and residential care facilities   \n",
       "\n",
       "                                        provider unit street_no street_name  \\\n",
       "index                                                                         \n",
       "1      Canadian Institute for Health Information  NaN       NaN         NaN   \n",
       "10                Public Health Agency of Canada  NaN        28   oki dr nw   \n",
       "100               Public Health Agency of Canada  NaN       101   erie st s   \n",
       "1000                Province of British Columbia  NaN     12935      96 ave   \n",
       "1001                Province of British Columbia  NaN       386       2 ave   \n",
       "\n",
       "      postal_code       city province         source_format_str_address  \\\n",
       "index                                                                     \n",
       "1         T5M 4G5   edmonton       ab                               NaN   \n",
       "10        T3B 6A8    calgary       ab                      28 Oki Dr NW   \n",
       "100       T9G 1A6      devon       ab  101 erie st. s. devon ab t9g 1a6   \n",
       "1000      V3V 7K6     surrey       bc  12935 96th ave surrey bc v3v 7k6   \n",
       "1001      V1A 2Z6  kimberley       bc    386 2 ave kimberley bc v1a 2z6   \n",
       "\n",
       "         CSDname     CSDuid  Pruid   latitude   longitude  \n",
       "index                                                      \n",
       "1       Edmonton        NaN     48        NaN         NaN  \n",
       "10       Calgary  4806016.0     48  51.074582 -114.148426  \n",
       "100        Devon  4811018.0     48  53.351493 -113.730785  \n",
       "1000      Surrey  5915004.0     59  49.177418 -122.864118  \n",
       "1001   Kimberley  5901028.0     59  49.689998 -115.989647  "
      ],
      "text/html": "<div>\n<style scoped>\n    .dataframe tbody tr th:only-of-type {\n        vertical-align: middle;\n    }\n\n    .dataframe tbody tr th {\n        vertical-align: top;\n    }\n\n    .dataframe thead th {\n        text-align: right;\n    }\n</style>\n<table border=\"1\" class=\"dataframe\">\n  <thead>\n    <tr style=\"text-align: right;\">\n      <th></th>\n      <th>facility_name</th>\n      <th>source_facility_type</th>\n      <th>odhf_facility_type</th>\n      <th>provider</th>\n      <th>unit</th>\n      <th>street_no</th>\n      <th>street_name</th>\n      <th>postal_code</th>\n      <th>city</th>\n      <th>province</th>\n      <th>source_format_str_address</th>\n      <th>CSDname</th>\n      <th>CSDuid</th>\n      <th>Pruid</th>\n      <th>latitude</th>\n      <th>longitude</th>\n    </tr>\n    <tr>\n      <th>index</th>\n      <th></th>\n      <th></th>\n      <th></th>\n      <th></th>\n      <th></th>\n      <th></th>\n      <th></th>\n      <th></th>\n      <th></th>\n      <th></th>\n      <th></th>\n      <th></th>\n      <th></th>\n      <th></th>\n      <th></th>\n      <th></th>\n    </tr>\n  </thead>\n  <tbody>\n    <tr>\n      <th>1</th>\n      <td>Advanced Facial &amp; Nasal Surgery Centre</td>\n      <td>other</td>\n      <td>Ambulatory health care services</td>\n      <td>Canadian Institute for Health Information</td>\n      <td>NaN</td>\n      <td>NaN</td>\n      <td>NaN</td>\n      <td>T5M 4G5</td>\n      <td>edmonton</td>\n      <td>ab</td>\n      <td>NaN</td>\n      <td>Edmonton</td>\n      <td>NaN</td>\n      <td>48</td>\n      <td>NaN</td>\n      <td>NaN</td>\n    </tr>\n    <tr>\n      <th>10</th>\n      <td>Alberta Children's Hospital</td>\n      <td>pediatric</td>\n      <td>Hospitals</td>\n      <td>Public Health Agency of Canada</td>\n      <td>NaN</td>\n      <td>28</td>\n      <td>oki dr nw</td>\n      <td>T3B 6A8</td>\n      <td>calgary</td>\n      <td>ab</td>\n      <td>28 Oki Dr NW</td>\n      <td>Calgary</td>\n      <td>4806016.0</td>\n      <td>48</td>\n      <td>51.074582</td>\n      <td>-114.148426</td>\n    </tr>\n    <tr>\n      <th>100</th>\n      <td>Devon General Hospital</td>\n      <td>general</td>\n      <td>Hospitals</td>\n      <td>Public Health Agency of Canada</td>\n      <td>NaN</td>\n      <td>101</td>\n      <td>erie st s</td>\n      <td>T9G 1A6</td>\n      <td>devon</td>\n      <td>ab</td>\n      <td>101 erie st. s. devon ab t9g 1a6</td>\n      <td>Devon</td>\n      <td>4811018.0</td>\n      <td>48</td>\n      <td>53.351493</td>\n      <td>-113.730785</td>\n    </tr>\n    <tr>\n      <th>1000</th>\n      <td>Kimbelee Place</td>\n      <td>NaN</td>\n      <td>Nursing and residential care facilities</td>\n      <td>Province of British Columbia</td>\n      <td>NaN</td>\n      <td>12935</td>\n      <td>96 ave</td>\n      <td>V3V 7K6</td>\n      <td>surrey</td>\n      <td>bc</td>\n      <td>12935 96th ave surrey bc v3v 7k6</td>\n      <td>Surrey</td>\n      <td>5915004.0</td>\n      <td>59</td>\n      <td>49.177418</td>\n      <td>-122.864118</td>\n    </tr>\n    <tr>\n      <th>1001</th>\n      <td>Kimberley Special Care Home</td>\n      <td>NaN</td>\n      <td>Nursing and residential care facilities</td>\n      <td>Province of British Columbia</td>\n      <td>NaN</td>\n      <td>386</td>\n      <td>2 ave</td>\n      <td>V1A 2Z6</td>\n      <td>kimberley</td>\n      <td>bc</td>\n      <td>386 2 ave kimberley bc v1a 2z6</td>\n      <td>Kimberley</td>\n      <td>5901028.0</td>\n      <td>59</td>\n      <td>49.689998</td>\n      <td>-115.989647</td>\n    </tr>\n  </tbody>\n</table>\n</div>"
     },
     "metadata": {},
     "execution_count": 3
    }
   ],
   "source": [
    "## Import All Canadian Health Centers\n",
    "all_cad_health = pd.read_csv('../../data/raw/health_centers.csv', encoding='latin-1', index_col=0)\n",
    "all_cad_health.head()"
   ]
  },
  {
   "cell_type": "code",
   "execution_count": 4,
   "metadata": {},
   "outputs": [
    {
     "output_type": "execute_result",
     "data": {
      "text/plain": [
       "                     Source_ID                Facility_Name   Facility_Type  \\\n",
       "Index                                                                         \n",
       "3b6b57b88eebfc18d739         1               Special Centre      Provincial   \n",
       "d2c4649a9b73e4b9a21b         9    Prairiehome Colony School          Public   \n",
       "1f42a19d6f13622d52b4        11  Spring Valley Colony School          Public   \n",
       "ee1b9ebc25e097e234a0        12      FFCA High School Campus         Charter   \n",
       "ba02c44d6a0615b59317        13          The Chinese Academy  Private School   \n",
       "\n",
       "                                                         Authority_Name  \\\n",
       "Index                                                                     \n",
       "3b6b57b88eebfc18d739                                      Other Schools   \n",
       "d2c4649a9b73e4b9a21b                        The Horizon School Division   \n",
       "1f42a19d6f13622d52b4                       The Westwind School Division   \n",
       "ee1b9ebc25e097e234a0  Foundations for the Future Charter Academy Cha...   \n",
       "ba02c44d6a0615b59317                     The Chinese Academy Foundation   \n",
       "\n",
       "                     ISCED010 ISCED020 ISCED1 ISCED2 ISCED3 ISCED4Plus  ...  \\\n",
       "Index                                                                   ...   \n",
       "3b6b57b88eebfc18d739       ..        0      0      0      0         ..  ...   \n",
       "d2c4649a9b73e4b9a21b       ..        0      1      1      0         ..  ...   \n",
       "1f42a19d6f13622d52b4       ..        1      1      1      0         ..  ...   \n",
       "ee1b9ebc25e097e234a0       ..        0      0      1      1         ..  ...   \n",
       "ba02c44d6a0615b59317       ..        0      0      0      1         ..  ...   \n",
       "\n",
       "                          City Prov_Terr Postal_Code             Provider  \\\n",
       "Index                                                                       \n",
       "3b6b57b88eebfc18d739  Edmonton        AB      T5J5E6  Province of Alberta   \n",
       "d2c4649a9b73e4b9a21b     Taber        AB      T1G1Z9  Province of Alberta   \n",
       "1f42a19d6f13622d52b4  Cardston        AB      T0K0K0  Province of Alberta   \n",
       "ee1b9ebc25e097e234a0   Calgary        AB      T3B1C7  Province of Alberta   \n",
       "ba02c44d6a0615b59317   Calgary        AB      T2E2R9  Province of Alberta   \n",
       "\n",
       "                         Latitude     Longitude Geo_Source   CSDUID  CSDNAME  \\\n",
       "Index                                                                          \n",
       "3b6b57b88eebfc18d739           ..            ..         ..       ..       ..   \n",
       "d2c4649a9b73e4b9a21b  49.80021032  -112.1398926       AGOL  4802022    Taber   \n",
       "1f42a19d6f13622d52b4           ..            ..         ..       ..       ..   \n",
       "ee1b9ebc25e097e234a0   51.0700106  -114.1527963       AGOL  4806016  Calgary   \n",
       "ba02c44d6a0615b59317  51.06581001  -114.0624862       AGOL  4806016  Calgary   \n",
       "\n",
       "                     PRUID  \n",
       "Index                       \n",
       "3b6b57b88eebfc18d739    48  \n",
       "d2c4649a9b73e4b9a21b    48  \n",
       "1f42a19d6f13622d52b4    48  \n",
       "ee1b9ebc25e097e234a0    48  \n",
       "ba02c44d6a0615b59317    48  \n",
       "\n",
       "[5 rows x 24 columns]"
      ],
      "text/html": "<div>\n<style scoped>\n    .dataframe tbody tr th:only-of-type {\n        vertical-align: middle;\n    }\n\n    .dataframe tbody tr th {\n        vertical-align: top;\n    }\n\n    .dataframe thead th {\n        text-align: right;\n    }\n</style>\n<table border=\"1\" class=\"dataframe\">\n  <thead>\n    <tr style=\"text-align: right;\">\n      <th></th>\n      <th>Source_ID</th>\n      <th>Facility_Name</th>\n      <th>Facility_Type</th>\n      <th>Authority_Name</th>\n      <th>ISCED010</th>\n      <th>ISCED020</th>\n      <th>ISCED1</th>\n      <th>ISCED2</th>\n      <th>ISCED3</th>\n      <th>ISCED4Plus</th>\n      <th>...</th>\n      <th>City</th>\n      <th>Prov_Terr</th>\n      <th>Postal_Code</th>\n      <th>Provider</th>\n      <th>Latitude</th>\n      <th>Longitude</th>\n      <th>Geo_Source</th>\n      <th>CSDUID</th>\n      <th>CSDNAME</th>\n      <th>PRUID</th>\n    </tr>\n    <tr>\n      <th>Index</th>\n      <th></th>\n      <th></th>\n      <th></th>\n      <th></th>\n      <th></th>\n      <th></th>\n      <th></th>\n      <th></th>\n      <th></th>\n      <th></th>\n      <th></th>\n      <th></th>\n      <th></th>\n      <th></th>\n      <th></th>\n      <th></th>\n      <th></th>\n      <th></th>\n      <th></th>\n      <th></th>\n      <th></th>\n    </tr>\n  </thead>\n  <tbody>\n    <tr>\n      <th>3b6b57b88eebfc18d739</th>\n      <td>1</td>\n      <td>Special Centre</td>\n      <td>Provincial</td>\n      <td>Other Schools</td>\n      <td>..</td>\n      <td>0</td>\n      <td>0</td>\n      <td>0</td>\n      <td>0</td>\n      <td>..</td>\n      <td>...</td>\n      <td>Edmonton</td>\n      <td>AB</td>\n      <td>T5J5E6</td>\n      <td>Province of Alberta</td>\n      <td>..</td>\n      <td>..</td>\n      <td>..</td>\n      <td>..</td>\n      <td>..</td>\n      <td>48</td>\n    </tr>\n    <tr>\n      <th>d2c4649a9b73e4b9a21b</th>\n      <td>9</td>\n      <td>Prairiehome Colony School</td>\n      <td>Public</td>\n      <td>The Horizon School Division</td>\n      <td>..</td>\n      <td>0</td>\n      <td>1</td>\n      <td>1</td>\n      <td>0</td>\n      <td>..</td>\n      <td>...</td>\n      <td>Taber</td>\n      <td>AB</td>\n      <td>T1G1Z9</td>\n      <td>Province of Alberta</td>\n      <td>49.80021032</td>\n      <td>-112.1398926</td>\n      <td>AGOL</td>\n      <td>4802022</td>\n      <td>Taber</td>\n      <td>48</td>\n    </tr>\n    <tr>\n      <th>1f42a19d6f13622d52b4</th>\n      <td>11</td>\n      <td>Spring Valley Colony School</td>\n      <td>Public</td>\n      <td>The Westwind School Division</td>\n      <td>..</td>\n      <td>1</td>\n      <td>1</td>\n      <td>1</td>\n      <td>0</td>\n      <td>..</td>\n      <td>...</td>\n      <td>Cardston</td>\n      <td>AB</td>\n      <td>T0K0K0</td>\n      <td>Province of Alberta</td>\n      <td>..</td>\n      <td>..</td>\n      <td>..</td>\n      <td>..</td>\n      <td>..</td>\n      <td>48</td>\n    </tr>\n    <tr>\n      <th>ee1b9ebc25e097e234a0</th>\n      <td>12</td>\n      <td>FFCA High School Campus</td>\n      <td>Charter</td>\n      <td>Foundations for the Future Charter Academy Cha...</td>\n      <td>..</td>\n      <td>0</td>\n      <td>0</td>\n      <td>1</td>\n      <td>1</td>\n      <td>..</td>\n      <td>...</td>\n      <td>Calgary</td>\n      <td>AB</td>\n      <td>T3B1C7</td>\n      <td>Province of Alberta</td>\n      <td>51.0700106</td>\n      <td>-114.1527963</td>\n      <td>AGOL</td>\n      <td>4806016</td>\n      <td>Calgary</td>\n      <td>48</td>\n    </tr>\n    <tr>\n      <th>ba02c44d6a0615b59317</th>\n      <td>13</td>\n      <td>The Chinese Academy</td>\n      <td>Private School</td>\n      <td>The Chinese Academy Foundation</td>\n      <td>..</td>\n      <td>0</td>\n      <td>0</td>\n      <td>0</td>\n      <td>1</td>\n      <td>..</td>\n      <td>...</td>\n      <td>Calgary</td>\n      <td>AB</td>\n      <td>T2E2R9</td>\n      <td>Province of Alberta</td>\n      <td>51.06581001</td>\n      <td>-114.0624862</td>\n      <td>AGOL</td>\n      <td>4806016</td>\n      <td>Calgary</td>\n      <td>48</td>\n    </tr>\n  </tbody>\n</table>\n<p>5 rows × 24 columns</p>\n</div>"
     },
     "metadata": {},
     "execution_count": 4
    }
   ],
   "source": [
    "## Import All Canadian Education Centers \n",
    "all_cad_education = pd.read_csv('../../data/raw/education_centers.csv', encoding='latin-1', index_col=0)\n",
    "all_cad_education.head()"
   ]
  },
  {
   "cell_type": "code",
   "execution_count": 5,
   "metadata": {},
   "outputs": [
    {
     "output_type": "execute_result",
     "data": {
      "text/plain": [
       "    CSDuid            CSDname CSDtype  SACtype  CSDpop_2016  CSDtdwell_2016  \\\n",
       "0  5915038             Anmore      VL        1         2210             723   \n",
       "1  5915809  Barnston Island 3     IRI        1           49              16   \n",
       "2  5915036           Belcarra      VL        1          643             292   \n",
       "3  5915062       Bowen Island      IM        1         3680            1915   \n",
       "4  5915025            Burnaby      CY        1       232755           98030   \n",
       "\n",
       "   CSDurdwell_2016  CSDpop_2011c  CSDtdwell_2011c  CSDurdwell_2011c  ...  \\\n",
       "0              688           NaN              NaN               NaN  ...   \n",
       "1               15           NaN              NaN               NaN  ...   \n",
       "2              253           NaN              NaN               NaN  ...   \n",
       "3             1495           NaN              NaN               NaN  ...   \n",
       "4            92201           NaN              NaN               NaN  ...   \n",
       "\n",
       "     CSDrplamx    CSDrplamy   CSDrplat   CSDrplong  PRuid  CDcode  CSDcode  \\\n",
       "0  4039765.366  2003553.732  49.341176 -122.841821     59      15       38   \n",
       "1  4041263.200  1983586.804  49.188550 -122.695375     59      15      809   \n",
       "2  4037012.683  2004918.421  49.340428 -122.884139     59      15       36   \n",
       "3  4008366.715  2023796.683  49.368603 -123.355030     59      15       62   \n",
       "4  4026908.577  1998506.310  49.246785 -122.965551     59      15       25   \n",
       "\n",
       "   ERcode  CCScode  CMAuid  \n",
       "0      20       20     933  \n",
       "1      20       20     933  \n",
       "2      20       20     933  \n",
       "3      20       20     933  \n",
       "4      20       25     933  \n",
       "\n",
       "[5 rows x 29 columns]"
      ],
      "text/html": "<div>\n<style scoped>\n    .dataframe tbody tr th:only-of-type {\n        vertical-align: middle;\n    }\n\n    .dataframe tbody tr th {\n        vertical-align: top;\n    }\n\n    .dataframe thead th {\n        text-align: right;\n    }\n</style>\n<table border=\"1\" class=\"dataframe\">\n  <thead>\n    <tr style=\"text-align: right;\">\n      <th></th>\n      <th>CSDuid</th>\n      <th>CSDname</th>\n      <th>CSDtype</th>\n      <th>SACtype</th>\n      <th>CSDpop_2016</th>\n      <th>CSDtdwell_2016</th>\n      <th>CSDurdwell_2016</th>\n      <th>CSDpop_2011c</th>\n      <th>CSDtdwell_2011c</th>\n      <th>CSDurdwell_2011c</th>\n      <th>...</th>\n      <th>CSDrplamx</th>\n      <th>CSDrplamy</th>\n      <th>CSDrplat</th>\n      <th>CSDrplong</th>\n      <th>PRuid</th>\n      <th>CDcode</th>\n      <th>CSDcode</th>\n      <th>ERcode</th>\n      <th>CCScode</th>\n      <th>CMAuid</th>\n    </tr>\n  </thead>\n  <tbody>\n    <tr>\n      <th>0</th>\n      <td>5915038</td>\n      <td>Anmore</td>\n      <td>VL</td>\n      <td>1</td>\n      <td>2210</td>\n      <td>723</td>\n      <td>688</td>\n      <td>NaN</td>\n      <td>NaN</td>\n      <td>NaN</td>\n      <td>...</td>\n      <td>4039765.366</td>\n      <td>2003553.732</td>\n      <td>49.341176</td>\n      <td>-122.841821</td>\n      <td>59</td>\n      <td>15</td>\n      <td>38</td>\n      <td>20</td>\n      <td>20</td>\n      <td>933</td>\n    </tr>\n    <tr>\n      <th>1</th>\n      <td>5915809</td>\n      <td>Barnston Island 3</td>\n      <td>IRI</td>\n      <td>1</td>\n      <td>49</td>\n      <td>16</td>\n      <td>15</td>\n      <td>NaN</td>\n      <td>NaN</td>\n      <td>NaN</td>\n      <td>...</td>\n      <td>4041263.200</td>\n      <td>1983586.804</td>\n      <td>49.188550</td>\n      <td>-122.695375</td>\n      <td>59</td>\n      <td>15</td>\n      <td>809</td>\n      <td>20</td>\n      <td>20</td>\n      <td>933</td>\n    </tr>\n    <tr>\n      <th>2</th>\n      <td>5915036</td>\n      <td>Belcarra</td>\n      <td>VL</td>\n      <td>1</td>\n      <td>643</td>\n      <td>292</td>\n      <td>253</td>\n      <td>NaN</td>\n      <td>NaN</td>\n      <td>NaN</td>\n      <td>...</td>\n      <td>4037012.683</td>\n      <td>2004918.421</td>\n      <td>49.340428</td>\n      <td>-122.884139</td>\n      <td>59</td>\n      <td>15</td>\n      <td>36</td>\n      <td>20</td>\n      <td>20</td>\n      <td>933</td>\n    </tr>\n    <tr>\n      <th>3</th>\n      <td>5915062</td>\n      <td>Bowen Island</td>\n      <td>IM</td>\n      <td>1</td>\n      <td>3680</td>\n      <td>1915</td>\n      <td>1495</td>\n      <td>NaN</td>\n      <td>NaN</td>\n      <td>NaN</td>\n      <td>...</td>\n      <td>4008366.715</td>\n      <td>2023796.683</td>\n      <td>49.368603</td>\n      <td>-123.355030</td>\n      <td>59</td>\n      <td>15</td>\n      <td>62</td>\n      <td>20</td>\n      <td>20</td>\n      <td>933</td>\n    </tr>\n    <tr>\n      <th>4</th>\n      <td>5915025</td>\n      <td>Burnaby</td>\n      <td>CY</td>\n      <td>1</td>\n      <td>232755</td>\n      <td>98030</td>\n      <td>92201</td>\n      <td>NaN</td>\n      <td>NaN</td>\n      <td>NaN</td>\n      <td>...</td>\n      <td>4026908.577</td>\n      <td>1998506.310</td>\n      <td>49.246785</td>\n      <td>-122.965551</td>\n      <td>59</td>\n      <td>15</td>\n      <td>25</td>\n      <td>20</td>\n      <td>25</td>\n      <td>933</td>\n    </tr>\n  </tbody>\n</table>\n<p>5 rows × 29 columns</p>\n</div>"
     },
     "metadata": {},
     "execution_count": 5
    }
   ],
   "source": [
    "## Import Vancouver Metropolitan Area Census Subdivisions\n",
    "bc_VancouverMA = pd.read_csv('../../data/raw/Census_Subdivisions_Vancouver_Metropolitan_Area.csv')\n",
    "bc_VancouverMA.head()"
   ]
  },
  {
   "cell_type": "code",
   "execution_count": 6,
   "metadata": {},
   "outputs": [
    {
     "output_type": "execute_result",
     "data": {
      "text/plain": [
       "array(['Hazelton', 'One Hundred Mile House', 'Richmond', 'Vancouver',\n",
       "       'Victoria', 'Burnaby', 'Abbotsford', 'Langley', 'Kent',\n",
       "       'Squawkum Creek 3', 'Greater Vancouver A', 'Prince George',\n",
       "       'Port Alberni', 'Alert Bay', 'Cariboo K', 'New Westminster',\n",
       "       'Cariboo J', 'Armstrong', 'Nakusp', 'Nanaimo', 'Golden',\n",
       "       'Maple Ridge', 'Kelowna', 'Port Moody', 'Ashcroft',\n",
       "       'Stikine Region', 'Whistler', 'Cowichan Valley A',\n",
       "       'Alberni-Clayoquot A', '..', 'Barriere', 'Duncan',\n",
       "       'Campbell River', 'Kamloops', 'Fruitvale', 'North Vancouver',\n",
       "       'Central Coast E', 'Cariboo F',\n",
       "       'Thompson-Nicola B (Thompson Headwaters)', 'Fraser Valley A',\n",
       "       'Kootenay Boundary D / Rural Grand Forks', 'Bowen Island',\n",
       "       'Nanaimo H', 'Squamish', 'Squamish-Lillooet A', 'Cariboo L',\n",
       "       'Slosh 1', 'Squamish-Lillooet D', 'Sidney', 'Saanich', 'Smithers',\n",
       "       'Kitimat', 'Burns Lake', 'Central Saanich', 'Cache Creek',\n",
       "       'Vernon', 'Chilliwack', 'Cranbrook', 'Castlegar', 'Esquimalt',\n",
       "       'Nelson', 'Chase', 'North Cowichan', 'North Okanagan E',\n",
       "       'Chetwynd', 'Surrey', 'Coquitlam', 'Clearwater', 'Clinton',\n",
       "       'Comox Valley B (Lazo North)', 'Comox', 'Courtenay',\n",
       "       'Strathcona B', 'Quesnel', 'Cowichan Valley D', 'Lake Cowichan',\n",
       "       'View Royal', 'Creston', 'Central Kootenay C', 'Trail',\n",
       "       'Cumberland', 'Dawson Creek', 'Delta', 'Comox Valley A',\n",
       "       'Okanagan-Similkameen D', 'Sicamous', 'Elkford', 'Enderby',\n",
       "       'Columbia-Shuswap D', 'Fernie', 'West Vancouver', 'Cariboo H',\n",
       "       'Northern Rockies', 'Colwood', 'Fort St. James', 'Fort St. John',\n",
       "       'East Kootenay C', 'Scowlitz 1', 'Fraser Lake', 'Nanaimo C',\n",
       "       'Southern Gulf Islands', 'Gibsons', 'Gold River', 'Langford',\n",
       "       'Grand Forks', 'Granisle', 'Greenwood', 'Okanagan-Similkameen G',\n",
       "       'Skidegate 1', 'Queen Charlotte', 'Terrace', 'Fraser Valley B',\n",
       "       'Hope', 'Houston', \"Hudson's Hope\", 'Invermere', 'Wells',\n",
       "       'Keremeos', 'Midway', 'Summerland', 'Capilano 5', 'Kimberley',\n",
       "       'Kaslo', 'Cariboo G', 'Ladysmith', 'Lake Country',\n",
       "       'Fraser-Fort George H', 'White Rock', 'Lillooet', 'Logan Lake',\n",
       "       'West Kelowna', 'Lumby', 'Lytton', 'Mackenzie', 'Masset',\n",
       "       'Powell River C', 'McBride', 'Cariboo D', 'Kitimat-Stikine B',\n",
       "       'Merritt', 'Metchosin', 'Sparwood',\n",
       "       'Thompson-Nicola A (Wells Gray Country)', 'Mission',\n",
       "       'Prince Rupert', 'Mount Waddington D', 'Okanagan-Similkameen E',\n",
       "       'Nazco 20', 'Osoyoos 1', 'Port Edward', 'Columbia-Shuswap F',\n",
       "       'Oak Bay', 'Valemount', 'Oliver',\n",
       "       'Thompson-Nicola J (Copper Desert Country)', 'Osoyoos',\n",
       "       'Parksville', 'Tumbler Ridge', 'Peachland', 'Pemberton',\n",
       "       'Penticton', 'Pitt Meadows', 'Port Alice', 'Port Clements',\n",
       "       'Port Hardy', 'Port McNeill', 'Gordon River 2', 'Pouce Coupe',\n",
       "       'Kamloops 1', 'Powell River', 'Princeton', 'Strathcona C',\n",
       "       'Qualicum Beach', 'Quatsino Subdivision 18', 'Radium Hot Springs',\n",
       "       'Revelstoke', 'Rossland', 'Salmo', 'Salmon Arm',\n",
       "       'Saltspring Island', 'New Denver', 'Skeena-Queen Charlotte E',\n",
       "       'Sayward', 'Sechelt', 'Central Kootenay J', 'Cowichan Valley B',\n",
       "       'Spallumcheen', 'Central Okanagan J', 'Mount Waddington A',\n",
       "       'Sooke', 'Columbia-Shuswap E', 'Williams Lake', 'Stewart',\n",
       "       'Kitimat-Stikine A', 'Duck Lake 7', 'Tahsis', 'Taylor', 'Telkwa',\n",
       "       'Port Coquitlam', 'Tofino', 'Ucluelet', 'Vanderhoof'], dtype=object)"
      ]
     },
     "metadata": {},
     "execution_count": 6
    }
   ],
   "source": [
    "## Filter amenities in BC\n",
    "bc_amenities = all_cad_amenities[all_cad_amenities.Prov_Terr=='bc']\n",
    "\n",
    "## View BC census subdivisions\n",
    "bc_amenities.CSD_Name.unique()\n"
   ]
  },
  {
   "cell_type": "code",
   "execution_count": 7,
   "metadata": {},
   "outputs": [
    {
     "output_type": "execute_result",
     "data": {
      "text/plain": [
       "{'Anmore',\n",
       " 'Barnston Island 3',\n",
       " 'Belcarra',\n",
       " 'Bowen Island',\n",
       " 'Burnaby',\n",
       " 'Burrard Inlet 3',\n",
       " 'Capilano 5',\n",
       " 'Coquitlam',\n",
       " 'Coquitlam 1',\n",
       " 'Coquitlam 2',\n",
       " 'Delta',\n",
       " 'Greater Vancouver A',\n",
       " 'Katzie 1',\n",
       " 'Katzie 2',\n",
       " 'Langley',\n",
       " 'Langley 5',\n",
       " 'Lions Bay',\n",
       " 'Maple Ridge',\n",
       " 'Matsqui 4',\n",
       " 'McMillan Island 6',\n",
       " 'Mission 1',\n",
       " 'Musqueam 2',\n",
       " 'Musqueam 4',\n",
       " 'New Westminster',\n",
       " 'North Vancouver',\n",
       " 'Pitt Meadows',\n",
       " 'Port Coquitlam',\n",
       " 'Port Moody',\n",
       " 'Richmond',\n",
       " 'Semiahmoo',\n",
       " 'Seymour Creek 2',\n",
       " 'Surrey',\n",
       " 'Tsawwassen',\n",
       " 'Vancouver',\n",
       " 'West Vancouver',\n",
       " 'White Rock',\n",
       " 'Whonnock 1'}"
      ]
     },
     "metadata": {},
     "execution_count": 7
    }
   ],
   "source": [
    "## Save Vancouver Metropolitan Area subdivisions as a set\n",
    "Vancouver_set = set(bc_VancouverMA.CSDname)\n",
    "Vancouver_set"
   ]
  },
  {
   "cell_type": "code",
   "execution_count": 16,
   "metadata": {},
   "outputs": [],
   "source": [
    "## Filter BC amenities to only those in Vancouver Metropolitan Area filter set\n",
    "gva_amenities_cluttered = bc_amenities[bc_amenities.CSD_Name.isin(Vancouver_set)]\n",
    "\n",
    "columns_to_keep = ['Latitude','Longitude', 'ODCAF_Facility_Type','Facility_Name', 'CSD_Name', 'CSDUID']\n",
    "\n",
    "## Keep only necessary columns\n",
    "gva_amenities = gva_amenities_cluttered.loc[:, columns_to_keep].reset_index()\n",
    "gva_amenities['facility_type'] = 'amenities'\n",
    "gva_amenities.rename({'Index':'ind',\n",
    "                        'Latitude':'lat',\n",
    "                        'Longitude':'lon',\n",
    "                        'facility_type':'facility_type',\n",
    "                        'ODCAF_Facility_Type':'type',\n",
    "                        'Facility_Name':'name',\n",
    "                        'CSD_Name':'city',\n",
    "                        'CSDUID':'id'}, axis = 1, inplace = True)\n",
    "#gva_amenities = gva_amenities.columns=['ind','lat','lon','facility_type','type','name','city','id']\n",
    "gva_amenities = gva_amenities[gva_amenities.columns.reindex(['id','lat','lon','facility_type', 'type','name', 'city'])[0]]"
   ]
  },
  {
   "cell_type": "code",
   "execution_count": 21,
   "metadata": {},
   "outputs": [],
   "source": [
    "# Get all education institutions in BC\n",
    "bc_education = all_cad_education[all_cad_education.Prov_Terr=='BC']\n",
    "\n",
    "## Filter BC amenities to only those in Vancouver Metropolitan Area filter set\n",
    "gva_education_cluttered = bc_education[bc_education.CSDNAME.isin(Vancouver_set)]\n",
    "\n",
    "columns_to_keep = ['Latitude','Longitude', 'Facility_Type','Facility_Name', 'CSDNAME', 'CSDUID']\n",
    "\n",
    "## Keep only necessary columns\n",
    "gva_education = gva_education_cluttered.loc[:, columns_to_keep].reset_index()\n",
    "gva_education['facility_type'] = 'education'\n",
    "gva_education = gva_education.rename(columns={'Index':'ind',\n",
    "                                              'Latitude':'lat',\n",
    "                                              'Longitude':'lon',\n",
    "                                              'facility_type':'facility_type',\n",
    "                                              'Facility_Type':'type',\n",
    "                                              'Facility_Name':'name',\n",
    "                                              'CSDNAME':'city',\n",
    "                                              'CSDUID':'id'})\n",
    "gva_education = gva_education[gva_education.columns.reindex([ 'id','lat','lon','facility_type', 'type','name', 'city'])[0]]"
   ]
  },
  {
   "cell_type": "code",
   "execution_count": 22,
   "metadata": {},
   "outputs": [
    {
     "output_type": "execute_result",
     "data": {
      "text/plain": [
       "                    lat                   lon facility_type  \\\n",
       "0           49.17899746            -122.85248     education   \n",
       "1           49.11342751             -122.7635     education   \n",
       "2           49.12593247          -122.7174404     education   \n",
       "3           49.27914252          -123.0802603     education   \n",
       "4           49.27914252          -123.0802603     education   \n",
       "..                  ...                   ...           ...   \n",
       "873  49.281804524027542  -123.110485991049032     education   \n",
       "874  49.317375747971369  -123.021087703949703     education   \n",
       "875  49.267875534797398  -123.091843073948212     education   \n",
       "876  49.133832500844129  -122.871320034783025     education   \n",
       "877  49.276709600000004   -122.91780296438841     education   \n",
       "\n",
       "                         type                                   name  \\\n",
       "0               Public School               A H P Matthew Elementary   \n",
       "1               Public School                A J McLellan Elementary   \n",
       "2               Public School                  Adams Road Elementary   \n",
       "3               Public School             Admiral Seymour Elementary   \n",
       "4              StrongStart BC     Admiral Seymour StrongStart Centre   \n",
       "..                        ...                                    ...   \n",
       "873  Technical and Vocational            Vancouver Community College   \n",
       "874                University                    Capilano University   \n",
       "875                University  Emily Carr University of Art + Design   \n",
       "876                University        Kwantlen Polytechnic University   \n",
       "877                University                Simon Fraser University   \n",
       "\n",
       "                city       id  \n",
       "0             Surrey  5915004  \n",
       "1             Surrey  5915004  \n",
       "2             Surrey  5915004  \n",
       "3          Vancouver  5915022  \n",
       "4          Vancouver  5915022  \n",
       "..               ...      ...  \n",
       "873        Vancouver  5915022  \n",
       "874  North Vancouver  5915046  \n",
       "875        Vancouver  5915022  \n",
       "876           Surrey  5915004  \n",
       "877          Burnaby  5915025  \n",
       "\n",
       "[878 rows x 7 columns]"
      ],
      "text/html": "<div>\n<style scoped>\n    .dataframe tbody tr th:only-of-type {\n        vertical-align: middle;\n    }\n\n    .dataframe tbody tr th {\n        vertical-align: top;\n    }\n\n    .dataframe thead th {\n        text-align: right;\n    }\n</style>\n<table border=\"1\" class=\"dataframe\">\n  <thead>\n    <tr style=\"text-align: right;\">\n      <th></th>\n      <th>lat</th>\n      <th>lon</th>\n      <th>facility_type</th>\n      <th>type</th>\n      <th>name</th>\n      <th>city</th>\n      <th>id</th>\n    </tr>\n  </thead>\n  <tbody>\n    <tr>\n      <th>0</th>\n      <td>49.17899746</td>\n      <td>-122.85248</td>\n      <td>education</td>\n      <td>Public School</td>\n      <td>A H P Matthew Elementary</td>\n      <td>Surrey</td>\n      <td>5915004</td>\n    </tr>\n    <tr>\n      <th>1</th>\n      <td>49.11342751</td>\n      <td>-122.7635</td>\n      <td>education</td>\n      <td>Public School</td>\n      <td>A J McLellan Elementary</td>\n      <td>Surrey</td>\n      <td>5915004</td>\n    </tr>\n    <tr>\n      <th>2</th>\n      <td>49.12593247</td>\n      <td>-122.7174404</td>\n      <td>education</td>\n      <td>Public School</td>\n      <td>Adams Road Elementary</td>\n      <td>Surrey</td>\n      <td>5915004</td>\n    </tr>\n    <tr>\n      <th>3</th>\n      <td>49.27914252</td>\n      <td>-123.0802603</td>\n      <td>education</td>\n      <td>Public School</td>\n      <td>Admiral Seymour Elementary</td>\n      <td>Vancouver</td>\n      <td>5915022</td>\n    </tr>\n    <tr>\n      <th>4</th>\n      <td>49.27914252</td>\n      <td>-123.0802603</td>\n      <td>education</td>\n      <td>StrongStart BC</td>\n      <td>Admiral Seymour StrongStart Centre</td>\n      <td>Vancouver</td>\n      <td>5915022</td>\n    </tr>\n    <tr>\n      <th>...</th>\n      <td>...</td>\n      <td>...</td>\n      <td>...</td>\n      <td>...</td>\n      <td>...</td>\n      <td>...</td>\n      <td>...</td>\n    </tr>\n    <tr>\n      <th>873</th>\n      <td>49.281804524027542</td>\n      <td>-123.110485991049032</td>\n      <td>education</td>\n      <td>Technical and Vocational</td>\n      <td>Vancouver Community College</td>\n      <td>Vancouver</td>\n      <td>5915022</td>\n    </tr>\n    <tr>\n      <th>874</th>\n      <td>49.317375747971369</td>\n      <td>-123.021087703949703</td>\n      <td>education</td>\n      <td>University</td>\n      <td>Capilano University</td>\n      <td>North Vancouver</td>\n      <td>5915046</td>\n    </tr>\n    <tr>\n      <th>875</th>\n      <td>49.267875534797398</td>\n      <td>-123.091843073948212</td>\n      <td>education</td>\n      <td>University</td>\n      <td>Emily Carr University of Art + Design</td>\n      <td>Vancouver</td>\n      <td>5915022</td>\n    </tr>\n    <tr>\n      <th>876</th>\n      <td>49.133832500844129</td>\n      <td>-122.871320034783025</td>\n      <td>education</td>\n      <td>University</td>\n      <td>Kwantlen Polytechnic University</td>\n      <td>Surrey</td>\n      <td>5915004</td>\n    </tr>\n    <tr>\n      <th>877</th>\n      <td>49.276709600000004</td>\n      <td>-122.91780296438841</td>\n      <td>education</td>\n      <td>University</td>\n      <td>Simon Fraser University</td>\n      <td>Burnaby</td>\n      <td>5915025</td>\n    </tr>\n  </tbody>\n</table>\n<p>878 rows × 7 columns</p>\n</div>"
     },
     "metadata": {},
     "execution_count": 22
    }
   ],
   "source": [
    "gva_education"
   ]
  },
  {
   "cell_type": "code",
   "execution_count": 23,
   "metadata": {},
   "outputs": [],
   "source": [
    "# Get all education institutions in BC\n",
    "bc_health = all_cad_health[all_cad_health.province=='bc']\n",
    "\n",
    "## Filter BC amenities to only those in Vancouver Metropolitan Area filter set\n",
    "gva_health_cluttered = bc_health[bc_health.CSDname.isin(Vancouver_set)]\n",
    "\n",
    "columns_to_keep = ['latitude','longitude', 'odhf_facility_type','facility_name', 'CSDname', 'CSDuid']\n",
    "\n",
    "## Keep only necessary columns\n",
    "gva_health = gva_health_cluttered.loc[:, columns_to_keep].reset_index()\n",
    "gva_health['facility_type'] = 'health'\n",
    "gva_health = gva_health.rename(columns={'Index':'id',\n",
    "                                              'latitude':'lat',\n",
    "                                              'longitude':'lon',\n",
    "                                              'facility_type':'facility_type',\n",
    "                                              'odhf_facility_type':'type',\n",
    "                                              'facility_name':'name',\n",
    "                                              'CSDname':'city',\n",
    "                                              'CSDuid':'id'})\n",
    "gva_health = gva_health[gva_health.columns.reindex(['id','lat','lon','facility_type', 'type','name', 'city'])[0]]"
   ]
  },
  {
   "cell_type": "code",
   "execution_count": 24,
   "metadata": {},
   "outputs": [
    {
     "output_type": "stream",
     "name": "stdout",
     "text": [
      "Number of Van-MA Facilities: 1871\n\nNumber of Cultural Amenities by Type: \ngallery                                 99\nmuseum                                  92\nlibrary or archives                     88\ntheatre/performance and concert hall    75\nartist                                  48\nheritage or historic site               28\nmiscellaneous                            6\nart or cultural centre                   5\nfestival site                            2\nName: type, dtype: int64\n\nNumber of Cultural Amenities by City: \nVancouver              195\nNew Westminster         80\nLangley                 39\nBurnaby                 21\nNorth Vancouver         19\nGreater Vancouver A     17\nSurrey                  17\nRichmond                13\nMaple Ridge              7\nCoquitlam                7\nPort Moody               7\nDelta                    5\nWest Vancouver           5\nWhite Rock               4\nBowen Island             3\nPitt Meadows             2\nPort Coquitlam           1\nCapilano 5               1\nName: city, dtype: int64\n\nNumber of Education Facilities by Type: \nPublic School               505\nPrivate Institution         148\nIndependent School          131\nStrongStart BC               85\nUniversity                    4\nTechnical and Vocational      3\nJunior College                2\nName: type, dtype: int64\n\nNumber of Education Facilities by City: \nVancouver              217\nSurrey                 207\nBurnaby                 71\nLangley                 68\nRichmond                52\nNorth Vancouver         51\nCoquitlam               44\nDelta                   37\nMaple Ridge             35\nNew Westminster         31\nPort Coquitlam          18\nWest Vancouver          14\nPort Moody              12\nPitt Meadows             7\nGreater Vancouver A      6\nWhite Rock               3\nBowen Island             2\nAnmore                   2\nLions Bay                1\nName: city, dtype: int64\n\nNumber of Health Facilities  by Type: \nNursing and residential care facilities    405\nAmbulatory health care services            121\nHospitals                                   24\nName: type, dtype: int64\n\nNumber of Health Facilities by City: \nVancouver              142\nSurrey                  89\nBurnaby                 58\nNorth Vancouver         54\nRichmond                46\nLangley                 40\nCoquitlam               27\nDelta                   22\nMaple Ridge             22\nNew Westminster         13\nPort Coquitlam          11\nWest Vancouver          10\nWhite Rock               5\nPitt Meadows             4\nGreater Vancouver A      3\nPort Moody               2\nBowen Island             1\nSeymour Creek 2          1\nName: city, dtype: int64\n"
     ]
    }
   ],
   "source": [
    "gva_allfacilities = gva_amenities.append([gva_education,gva_health])\n",
    "gva_allfacilities.dropna(inplace = True)\n",
    "\n",
    "## Summary\n",
    "# gva_amenities.groupby('ODCAF_Facility_Type').count().sort_values(by='Index', ascending=False).Index\n",
    "ams_by_ame_type = gva_allfacilities[gva_allfacilities.facility_type == 'amenities'].type.value_counts()\n",
    "ams_by_ame_city = gva_allfacilities[gva_allfacilities.facility_type == 'amenities'].city.value_counts()\n",
    "ams_by_edu_type = gva_allfacilities[gva_allfacilities.facility_type == 'education'].type.value_counts()\n",
    "ams_by_edu_city = gva_allfacilities[gva_allfacilities.facility_type == 'education'].city.value_counts()\n",
    "ams_by_hlth_type = gva_allfacilities[gva_allfacilities.facility_type == 'health'].type.value_counts()\n",
    "ams_by_hlth_city = gva_allfacilities[gva_allfacilities.facility_type == 'health'].city.value_counts()\n",
    "n_flts = len(gva_allfacilities)\n",
    "\n",
    "print(f'Number of Van-MA Facilities: {n_flts}',\n",
    "      f'Number of Cultural Amenities by Type: \\n{ams_by_ame_type}',\n",
    "      f'Number of Cultural Amenities by City: \\n{ams_by_ame_city}', \n",
    "      f'Number of Education Facilities by Type: \\n{ams_by_edu_type}',\n",
    "      f'Number of Education Facilities by City: \\n{ams_by_edu_city}',\n",
    "      f'Number of Health Facilities  by Type: \\n{ams_by_hlth_type}',\n",
    "      f'Number of Health Facilities by City: \\n{ams_by_hlth_city}',sep='\\n\\n')\n",
    "\n",
    "## Save\n",
    "gva_allfacilities.to_csv('../../data/efficiency/vancouver_facilities.csv', index = False)"
   ]
  },
  {
   "cell_type": "code",
   "execution_count": null,
   "metadata": {},
   "outputs": [],
   "source": []
  }
 ]
}