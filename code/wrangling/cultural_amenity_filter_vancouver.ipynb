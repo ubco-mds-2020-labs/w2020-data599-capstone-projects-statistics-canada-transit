{
 "metadata": {
  "language_info": {
   "codemirror_mode": {
    "name": "ipython",
    "version": 3
   },
   "file_extension": ".py",
   "mimetype": "text/x-python",
   "name": "python",
   "nbconvert_exporter": "python",
   "pygments_lexer": "ipython3",
   "version": "3.8.3"
  },
  "orig_nbformat": 2,
  "kernelspec": {
   "name": "python383jvsc74a57bd0b49af92716124a3dcdffffc9745ca4adb6a99ad9a5084f8f6ea1cee1a8d52ff7",
   "display_name": "Python 3.8.3 64-bit ('base': conda)"
  }
 },
 "nbformat": 4,
 "nbformat_minor": 2,
 "cells": [
  {
   "cell_type": "code",
   "execution_count": 5,
   "metadata": {},
   "outputs": [],
   "source": [
    "## Libraries\n",
    "import pandas as pd\n",
    "import numpy as np"
   ]
  },
  {
   "cell_type": "code",
   "execution_count": 6,
   "metadata": {},
   "outputs": [
    {
     "output_type": "execute_result",
     "data": {
      "text/plain": [
       "                           Facility_Name  ...     Longitude\n",
       "Index                                     ...              \n",
       "1                       #Hashtag Gallery  ...  -79.40803272\n",
       "2      'Ksan Historical Village & Museum  ...  -127.6428124\n",
       "3                   'School Days' Museum  ...   -66.6419017\n",
       "4                       10 Austin Street  ...  -64.78022946\n",
       "5                  10 Gates Dancing Inc.  ...  -75.71536766\n",
       "\n",
       "[5 rows x 16 columns]"
      ],
      "text/html": "<div>\n<style scoped>\n    .dataframe tbody tr th:only-of-type {\n        vertical-align: middle;\n    }\n\n    .dataframe tbody tr th {\n        vertical-align: top;\n    }\n\n    .dataframe thead th {\n        text-align: right;\n    }\n</style>\n<table border=\"1\" class=\"dataframe\">\n  <thead>\n    <tr style=\"text-align: right;\">\n      <th></th>\n      <th>Facility_Name</th>\n      <th>Source_Facility_Type</th>\n      <th>ODCAF_Facility_Type</th>\n      <th>Provider</th>\n      <th>Unit</th>\n      <th>Street_No</th>\n      <th>Street_Name</th>\n      <th>Postal_Code</th>\n      <th>City</th>\n      <th>Prov_Terr</th>\n      <th>Source_Format_Address</th>\n      <th>CSD_Name</th>\n      <th>CSDUID</th>\n      <th>PRUID</th>\n      <th>Latitude</th>\n      <th>Longitude</th>\n    </tr>\n    <tr>\n      <th>Index</th>\n      <th></th>\n      <th></th>\n      <th></th>\n      <th></th>\n      <th></th>\n      <th></th>\n      <th></th>\n      <th></th>\n      <th></th>\n      <th></th>\n      <th></th>\n      <th></th>\n      <th></th>\n      <th></th>\n      <th></th>\n      <th></th>\n    </tr>\n  </thead>\n  <tbody>\n    <tr>\n      <th>1</th>\n      <td>#Hashtag Gallery</td>\n      <td>..</td>\n      <td>gallery</td>\n      <td>toronto</td>\n      <td>..</td>\n      <td>801</td>\n      <td>dundas st w</td>\n      <td>M6J 1V2</td>\n      <td>toronto</td>\n      <td>on</td>\n      <td>801 dundas st w</td>\n      <td>Toronto</td>\n      <td>3520005</td>\n      <td>35</td>\n      <td>43.65169472</td>\n      <td>-79.40803272</td>\n    </tr>\n    <tr>\n      <th>2</th>\n      <td>'Ksan Historical Village &amp; Museum</td>\n      <td>historic site-building or park</td>\n      <td>museum</td>\n      <td>canadian museums association</td>\n      <td>..</td>\n      <td>1500</td>\n      <td>62 hwy</td>\n      <td>V0J 1Y0</td>\n      <td>hazelton</td>\n      <td>bc</td>\n      <td>1500 hwy 62 hazelton british columbia v0j 1y0 ...</td>\n      <td>Hazelton</td>\n      <td>5949022</td>\n      <td>59</td>\n      <td>55.2645508</td>\n      <td>-127.6428124</td>\n    </tr>\n    <tr>\n      <th>3</th>\n      <td>'School Days' Museum</td>\n      <td>community/regional museum</td>\n      <td>museum</td>\n      <td>canadian museums association</td>\n      <td>..</td>\n      <td>427</td>\n      <td>queen st</td>\n      <td>E3B 5R6</td>\n      <td>fredericton</td>\n      <td>nb</td>\n      <td>427 queen st fredericton new brunswick e3b 5r6...</td>\n      <td>Fredericton</td>\n      <td>1310032</td>\n      <td>13</td>\n      <td>45.963283</td>\n      <td>-66.6419017</td>\n    </tr>\n    <tr>\n      <th>4</th>\n      <td>10 Austin Street</td>\n      <td>built heritage properties</td>\n      <td>heritage or historic site</td>\n      <td>moncton</td>\n      <td>..</td>\n      <td>10</td>\n      <td>austin st</td>\n      <td>E1C 1Z6</td>\n      <td>moncton</td>\n      <td>nb</td>\n      <td>10 austin st</td>\n      <td>Moncton</td>\n      <td>1307022</td>\n      <td>13</td>\n      <td>46.09247776</td>\n      <td>-64.78022946</td>\n    </tr>\n    <tr>\n      <th>5</th>\n      <td>10 Gates Dancing Inc.</td>\n      <td>arts</td>\n      <td>miscellaneous</td>\n      <td>ottawa</td>\n      <td>..</td>\n      <td>..</td>\n      <td>..</td>\n      <td>..</td>\n      <td>ottawa</td>\n      <td>on</td>\n      <td>..</td>\n      <td>Ottawa</td>\n      <td>3506008</td>\n      <td>35</td>\n      <td>45.40856224</td>\n      <td>-75.71536766</td>\n    </tr>\n  </tbody>\n</table>\n</div>"
     },
     "metadata": {},
     "execution_count": 6
    }
   ],
   "source": [
    "## Import All Canadian Amenities\n",
    "all_cad_amenities = pd.read_csv('../../data/raw/ODCAF_v1.0.csv', encoding='latin-1', index_col=0)\n",
    "all_cad_amenities.head()"
   ]
  },
  {
   "cell_type": "code",
   "execution_count": 7,
   "metadata": {},
   "outputs": [
    {
     "output_type": "execute_result",
     "data": {
      "text/plain": [
       "    CSDuid            CSDname CSDtype  ...  ERcode  CCScode  CMAuid\n",
       "0  5915038             Anmore      VL  ...      20       20     933\n",
       "1  5915809  Barnston Island 3     IRI  ...      20       20     933\n",
       "2  5915036           Belcarra      VL  ...      20       20     933\n",
       "3  5915062       Bowen Island      IM  ...      20       20     933\n",
       "4  5915025            Burnaby      CY  ...      20       25     933\n",
       "\n",
       "[5 rows x 29 columns]"
      ],
      "text/html": "<div>\n<style scoped>\n    .dataframe tbody tr th:only-of-type {\n        vertical-align: middle;\n    }\n\n    .dataframe tbody tr th {\n        vertical-align: top;\n    }\n\n    .dataframe thead th {\n        text-align: right;\n    }\n</style>\n<table border=\"1\" class=\"dataframe\">\n  <thead>\n    <tr style=\"text-align: right;\">\n      <th></th>\n      <th>CSDuid</th>\n      <th>CSDname</th>\n      <th>CSDtype</th>\n      <th>SACtype</th>\n      <th>CSDpop_2016</th>\n      <th>CSDtdwell_2016</th>\n      <th>CSDurdwell_2016</th>\n      <th>CSDpop_2011c</th>\n      <th>CSDtdwell_2011c</th>\n      <th>CSDurdwell_2011c</th>\n      <th>CSDpop_2011</th>\n      <th>CSDpop_2011a</th>\n      <th>CSDtdwell_2011a</th>\n      <th>CSDurdwell_2011a</th>\n      <th>CSDarea</th>\n      <th>CSDadj_2011</th>\n      <th>a_flag</th>\n      <th>CSDir_2011</th>\n      <th>CSDir_2016</th>\n      <th>CSDrplamx</th>\n      <th>CSDrplamy</th>\n      <th>CSDrplat</th>\n      <th>CSDrplong</th>\n      <th>PRuid</th>\n      <th>CDcode</th>\n      <th>CSDcode</th>\n      <th>ERcode</th>\n      <th>CCScode</th>\n      <th>CMAuid</th>\n    </tr>\n  </thead>\n  <tbody>\n    <tr>\n      <th>0</th>\n      <td>5915038</td>\n      <td>Anmore</td>\n      <td>VL</td>\n      <td>1</td>\n      <td>2210</td>\n      <td>723</td>\n      <td>688</td>\n      <td>NaN</td>\n      <td>NaN</td>\n      <td>NaN</td>\n      <td>2092</td>\n      <td>2092</td>\n      <td>706</td>\n      <td>628</td>\n      <td>27.5461</td>\n      <td>0</td>\n      <td>0</td>\n      <td>0</td>\n      <td>0</td>\n      <td>4039765.366</td>\n      <td>2003553.732</td>\n      <td>49.341176</td>\n      <td>-122.841821</td>\n      <td>59</td>\n      <td>15</td>\n      <td>38</td>\n      <td>20</td>\n      <td>20</td>\n      <td>933</td>\n    </tr>\n    <tr>\n      <th>1</th>\n      <td>5915809</td>\n      <td>Barnston Island 3</td>\n      <td>IRI</td>\n      <td>1</td>\n      <td>49</td>\n      <td>16</td>\n      <td>15</td>\n      <td>NaN</td>\n      <td>NaN</td>\n      <td>NaN</td>\n      <td>0</td>\n      <td>47</td>\n      <td>18</td>\n      <td>18</td>\n      <td>0.5836</td>\n      <td>1</td>\n      <td>1</td>\n      <td>0</td>\n      <td>0</td>\n      <td>4041263.200</td>\n      <td>1983586.804</td>\n      <td>49.188550</td>\n      <td>-122.695375</td>\n      <td>59</td>\n      <td>15</td>\n      <td>809</td>\n      <td>20</td>\n      <td>20</td>\n      <td>933</td>\n    </tr>\n    <tr>\n      <th>2</th>\n      <td>5915036</td>\n      <td>Belcarra</td>\n      <td>VL</td>\n      <td>1</td>\n      <td>643</td>\n      <td>292</td>\n      <td>253</td>\n      <td>NaN</td>\n      <td>NaN</td>\n      <td>NaN</td>\n      <td>644</td>\n      <td>644</td>\n      <td>292</td>\n      <td>268</td>\n      <td>5.5018</td>\n      <td>0</td>\n      <td>0</td>\n      <td>0</td>\n      <td>0</td>\n      <td>4037012.683</td>\n      <td>2004918.421</td>\n      <td>49.340428</td>\n      <td>-122.884139</td>\n      <td>59</td>\n      <td>15</td>\n      <td>36</td>\n      <td>20</td>\n      <td>20</td>\n      <td>933</td>\n    </tr>\n    <tr>\n      <th>3</th>\n      <td>5915062</td>\n      <td>Bowen Island</td>\n      <td>IM</td>\n      <td>1</td>\n      <td>3680</td>\n      <td>1915</td>\n      <td>1495</td>\n      <td>NaN</td>\n      <td>NaN</td>\n      <td>NaN</td>\n      <td>3402</td>\n      <td>3402</td>\n      <td>1760</td>\n      <td>1345</td>\n      <td>50.1352</td>\n      <td>0</td>\n      <td>0</td>\n      <td>0</td>\n      <td>0</td>\n      <td>4008366.715</td>\n      <td>2023796.683</td>\n      <td>49.368603</td>\n      <td>-123.355030</td>\n      <td>59</td>\n      <td>15</td>\n      <td>62</td>\n      <td>20</td>\n      <td>20</td>\n      <td>933</td>\n    </tr>\n    <tr>\n      <th>4</th>\n      <td>5915025</td>\n      <td>Burnaby</td>\n      <td>CY</td>\n      <td>1</td>\n      <td>232755</td>\n      <td>98030</td>\n      <td>92201</td>\n      <td>NaN</td>\n      <td>NaN</td>\n      <td>NaN</td>\n      <td>223218</td>\n      <td>223218</td>\n      <td>91383</td>\n      <td>86839</td>\n      <td>90.6118</td>\n      <td>0</td>\n      <td>0</td>\n      <td>0</td>\n      <td>0</td>\n      <td>4026908.577</td>\n      <td>1998506.310</td>\n      <td>49.246785</td>\n      <td>-122.965551</td>\n      <td>59</td>\n      <td>15</td>\n      <td>25</td>\n      <td>20</td>\n      <td>25</td>\n      <td>933</td>\n    </tr>\n  </tbody>\n</table>\n</div>"
     },
     "metadata": {},
     "execution_count": 7
    }
   ],
   "source": [
    "## Import Vancouver Metropolitan Area Census Subdivisions\n",
    "bc_VancouverMA = pd.read_csv('../../data/raw/CSD_VancouverMA.csv')\n",
    "bc_VancouverMA.head()"
   ]
  },
  {
   "cell_type": "code",
   "execution_count": 8,
   "metadata": {},
   "outputs": [
    {
     "output_type": "execute_result",
     "data": {
      "text/plain": [
       "array(['Hazelton', 'One Hundred Mile House', 'Richmond', 'Vancouver',\n",
       "       'Victoria', 'Burnaby', 'Abbotsford', 'Langley', 'Kent',\n",
       "       'Squawkum Creek 3', 'Greater Vancouver A', 'Prince George',\n",
       "       'Port Alberni', 'Alert Bay', 'Cariboo K', 'New Westminster',\n",
       "       'Cariboo J', 'Armstrong', 'Nakusp', 'Nanaimo', 'Golden',\n",
       "       'Maple Ridge', 'Kelowna', 'Port Moody', 'Ashcroft',\n",
       "       'Stikine Region', 'Whistler', 'Cowichan Valley A',\n",
       "       'Alberni-Clayoquot A', '..', 'Barriere', 'Duncan',\n",
       "       'Campbell River', 'Kamloops', 'Fruitvale', 'North Vancouver',\n",
       "       'Central Coast E', 'Cariboo F',\n",
       "       'Thompson-Nicola B (Thompson Headwaters)', 'Fraser Valley A',\n",
       "       'Kootenay Boundary D / Rural Grand Forks', 'Bowen Island',\n",
       "       'Nanaimo H', 'Squamish', 'Squamish-Lillooet A', 'Cariboo L',\n",
       "       'Slosh 1', 'Squamish-Lillooet D', 'Sidney', 'Saanich', 'Smithers',\n",
       "       'Kitimat', 'Burns Lake', 'Central Saanich', 'Cache Creek',\n",
       "       'Vernon', 'Chilliwack', 'Cranbrook', 'Castlegar', 'Esquimalt',\n",
       "       'Nelson', 'Chase', 'North Cowichan', 'North Okanagan E',\n",
       "       'Chetwynd', 'Surrey', 'Coquitlam', 'Clearwater', 'Clinton',\n",
       "       'Comox Valley B (Lazo North)', 'Comox', 'Courtenay',\n",
       "       'Strathcona B', 'Quesnel', 'Cowichan Valley D', 'Lake Cowichan',\n",
       "       'View Royal', 'Creston', 'Central Kootenay C', 'Trail',\n",
       "       'Cumberland', 'Dawson Creek', 'Delta', 'Comox Valley A',\n",
       "       'Okanagan-Similkameen D', 'Sicamous', 'Elkford', 'Enderby',\n",
       "       'Columbia-Shuswap D', 'Fernie', 'West Vancouver', 'Cariboo H',\n",
       "       'Northern Rockies', 'Colwood', 'Fort St. James', 'Fort St. John',\n",
       "       'East Kootenay C', 'Scowlitz 1', 'Fraser Lake', 'Nanaimo C',\n",
       "       'Southern Gulf Islands', 'Gibsons', 'Gold River', 'Langford',\n",
       "       'Grand Forks', 'Granisle', 'Greenwood', 'Okanagan-Similkameen G',\n",
       "       'Skidegate 1', 'Queen Charlotte', 'Terrace', 'Fraser Valley B',\n",
       "       'Hope', 'Houston', \"Hudson's Hope\", 'Invermere', 'Wells',\n",
       "       'Keremeos', 'Midway', 'Summerland', 'Capilano 5', 'Kimberley',\n",
       "       'Kaslo', 'Cariboo G', 'Ladysmith', 'Lake Country',\n",
       "       'Fraser-Fort George H', 'White Rock', 'Lillooet', 'Logan Lake',\n",
       "       'West Kelowna', 'Lumby', 'Lytton', 'Mackenzie', 'Masset',\n",
       "       'Powell River C', 'McBride', 'Cariboo D', 'Kitimat-Stikine B',\n",
       "       'Merritt', 'Metchosin', 'Sparwood',\n",
       "       'Thompson-Nicola A (Wells Gray Country)', 'Mission',\n",
       "       'Prince Rupert', 'Mount Waddington D', 'Okanagan-Similkameen E',\n",
       "       'Nazco 20', 'Osoyoos 1', 'Port Edward', 'Columbia-Shuswap F',\n",
       "       'Oak Bay', 'Valemount', 'Oliver',\n",
       "       'Thompson-Nicola J (Copper Desert Country)', 'Osoyoos',\n",
       "       'Parksville', 'Tumbler Ridge', 'Peachland', 'Pemberton',\n",
       "       'Penticton', 'Pitt Meadows', 'Port Alice', 'Port Clements',\n",
       "       'Port Hardy', 'Port McNeill', 'Gordon River 2', 'Pouce Coupe',\n",
       "       'Kamloops 1', 'Powell River', 'Princeton', 'Strathcona C',\n",
       "       'Qualicum Beach', 'Quatsino Subdivision 18', 'Radium Hot Springs',\n",
       "       'Revelstoke', 'Rossland', 'Salmo', 'Salmon Arm',\n",
       "       'Saltspring Island', 'New Denver', 'Skeena-Queen Charlotte E',\n",
       "       'Sayward', 'Sechelt', 'Central Kootenay J', 'Cowichan Valley B',\n",
       "       'Spallumcheen', 'Central Okanagan J', 'Mount Waddington A',\n",
       "       'Sooke', 'Columbia-Shuswap E', 'Williams Lake', 'Stewart',\n",
       "       'Kitimat-Stikine A', 'Duck Lake 7', 'Tahsis', 'Taylor', 'Telkwa',\n",
       "       'Port Coquitlam', 'Tofino', 'Ucluelet', 'Vanderhoof'], dtype=object)"
      ]
     },
     "metadata": {},
     "execution_count": 8
    }
   ],
   "source": [
    "## Filter amenities in BC\n",
    "bc_amenities = all_cad_amenities[all_cad_amenities.Prov_Terr=='bc']\n",
    "\n",
    "## View BC census subdivisions\n",
    "bc_amenities.CSD_Name.unique()\n"
   ]
  },
  {
   "cell_type": "code",
   "execution_count": 9,
   "metadata": {},
   "outputs": [
    {
     "output_type": "execute_result",
     "data": {
      "text/plain": [
       "{'Anmore',\n",
       " 'Barnston Island 3',\n",
       " 'Belcarra',\n",
       " 'Bowen Island',\n",
       " 'Burnaby',\n",
       " 'Burrard Inlet 3',\n",
       " 'Capilano 5',\n",
       " 'Coquitlam',\n",
       " 'Coquitlam 1',\n",
       " 'Coquitlam 2',\n",
       " 'Delta',\n",
       " 'Greater Vancouver A',\n",
       " 'Katzie 1',\n",
       " 'Katzie 2',\n",
       " 'Langley',\n",
       " 'Langley 5',\n",
       " 'Lions Bay',\n",
       " 'Maple Ridge',\n",
       " 'Matsqui 4',\n",
       " 'McMillan Island 6',\n",
       " 'Mission 1',\n",
       " 'Musqueam 2',\n",
       " 'Musqueam 4',\n",
       " 'New Westminster',\n",
       " 'North Vancouver',\n",
       " 'Pitt Meadows',\n",
       " 'Port Coquitlam',\n",
       " 'Port Moody',\n",
       " 'Richmond',\n",
       " 'Semiahmoo',\n",
       " 'Seymour Creek 2',\n",
       " 'Surrey',\n",
       " 'Tsawwassen',\n",
       " 'Vancouver',\n",
       " 'West Vancouver',\n",
       " 'White Rock',\n",
       " 'Whonnock 1'}"
      ]
     },
     "metadata": {},
     "execution_count": 9
    }
   ],
   "source": [
    "## Save Vancouver Metropolitan Area subdivisions as a set\n",
    "Vancouver_set = set(bc_VancouverMA.CSDname)\n",
    "Vancouver_set"
   ]
  },
  {
   "cell_type": "code",
   "execution_count": 10,
   "metadata": {},
   "outputs": [
    {
     "output_type": "execute_result",
     "data": {
      "text/plain": [
       "       id          lat  ...       city  city_id\n",
       "0      10   49.1763542  ...   Richmond  5915015\n",
       "1      15    49.261938  ...  Vancouver  5915022\n",
       "2      24    49.278786  ...  Vancouver  5915022\n",
       "3      41   49.2210003  ...    Burnaby  5915025\n",
       "4      97  49.14709735  ...    Langley  5915001\n",
       "..    ...          ...  ...        ...      ...\n",
       "438  9694   49.2772414  ...  Vancouver  5915022\n",
       "439  9728    49.282541  ...  Vancouver  5915022\n",
       "440  9766   49.2786795  ...  Vancouver  5915022\n",
       "441  9780   49.2600654  ...  Vancouver  5915022\n",
       "442  9787  49.14061431  ...    Langley  5915001\n",
       "\n",
       "[443 rows x 7 columns]"
      ],
      "text/html": "<div>\n<style scoped>\n    .dataframe tbody tr th:only-of-type {\n        vertical-align: middle;\n    }\n\n    .dataframe tbody tr th {\n        vertical-align: top;\n    }\n\n    .dataframe thead th {\n        text-align: right;\n    }\n</style>\n<table border=\"1\" class=\"dataframe\">\n  <thead>\n    <tr style=\"text-align: right;\">\n      <th></th>\n      <th>id</th>\n      <th>lat</th>\n      <th>lon</th>\n      <th>type</th>\n      <th>name</th>\n      <th>city</th>\n      <th>city_id</th>\n    </tr>\n  </thead>\n  <tbody>\n    <tr>\n      <th>0</th>\n      <td>10</td>\n      <td>49.1763542</td>\n      <td>-123.112783</td>\n      <td>museum</td>\n      <td>12 Service Battalion Museum</td>\n      <td>Richmond</td>\n      <td>5915015</td>\n    </tr>\n    <tr>\n      <th>1</th>\n      <td>15</td>\n      <td>49.261938</td>\n      <td>-123.151123</td>\n      <td>museum</td>\n      <td>15th Field Artillery Regiment Museum And Archives</td>\n      <td>Vancouver</td>\n      <td>5915022</td>\n    </tr>\n    <tr>\n      <th>2</th>\n      <td>24</td>\n      <td>49.278786</td>\n      <td>-123.098796</td>\n      <td>museum</td>\n      <td>221A Artist Run Centre</td>\n      <td>Vancouver</td>\n      <td>5915022</td>\n    </tr>\n    <tr>\n      <th>3</th>\n      <td>41</td>\n      <td>49.2210003</td>\n      <td>-123.0091848</td>\n      <td>artist</td>\n      <td>7302754 Canada Inc</td>\n      <td>Burnaby</td>\n      <td>5915025</td>\n    </tr>\n    <tr>\n      <th>4</th>\n      <td>97</td>\n      <td>49.14709735</td>\n      <td>-122.6467963</td>\n      <td>heritage or historic site</td>\n      <td>Abc Heritage Preschool And Child Care</td>\n      <td>Langley</td>\n      <td>5915001</td>\n    </tr>\n    <tr>\n      <th>...</th>\n      <td>...</td>\n      <td>...</td>\n      <td>...</td>\n      <td>...</td>\n      <td>...</td>\n      <td>...</td>\n      <td>...</td>\n    </tr>\n    <tr>\n      <th>438</th>\n      <td>9694</td>\n      <td>49.2772414</td>\n      <td>-123.0660915</td>\n      <td>theatre/performance and concert hall</td>\n      <td>Wise Club Hall</td>\n      <td>Vancouver</td>\n      <td>5915022</td>\n    </tr>\n    <tr>\n      <th>439</th>\n      <td>9728</td>\n      <td>49.282541</td>\n      <td>-123.107579</td>\n      <td>theatre/performance and concert hall</td>\n      <td>Woodward's Atrium</td>\n      <td>Vancouver</td>\n      <td>5915022</td>\n    </tr>\n    <tr>\n      <th>440</th>\n      <td>9766</td>\n      <td>49.2786795</td>\n      <td>-123.0707458</td>\n      <td>theatre/performance and concert hall</td>\n      <td>York Theatre</td>\n      <td>Vancouver</td>\n      <td>5915022</td>\n    </tr>\n    <tr>\n      <th>441</th>\n      <td>9780</td>\n      <td>49.2600654</td>\n      <td>-123.1151069</td>\n      <td>theatre/performance and concert hall</td>\n      <td>Yuk Yuk's Comedy Club</td>\n      <td>Vancouver</td>\n      <td>5915022</td>\n    </tr>\n    <tr>\n      <th>442</th>\n      <td>9787</td>\n      <td>49.14061431</td>\n      <td>-122.63683</td>\n      <td>heritage or historic site</td>\n      <td>Zemi Cultural Heritage Services</td>\n      <td>Langley</td>\n      <td>5915001</td>\n    </tr>\n  </tbody>\n</table>\n<p>443 rows × 7 columns</p>\n</div>"
     },
     "metadata": {},
     "execution_count": 10
    }
   ],
   "source": [
    "## Filter BC amenities to only those in Vancouver Metropolitan Area filter set\n",
    "gva_amenities_cluttered = bc_amenities[bc_amenities.CSD_Name.isin(Vancouver_set)]\n",
    "\n",
    "columns_to_keep = ['Latitude','Longitude', 'ODCAF_Facility_Type','Facility_Name', 'CSD_Name', 'CSDUID']\n",
    "\n",
    "## Keep only necessary columns\n",
    "gva_amenities = gva_amenities_cluttered.loc[:, columns_to_keep].reset_index()\n",
    "gva_amenities = gva_amenities.rename(columns={'Index':'id',\n",
    "                                              'Latitude':'lat',\n",
    "                                              'Longitude':'lon',\n",
    "                                              'ODCAF_Facility_Type':'type',\n",
    "                                              'Facility_Name':'name',\n",
    "                                              'CSD_Name':'city',\n",
    "                                              'CSDUID':'city_id'})\n",
    "\n",
    "gva_amenities"
   ]
  },
  {
   "cell_type": "code",
   "execution_count": 11,
   "metadata": {},
   "outputs": [
    {
     "output_type": "stream",
     "name": "stdout",
     "text": [
      "Number of Van-MA Cultural Amenities: 443\n\nNumber of Cultural Amenities by Type: \ngallery                                 99\nmuseum                                  92\nlibrary or archives                     88\ntheatre/performance and concert hall    75\nartist                                  48\nheritage or historic site               28\nmiscellaneous                            6\nart or cultural centre                   5\nfestival site                            2\nName: type, dtype: int64\n\nNumber of Cultural Amenities by City: \nVancouver              195\nNew Westminster         80\nLangley                 39\nBurnaby                 21\nNorth Vancouver         19\nSurrey                  17\nGreater Vancouver A     17\nRichmond                13\nCoquitlam                7\nPort Moody               7\nMaple Ridge              7\nWest Vancouver           5\nDelta                    5\nWhite Rock               4\nBowen Island             3\nPitt Meadows             2\nCapilano 5               1\nPort Coquitlam           1\nName: city, dtype: int64\n"
     ]
    }
   ],
   "source": [
    "## Summary\n",
    "# gva_amenities.groupby('ODCAF_Facility_Type').count().sort_values(by='Index', ascending=False).Index\n",
    "ams_by_type = gva_amenities.type.value_counts()\n",
    "ams_by_city = gva_amenities.city.value_counts()\n",
    "n_ams = len(gva_amenities)\n",
    "\n",
    "print(f'Number of Van-MA Cultural Amenities: {n_ams}',\n",
    "      f'Number of Cultural Amenities by Type: \\n{ams_by_type}',\n",
    "      f'Number of Cultural Amenities by City: \\n{ams_by_city}', sep='\\n\\n')\n",
    "\n",
    "## Save\n",
    "gva_amenities.to_csv('../../data/clean/vancouver_facilities_2.csv', index = False)"
   ]
  },
  {
   "cell_type": "code",
   "execution_count": null,
   "metadata": {},
   "outputs": [],
   "source": []
  }
 ]
}