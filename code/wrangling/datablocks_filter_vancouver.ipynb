{
 "metadata": {
  "language_info": {
   "codemirror_mode": {
    "name": "ipython",
    "version": 3
   },
   "file_extension": ".py",
   "mimetype": "text/x-python",
   "name": "python",
   "nbconvert_exporter": "python",
   "pygments_lexer": "ipython3",
   "version": "3.8.3"
  },
  "orig_nbformat": 2,
  "kernelspec": {
   "name": "python383jvsc74a57bd0b49af92716124a3dcdffffc9745ca4adb6a99ad9a5084f8f6ea1cee1a8d52ff7",
   "display_name": "Python 3.8.3 64-bit ('base': conda)"
  }
 },
 "nbformat": 4,
 "nbformat_minor": 2,
 "cells": [
  {
   "source": [
    "** Wrangling of Datablocks"
   ],
   "cell_type": "markdown",
   "metadata": {}
  },
  {
   "cell_type": "code",
   "execution_count": 1,
   "metadata": {},
   "outputs": [],
   "source": [
    "import pandas as pd"
   ]
  },
  {
   "cell_type": "code",
   "execution_count": 3,
   "metadata": {},
   "outputs": [
    {
     "output_type": "execute_result",
     "data": {
      "text/plain": [
       "                 id metropolitan_area  pop      lat      lon\n",
       "0       10010165001        St. John's  160  47.5300 -52.7765\n",
       "1       10010165002        St. John's   25  47.5290 -52.7793\n",
       "2       10010165006        St. John's  268  47.5265 -52.7768\n",
       "3       10010165007        St. John's   53  47.5263 -52.7726\n",
       "4       10010166001        St. John's   71  47.5268 -52.7730\n",
       "...             ...               ...  ...      ...      ...\n",
       "489671  62080028007               NaN  112  68.6235 -95.8734\n",
       "489672  62080028008               NaN    0  68.6232 -95.8756\n",
       "489673  62080028009               NaN   75  68.6230 -95.8369\n",
       "489674  62080028010               NaN   47  68.6151 -95.8479\n",
       "489675  62080028011               NaN   39  68.6204 -95.8743\n",
       "\n",
       "[489676 rows x 5 columns]"
      ],
      "text/html": "<div>\n<style scoped>\n    .dataframe tbody tr th:only-of-type {\n        vertical-align: middle;\n    }\n\n    .dataframe tbody tr th {\n        vertical-align: top;\n    }\n\n    .dataframe thead th {\n        text-align: right;\n    }\n</style>\n<table border=\"1\" class=\"dataframe\">\n  <thead>\n    <tr style=\"text-align: right;\">\n      <th></th>\n      <th>id</th>\n      <th>metropolitan_area</th>\n      <th>pop</th>\n      <th>lat</th>\n      <th>lon</th>\n    </tr>\n  </thead>\n  <tbody>\n    <tr>\n      <th>0</th>\n      <td>10010165001</td>\n      <td>St. John's</td>\n      <td>160</td>\n      <td>47.5300</td>\n      <td>-52.7765</td>\n    </tr>\n    <tr>\n      <th>1</th>\n      <td>10010165002</td>\n      <td>St. John's</td>\n      <td>25</td>\n      <td>47.5290</td>\n      <td>-52.7793</td>\n    </tr>\n    <tr>\n      <th>2</th>\n      <td>10010165006</td>\n      <td>St. John's</td>\n      <td>268</td>\n      <td>47.5265</td>\n      <td>-52.7768</td>\n    </tr>\n    <tr>\n      <th>3</th>\n      <td>10010165007</td>\n      <td>St. John's</td>\n      <td>53</td>\n      <td>47.5263</td>\n      <td>-52.7726</td>\n    </tr>\n    <tr>\n      <th>4</th>\n      <td>10010166001</td>\n      <td>St. John's</td>\n      <td>71</td>\n      <td>47.5268</td>\n      <td>-52.7730</td>\n    </tr>\n    <tr>\n      <th>...</th>\n      <td>...</td>\n      <td>...</td>\n      <td>...</td>\n      <td>...</td>\n      <td>...</td>\n    </tr>\n    <tr>\n      <th>489671</th>\n      <td>62080028007</td>\n      <td>NaN</td>\n      <td>112</td>\n      <td>68.6235</td>\n      <td>-95.8734</td>\n    </tr>\n    <tr>\n      <th>489672</th>\n      <td>62080028008</td>\n      <td>NaN</td>\n      <td>0</td>\n      <td>68.6232</td>\n      <td>-95.8756</td>\n    </tr>\n    <tr>\n      <th>489673</th>\n      <td>62080028009</td>\n      <td>NaN</td>\n      <td>75</td>\n      <td>68.6230</td>\n      <td>-95.8369</td>\n    </tr>\n    <tr>\n      <th>489674</th>\n      <td>62080028010</td>\n      <td>NaN</td>\n      <td>47</td>\n      <td>68.6151</td>\n      <td>-95.8479</td>\n    </tr>\n    <tr>\n      <th>489675</th>\n      <td>62080028011</td>\n      <td>NaN</td>\n      <td>39</td>\n      <td>68.6204</td>\n      <td>-95.8743</td>\n    </tr>\n  </tbody>\n</table>\n<p>489676 rows × 5 columns</p>\n</div>"
     },
     "metadata": {},
     "execution_count": 3
    }
   ],
   "source": [
    "DBs = pd.read_csv('../../data/raw/DBs.csv')\n",
    "DBs = DBs[['DBUID','CMANAME','DBPOP','lat','lon']]\n",
    "DBs = DBs.rename(columns = {'DBUID':'id', 'CMANAME':'metropolitan_area', 'DBPOP':'pop'})\n",
    "\n",
    "DBs"
   ]
  },
  {
   "cell_type": "code",
   "execution_count": 7,
   "metadata": {},
   "outputs": [
    {
     "output_type": "execute_result",
     "data": {
      "text/plain": [
       "                 id  pop      lat       lon\n",
       "442430  59150004004   35  49.3739 -123.2738\n",
       "442431  59150004005   50  49.3746 -123.2757\n",
       "442432  59150004006   94  49.3738 -123.2763\n",
       "442433  59150004011    0  49.3735 -123.2725\n",
       "442434  59150004012    0  49.3725 -123.2729\n",
       "...             ...  ...      ...       ...\n",
       "457622  59154055002    0  49.0044 -122.4774\n",
       "457623  59154055003    0  49.0036 -122.4762\n",
       "457624  59154055004  386  49.0029 -122.4757\n",
       "457625  59154055005    0  49.0062 -122.4772\n",
       "457626  59154056001   85  49.0053 -122.4748\n",
       "\n",
       "[15197 rows x 4 columns]"
      ],
      "text/html": "<div>\n<style scoped>\n    .dataframe tbody tr th:only-of-type {\n        vertical-align: middle;\n    }\n\n    .dataframe tbody tr th {\n        vertical-align: top;\n    }\n\n    .dataframe thead th {\n        text-align: right;\n    }\n</style>\n<table border=\"1\" class=\"dataframe\">\n  <thead>\n    <tr style=\"text-align: right;\">\n      <th></th>\n      <th>id</th>\n      <th>pop</th>\n      <th>lat</th>\n      <th>lon</th>\n    </tr>\n  </thead>\n  <tbody>\n    <tr>\n      <th>442430</th>\n      <td>59150004004</td>\n      <td>35</td>\n      <td>49.3739</td>\n      <td>-123.2738</td>\n    </tr>\n    <tr>\n      <th>442431</th>\n      <td>59150004005</td>\n      <td>50</td>\n      <td>49.3746</td>\n      <td>-123.2757</td>\n    </tr>\n    <tr>\n      <th>442432</th>\n      <td>59150004006</td>\n      <td>94</td>\n      <td>49.3738</td>\n      <td>-123.2763</td>\n    </tr>\n    <tr>\n      <th>442433</th>\n      <td>59150004011</td>\n      <td>0</td>\n      <td>49.3735</td>\n      <td>-123.2725</td>\n    </tr>\n    <tr>\n      <th>442434</th>\n      <td>59150004012</td>\n      <td>0</td>\n      <td>49.3725</td>\n      <td>-123.2729</td>\n    </tr>\n    <tr>\n      <th>...</th>\n      <td>...</td>\n      <td>...</td>\n      <td>...</td>\n      <td>...</td>\n    </tr>\n    <tr>\n      <th>457622</th>\n      <td>59154055002</td>\n      <td>0</td>\n      <td>49.0044</td>\n      <td>-122.4774</td>\n    </tr>\n    <tr>\n      <th>457623</th>\n      <td>59154055003</td>\n      <td>0</td>\n      <td>49.0036</td>\n      <td>-122.4762</td>\n    </tr>\n    <tr>\n      <th>457624</th>\n      <td>59154055004</td>\n      <td>386</td>\n      <td>49.0029</td>\n      <td>-122.4757</td>\n    </tr>\n    <tr>\n      <th>457625</th>\n      <td>59154055005</td>\n      <td>0</td>\n      <td>49.0062</td>\n      <td>-122.4772</td>\n    </tr>\n    <tr>\n      <th>457626</th>\n      <td>59154056001</td>\n      <td>85</td>\n      <td>49.0053</td>\n      <td>-122.4748</td>\n    </tr>\n  </tbody>\n</table>\n<p>15197 rows × 4 columns</p>\n</div>"
     },
     "metadata": {},
     "execution_count": 7
    }
   ],
   "source": [
    "DBsVan = DBs[DBs['metropolitan_area'] == 'Vancouver']\n",
    "DBsVan = DBsVan.drop(columns='metropolitan_area')\n",
    "\n",
    "DBsVan"
   ]
  },
  {
   "cell_type": "code",
   "execution_count": 14,
   "metadata": {},
   "outputs": [],
   "source": [
    "DBsVan.to_csv('../../data/clean/vancouver_db.csv', index=False)"
   ]
  }
 ]
}