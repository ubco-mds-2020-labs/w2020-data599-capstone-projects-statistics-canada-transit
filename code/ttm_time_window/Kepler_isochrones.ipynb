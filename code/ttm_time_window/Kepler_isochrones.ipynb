{
 "cells": [
  {
   "cell_type": "code",
   "execution_count": 1,
   "metadata": {},
   "outputs": [],
   "source": [
    "import warnings\n",
    "import keplergl\n",
    "import numpy as np\n",
    "import osmnx as ox\n",
    "import pandas as pd\n",
    "import geopandas as gpd\n",
    "import plotly.express as px\n",
    "from skgstat import Variogram\n",
    "import matplotlib.pyplot as plt\n",
    "from shapely.geometry import Point\n",
    "from pykrige.ok import OrdinaryKriging\n",
    "from scipy.interpolate import NearestNDInterpolator\n",
    "from tobler.area_weighted import area_interpolate\n",
    "import plotly.express as px\n",
    "import json\n",
    "import ogr\n",
    "import ipywidgets as widgets\n",
    "from IPython.display import display"
   ]
  },
  {
   "cell_type": "code",
   "execution_count": 2,
   "metadata": {},
   "outputs": [],
   "source": [
    "# this isn't really a .geojson, it's just a json list of features\n",
    "with open('van_poly.geojson') as f:\n",
    "  blocks = json.load(f)"
   ]
  },
  {
   "cell_type": "code",
   "execution_count": 3,
   "metadata": {},
   "outputs": [
    {
     "data": {
      "text/plain": [
       "{'type': 'Feature',\n",
       " 'properties': {'DBUID': '59150244005',\n",
       "  'DBRPLAMX': 4030983.593945,\n",
       "  'DBRPLAMY': 2005717.42964501,\n",
       "  'PRUID': '59',\n",
       "  'PRNAME': 'British Columbia / Colombie-Britannique',\n",
       "  'CDUID': '5915',\n",
       "  'CDNAME': 'Greater Vancouver',\n",
       "  'CDTYPE': 'RD',\n",
       "  'CCSUID': '5915020',\n",
       "  'CCSNAME': 'Greater Vancouver A',\n",
       "  'CSDUID': '5915046',\n",
       "  'CSDNAME': 'North Vancouver',\n",
       "  'CSDTYPE': 'DM',\n",
       "  'ERUID': '5920',\n",
       "  'ERNAME': 'Lower Mainland--Southwest / Lower Mainland--Sud-ouest',\n",
       "  'FEDUID': '59002',\n",
       "  'FEDNAME': 'Burnaby North--Seymour / Burnaby-Nord--Seymour',\n",
       "  'SACCODE': '933',\n",
       "  'SACTYPE': '1',\n",
       "  'CMAUID': '933',\n",
       "  'CMAPUID': '59933',\n",
       "  'CMANAME': 'Vancouver',\n",
       "  'CMATYPE': 'B',\n",
       "  'CTUID': '9330110.03',\n",
       "  'CTNAME': '0110.03',\n",
       "  'ADAUID': '59150014',\n",
       "  'DAUID': '59150244'},\n",
       " 'geometry': {'type': 'Polygon',\n",
       "  'coordinates': [[[-122.96251616532064, 49.32169736741242],\n",
       "    [-122.96222837991496, 49.321261359289615],\n",
       "    [-122.9621961748921, 49.32116586646329],\n",
       "    [-122.96234696135333, 49.321026057053416],\n",
       "    [-122.96258594868415, 49.320990470301105],\n",
       "    [-122.9628158677417, 49.32100765306524],\n",
       "    [-122.96293694647484, 49.32109213975306],\n",
       "    [-122.96318953915885, 49.321498256578465],\n",
       "    [-122.96251616532064, 49.32169736741242]]]}}"
      ]
     },
     "execution_count": 3,
     "metadata": {},
     "output_type": "execute_result"
    }
   ],
   "source": [
    "# we need to convert it to geojson format by putting back in this dictionary structure\n",
    "geo_json = {\"type\": \"FeatureCollection\", \"features\": blocks}\n",
    "geo_json[\"features\"][0]"
   ]
  },
  {
   "cell_type": "code",
   "execution_count": 4,
   "metadata": {},
   "outputs": [
    {
     "data": {
      "text/html": [
       "<div>\n",
       "<style scoped>\n",
       "    .dataframe tbody tr th:only-of-type {\n",
       "        vertical-align: middle;\n",
       "    }\n",
       "\n",
       "    .dataframe tbody tr th {\n",
       "        vertical-align: top;\n",
       "    }\n",
       "\n",
       "    .dataframe thead th {\n",
       "        text-align: right;\n",
       "    }\n",
       "</style>\n",
       "<table border=\"1\" class=\"dataframe\">\n",
       "  <thead>\n",
       "    <tr style=\"text-align: right;\">\n",
       "      <th></th>\n",
       "      <th>geometry</th>\n",
       "      <th>DBUID</th>\n",
       "    </tr>\n",
       "  </thead>\n",
       "  <tbody>\n",
       "    <tr>\n",
       "      <th>0</th>\n",
       "      <td>POLYGON ((-122.96252 49.32170, -122.96223 49.3...</td>\n",
       "      <td>59150244005</td>\n",
       "    </tr>\n",
       "    <tr>\n",
       "      <th>1</th>\n",
       "      <td>POLYGON ((-122.96832 49.34238, -122.96780 49.3...</td>\n",
       "      <td>59150244008</td>\n",
       "    </tr>\n",
       "    <tr>\n",
       "      <th>2</th>\n",
       "      <td>POLYGON ((-123.07798 49.25263, -123.07799 49.2...</td>\n",
       "      <td>59150372006</td>\n",
       "    </tr>\n",
       "    <tr>\n",
       "      <th>3</th>\n",
       "      <td>POLYGON ((-123.07991 49.25206, -123.07802 49.2...</td>\n",
       "      <td>59150372007</td>\n",
       "    </tr>\n",
       "    <tr>\n",
       "      <th>4</th>\n",
       "      <td>POLYGON ((-123.08188 49.25090, -123.08189 49.2...</td>\n",
       "      <td>59150373001</td>\n",
       "    </tr>\n",
       "  </tbody>\n",
       "</table>\n",
       "</div>"
      ],
      "text/plain": [
       "                                            geometry        DBUID\n",
       "0  POLYGON ((-122.96252 49.32170, -122.96223 49.3...  59150244005\n",
       "1  POLYGON ((-122.96832 49.34238, -122.96780 49.3...  59150244008\n",
       "2  POLYGON ((-123.07798 49.25263, -123.07799 49.2...  59150372006\n",
       "3  POLYGON ((-123.07991 49.25206, -123.07802 49.2...  59150372007\n",
       "4  POLYGON ((-123.08188 49.25090, -123.08189 49.2...  59150373001"
      ]
     },
     "execution_count": 4,
     "metadata": {},
     "output_type": "execute_result"
    }
   ],
   "source": [
    "df = gpd.GeoDataFrame.from_features(geo_json)\n",
    "df = df[['geometry', 'DBUID']]\n",
    "df.head()"
   ]
  },
  {
   "cell_type": "code",
   "execution_count": 5,
   "metadata": {},
   "outputs": [],
   "source": [
    "df[\"DBUID\"] = pd.to_numeric(df[\"DBUID\"])"
   ]
  },
  {
   "cell_type": "code",
   "execution_count": 6,
   "metadata": {},
   "outputs": [
    {
     "data": {
      "text/html": [
       "<div>\n",
       "<style scoped>\n",
       "    .dataframe tbody tr th:only-of-type {\n",
       "        vertical-align: middle;\n",
       "    }\n",
       "\n",
       "    .dataframe tbody tr th {\n",
       "        vertical-align: top;\n",
       "    }\n",
       "\n",
       "    .dataframe thead th {\n",
       "        text-align: right;\n",
       "    }\n",
       "</style>\n",
       "<table border=\"1\" class=\"dataframe\">\n",
       "  <thead>\n",
       "    <tr style=\"text-align: right;\">\n",
       "      <th></th>\n",
       "      <th>DBUID</th>\n",
       "      <th>type</th>\n",
       "      <th>time</th>\n",
       "      <th>avg_time</th>\n",
       "    </tr>\n",
       "  </thead>\n",
       "  <tbody>\n",
       "    <tr>\n",
       "      <th>0</th>\n",
       "      <td>59150004004</td>\n",
       "      <td>gallery</td>\n",
       "      <td>07:00</td>\n",
       "      <td>38</td>\n",
       "    </tr>\n",
       "    <tr>\n",
       "      <th>1</th>\n",
       "      <td>59150004004</td>\n",
       "      <td>gallery</td>\n",
       "      <td>08:00</td>\n",
       "      <td>37</td>\n",
       "    </tr>\n",
       "    <tr>\n",
       "      <th>2</th>\n",
       "      <td>59150004004</td>\n",
       "      <td>gallery</td>\n",
       "      <td>09:00</td>\n",
       "      <td>35</td>\n",
       "    </tr>\n",
       "    <tr>\n",
       "      <th>3</th>\n",
       "      <td>59150004004</td>\n",
       "      <td>gallery</td>\n",
       "      <td>10:00</td>\n",
       "      <td>35</td>\n",
       "    </tr>\n",
       "    <tr>\n",
       "      <th>4</th>\n",
       "      <td>59150004004</td>\n",
       "      <td>gallery</td>\n",
       "      <td>11:00</td>\n",
       "      <td>35</td>\n",
       "    </tr>\n",
       "  </tbody>\n",
       "</table>\n",
       "</div>"
      ],
      "text/plain": [
       "         DBUID     type   time  avg_time\n",
       "0  59150004004  gallery  07:00        38\n",
       "1  59150004004  gallery  08:00        37\n",
       "2  59150004004  gallery  09:00        35\n",
       "3  59150004004  gallery  10:00        35\n",
       "4  59150004004  gallery  11:00        35"
      ]
     },
     "execution_count": 6,
     "metadata": {},
     "output_type": "execute_result"
    }
   ],
   "source": [
    "near = pd.read_csv('ttm6_719.csv')\n",
    "\n",
    "near = near[['fromId', 'type', 't1', 'avg_time']]\n",
    "near.columns = ['DBUID', 'type', 'time', 'avg_time']\n",
    "\n",
    "# near = near[['fromId', 'type', 't1', 'avg_time', 'Dest', 'Latitude', 'Longitude']]\n",
    "# near.columns = ['DBUID', 'type', 'time', 'avg_time', 'Destination', 'Latitude', 'Longitude']\n",
    "near.head()"
   ]
  },
  {
   "cell_type": "code",
   "execution_count": null,
   "metadata": {},
   "outputs": [],
   "source": [
    "## nearest for peak time\n",
    "\n",
    "near = pd.read_csv('Nearest1_peak.csv')\n",
    "\n",
    "near = near[['fromId', 'type', 't1', 'avg_time', 'Dest']]\n",
    "near.columns = ['DBUID', 'type', 'time', 'avg_time', 'Destination']\n",
    "near.head()"
   ]
  },
  {
   "cell_type": "code",
   "execution_count": 7,
   "metadata": {},
   "outputs": [
    {
     "data": {
      "text/html": [
       "<div>\n",
       "<style scoped>\n",
       "    .dataframe tbody tr th:only-of-type {\n",
       "        vertical-align: middle;\n",
       "    }\n",
       "\n",
       "    .dataframe tbody tr th {\n",
       "        vertical-align: top;\n",
       "    }\n",
       "\n",
       "    .dataframe thead th {\n",
       "        text-align: right;\n",
       "    }\n",
       "</style>\n",
       "<table border=\"1\" class=\"dataframe\">\n",
       "  <thead>\n",
       "    <tr style=\"text-align: right;\">\n",
       "      <th></th>\n",
       "      <th>geometry</th>\n",
       "      <th>DBUID</th>\n",
       "      <th>type</th>\n",
       "      <th>time</th>\n",
       "      <th>avg_time</th>\n",
       "    </tr>\n",
       "  </thead>\n",
       "  <tbody>\n",
       "    <tr>\n",
       "      <th>0</th>\n",
       "      <td>POLYGON ((-122.96252 49.32170, -122.96223 49.3...</td>\n",
       "      <td>59150244005</td>\n",
       "      <td>gallery</td>\n",
       "      <td>07:00</td>\n",
       "      <td>35</td>\n",
       "    </tr>\n",
       "    <tr>\n",
       "      <th>1</th>\n",
       "      <td>POLYGON ((-122.96252 49.32170, -122.96223 49.3...</td>\n",
       "      <td>59150244005</td>\n",
       "      <td>gallery</td>\n",
       "      <td>08:00</td>\n",
       "      <td>34</td>\n",
       "    </tr>\n",
       "    <tr>\n",
       "      <th>2</th>\n",
       "      <td>POLYGON ((-122.96252 49.32170, -122.96223 49.3...</td>\n",
       "      <td>59150244005</td>\n",
       "      <td>gallery</td>\n",
       "      <td>09:00</td>\n",
       "      <td>37</td>\n",
       "    </tr>\n",
       "    <tr>\n",
       "      <th>3</th>\n",
       "      <td>POLYGON ((-122.96252 49.32170, -122.96223 49.3...</td>\n",
       "      <td>59150244005</td>\n",
       "      <td>gallery</td>\n",
       "      <td>10:00</td>\n",
       "      <td>31</td>\n",
       "    </tr>\n",
       "    <tr>\n",
       "      <th>4</th>\n",
       "      <td>POLYGON ((-122.96252 49.32170, -122.96223 49.3...</td>\n",
       "      <td>59150244005</td>\n",
       "      <td>gallery</td>\n",
       "      <td>11:00</td>\n",
       "      <td>38</td>\n",
       "    </tr>\n",
       "  </tbody>\n",
       "</table>\n",
       "</div>"
      ],
      "text/plain": [
       "                                            geometry        DBUID     type  \\\n",
       "0  POLYGON ((-122.96252 49.32170, -122.96223 49.3...  59150244005  gallery   \n",
       "1  POLYGON ((-122.96252 49.32170, -122.96223 49.3...  59150244005  gallery   \n",
       "2  POLYGON ((-122.96252 49.32170, -122.96223 49.3...  59150244005  gallery   \n",
       "3  POLYGON ((-122.96252 49.32170, -122.96223 49.3...  59150244005  gallery   \n",
       "4  POLYGON ((-122.96252 49.32170, -122.96223 49.3...  59150244005  gallery   \n",
       "\n",
       "    time  avg_time  \n",
       "0  07:00        35  \n",
       "1  08:00        34  \n",
       "2  09:00        37  \n",
       "3  10:00        31  \n",
       "4  11:00        38  "
      ]
     },
     "execution_count": 7,
     "metadata": {},
     "output_type": "execute_result"
    }
   ],
   "source": [
    "near1 = df.merge(near, on='DBUID')\n",
    "near1.head()\n",
    "# near1['geometry'].nunique()"
   ]
  },
  {
   "cell_type": "code",
   "execution_count": 8,
   "metadata": {},
   "outputs": [],
   "source": [
    "# Save for cloud storage - Kepler.gl\n",
    "\n",
    "near1.to_csv('near1_sat.csv', index=False)"
   ]
  },
  {
   "cell_type": "code",
   "execution_count": null,
   "metadata": {},
   "outputs": [
    {
     "name": "stdout",
     "output_type": "stream",
     "text": [
      "User Guide: https://docs.kepler.gl/docs/keplergl-jupyter\n"
     ]
    }
   ],
   "source": [
    "near1_719 = keplergl.KeplerGl(height=500)\n",
    "near1_719.add_data(data=near1.copy(), name=\"Nearest Amenity\")\n",
    "near1_719"
   ]
  },
  {
   "cell_type": "code",
   "execution_count": 10,
   "metadata": {},
   "outputs": [
    {
     "name": "stdout",
     "output_type": "stream",
     "text": [
      "Map saved to Nearest_Peak_Kepler.html!\n"
     ]
    }
   ],
   "source": [
    "near1_719.save_to_html(file_name='Nearest_719_Kepler.html')"
   ]
  }
 ],
 "metadata": {
  "kernelspec": {
   "display_name": "Python 3",
   "language": "python",
   "name": "python3"
  },
  "language_info": {
   "codemirror_mode": {
    "name": "ipython",
    "version": 3
   },
   "file_extension": ".py",
   "mimetype": "text/x-python",
   "name": "python",
   "nbconvert_exporter": "python",
   "pygments_lexer": "ipython3",
   "version": "3.8.10"
  },
  "widgets": {
   "application/vnd.jupyter.widget-state+json": {
    "state": {},
    "version_major": 2,
    "version_minor": 0
   }
  }
 },
 "nbformat": 4,
 "nbformat_minor": 4
}
