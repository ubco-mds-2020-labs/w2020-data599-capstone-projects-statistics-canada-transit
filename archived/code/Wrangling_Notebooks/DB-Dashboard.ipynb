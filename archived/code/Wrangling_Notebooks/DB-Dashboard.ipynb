{
 "metadata": {
  "language_info": {
   "codemirror_mode": {
    "name": "ipython",
    "version": 3
   },
   "file_extension": ".py",
   "mimetype": "text/x-python",
   "name": "python",
   "nbconvert_exporter": "python",
   "pygments_lexer": "ipython3",
   "version": "3.8.3"
  },
  "orig_nbformat": 2,
  "kernelspec": {
   "name": "python383jvsc74a57bd0e95bd23c58372e532c13f19770ac32345ce14fa00d207afebbf1161aa1e79f4b",
   "display_name": "Python 3.8.3 64-bit ('base': conda)"
  }
 },
 "nbformat": 4,
 "nbformat_minor": 2,
 "cells": [
  {
   "cell_type": "code",
   "execution_count": 1,
   "metadata": {},
   "outputs": [],
   "source": [
    "import pandas as pd"
   ]
  },
  {
   "cell_type": "code",
   "execution_count": 2,
   "metadata": {},
   "outputs": [],
   "source": [
    "DBsVan = pd.read_csv('../../data/clean/vancouver_db.csv')\n",
    "DBsScores = pd.read_csv('../../data/score_sets/all_destination_scores.csv')"
   ]
  },
  {
   "cell_type": "code",
   "execution_count": 3,
   "metadata": {},
   "outputs": [
    {
     "output_type": "execute_result",
     "data": {
      "text/plain": [
       "            id pop      lat       lon\n",
       "0  59150004004  35  49.3739 -123.2738\n",
       "1  59150004005  50  49.3746 -123.2757\n",
       "2  59150004006  94  49.3738 -123.2763\n",
       "3  59150004011   0  49.3735 -123.2725\n",
       "4  59150004012   0  49.3725 -123.2729"
      ],
      "text/html": "<div>\n<style scoped>\n    .dataframe tbody tr th:only-of-type {\n        vertical-align: middle;\n    }\n\n    .dataframe tbody tr th {\n        vertical-align: top;\n    }\n\n    .dataframe thead th {\n        text-align: right;\n    }\n</style>\n<table border=\"1\" class=\"dataframe\">\n  <thead>\n    <tr style=\"text-align: right;\">\n      <th></th>\n      <th>id</th>\n      <th>pop</th>\n      <th>lat</th>\n      <th>lon</th>\n    </tr>\n  </thead>\n  <tbody>\n    <tr>\n      <th>0</th>\n      <td>59150004004</td>\n      <td>35</td>\n      <td>49.3739</td>\n      <td>-123.2738</td>\n    </tr>\n    <tr>\n      <th>1</th>\n      <td>59150004005</td>\n      <td>50</td>\n      <td>49.3746</td>\n      <td>-123.2757</td>\n    </tr>\n    <tr>\n      <th>2</th>\n      <td>59150004006</td>\n      <td>94</td>\n      <td>49.3738</td>\n      <td>-123.2763</td>\n    </tr>\n    <tr>\n      <th>3</th>\n      <td>59150004011</td>\n      <td>0</td>\n      <td>49.3735</td>\n      <td>-123.2725</td>\n    </tr>\n    <tr>\n      <th>4</th>\n      <td>59150004012</td>\n      <td>0</td>\n      <td>49.3725</td>\n      <td>-123.2729</td>\n    </tr>\n  </tbody>\n</table>\n</div>"
     },
     "metadata": {},
     "execution_count": 3
    }
   ],
   "source": [
    "DBsVan.head()"
   ]
  },
  {
   "cell_type": "code",
   "execution_count": 8,
   "metadata": {},
   "outputs": [
    {
     "output_type": "execute_result",
     "data": {
      "text/plain": [
       "        fromId     score\n",
       "0  59150004004  0.409541\n",
       "1  59150004005  0.404883\n",
       "2  59150004006  0.404903\n",
       "3  59150004011  0.406174\n",
       "4  59150004012  0.403910"
      ],
      "text/html": "<div>\n<style scoped>\n    .dataframe tbody tr th:only-of-type {\n        vertical-align: middle;\n    }\n\n    .dataframe tbody tr th {\n        vertical-align: top;\n    }\n\n    .dataframe thead th {\n        text-align: right;\n    }\n</style>\n<table border=\"1\" class=\"dataframe\">\n  <thead>\n    <tr style=\"text-align: right;\">\n      <th></th>\n      <th>fromId</th>\n      <th>score</th>\n    </tr>\n  </thead>\n  <tbody>\n    <tr>\n      <th>0</th>\n      <td>59150004004</td>\n      <td>0.409541</td>\n    </tr>\n    <tr>\n      <th>1</th>\n      <td>59150004005</td>\n      <td>0.404883</td>\n    </tr>\n    <tr>\n      <th>2</th>\n      <td>59150004006</td>\n      <td>0.404903</td>\n    </tr>\n    <tr>\n      <th>3</th>\n      <td>59150004011</td>\n      <td>0.406174</td>\n    </tr>\n    <tr>\n      <th>4</th>\n      <td>59150004012</td>\n      <td>0.403910</td>\n    </tr>\n  </tbody>\n</table>\n</div>"
     },
     "metadata": {},
     "execution_count": 8
    }
   ],
   "source": [
    "DBsScores.head()"
   ]
  },
  {
   "cell_type": "code",
   "execution_count": 12,
   "metadata": {},
   "outputs": [],
   "source": [
    "DBsVanScores = pd.merge(DBsVan, DBsScores, left_on=\"id\", right_on=\"fromId\")\n",
    "DBsVanScores.drop(\"fromId\", inplace = True, axis = 1)"
   ]
  },
  {
   "cell_type": "code",
   "execution_count": 13,
   "metadata": {},
   "outputs": [
    {
     "output_type": "execute_result",
     "data": {
      "text/plain": [
       "            id pop      lat       lon     score\n",
       "0  59150004004  35  49.3739 -123.2738  0.409541\n",
       "1  59150004005  50  49.3746 -123.2757  0.404883\n",
       "2  59150004006  94  49.3738 -123.2763  0.404903\n",
       "3  59150004011   0  49.3735 -123.2725  0.406174\n",
       "4  59150004012   0  49.3725 -123.2729  0.403910"
      ],
      "text/html": "<div>\n<style scoped>\n    .dataframe tbody tr th:only-of-type {\n        vertical-align: middle;\n    }\n\n    .dataframe tbody tr th {\n        vertical-align: top;\n    }\n\n    .dataframe thead th {\n        text-align: right;\n    }\n</style>\n<table border=\"1\" class=\"dataframe\">\n  <thead>\n    <tr style=\"text-align: right;\">\n      <th></th>\n      <th>id</th>\n      <th>pop</th>\n      <th>lat</th>\n      <th>lon</th>\n      <th>score</th>\n    </tr>\n  </thead>\n  <tbody>\n    <tr>\n      <th>0</th>\n      <td>59150004004</td>\n      <td>35</td>\n      <td>49.3739</td>\n      <td>-123.2738</td>\n      <td>0.409541</td>\n    </tr>\n    <tr>\n      <th>1</th>\n      <td>59150004005</td>\n      <td>50</td>\n      <td>49.3746</td>\n      <td>-123.2757</td>\n      <td>0.404883</td>\n    </tr>\n    <tr>\n      <th>2</th>\n      <td>59150004006</td>\n      <td>94</td>\n      <td>49.3738</td>\n      <td>-123.2763</td>\n      <td>0.404903</td>\n    </tr>\n    <tr>\n      <th>3</th>\n      <td>59150004011</td>\n      <td>0</td>\n      <td>49.3735</td>\n      <td>-123.2725</td>\n      <td>0.406174</td>\n    </tr>\n    <tr>\n      <th>4</th>\n      <td>59150004012</td>\n      <td>0</td>\n      <td>49.3725</td>\n      <td>-123.2729</td>\n      <td>0.403910</td>\n    </tr>\n  </tbody>\n</table>\n</div>"
     },
     "metadata": {},
     "execution_count": 13
    }
   ],
   "source": [
    "DBsVanScores.head()"
   ]
  },
  {
   "cell_type": "code",
   "execution_count": 15,
   "metadata": {},
   "outputs": [],
   "source": [
    "DBsVanScores.to_csv('../../data/score_sets/vancouver_db_details.csv', index=False)"
   ]
  },
  {
   "cell_type": "code",
   "execution_count": null,
   "metadata": {},
   "outputs": [],
   "source": []
  }
 ]
}