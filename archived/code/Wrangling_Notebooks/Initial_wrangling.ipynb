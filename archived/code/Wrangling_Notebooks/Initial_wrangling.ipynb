{
  "nbformat": 4,
  "nbformat_minor": 0,
  "metadata": {
    "colab": {
      "name": "Wrangling.ipynb",
      "provenance": []
    },
    "kernelspec": {
      "name": "python3",
      "display_name": "Python 3"
    },
    "language_info": {
      "name": "python"
    }
  },
  "cells": [
    {
      "cell_type": "code",
      "metadata": {
        "id": "rGIcluoS7QzI"
      },
      "source": [
        "import pandas as pd\n",
        "import numpy as np"
      ],
      "execution_count": null,
      "outputs": []
    },
    {
      "cell_type": "code",
      "metadata": {
        "colab": {
          "base_uri": "https://localhost:8080/"
        },
        "id": "4ZFG2Qvv7Xti",
        "outputId": "a15d8fb4-38e5-491a-bf5c-fd8a8a701869"
      },
      "source": [
        "from google.colab import drive\n",
        "drive.mount('/content/data')"
      ],
      "execution_count": null,
      "outputs": [
        {
          "output_type": "stream",
          "text": [
            "Mounted at /content/data\n"
          ],
          "name": "stdout"
        }
      ]
    },
    {
      "cell_type": "code",
      "metadata": {
        "colab": {
          "base_uri": "https://localhost:8080/",
          "height": 479
        },
        "id": "ogC9Udxu8WWv",
        "outputId": "40c6d14b-b0e4-4a6a-ea7e-34f73bb76f38"
      },
      "source": [
        "db_data = pd.read_csv('/content/data/MyDrive/Capstone_Data/DBs.csv')\n",
        "db_data.head()"
      ],
      "execution_count": null,
      "outputs": [
        {
          "output_type": "execute_result",
          "data": {
            "text/html": [
              "<div>\n",
              "<style scoped>\n",
              "    .dataframe tbody tr th:only-of-type {\n",
              "        vertical-align: middle;\n",
              "    }\n",
              "\n",
              "    .dataframe tbody tr th {\n",
              "        vertical-align: top;\n",
              "    }\n",
              "\n",
              "    .dataframe thead th {\n",
              "        text-align: right;\n",
              "    }\n",
              "</style>\n",
              "<table border=\"1\" class=\"dataframe\">\n",
              "  <thead>\n",
              "    <tr style=\"text-align: right;\">\n",
              "      <th></th>\n",
              "      <th>DBUID</th>\n",
              "      <th>DBPOP</th>\n",
              "      <th>DAUID</th>\n",
              "      <th>DAPOP</th>\n",
              "      <th>CSDUID</th>\n",
              "      <th>CSDNAME</th>\n",
              "      <th>CSDTYPE</th>\n",
              "      <th>CSDPOP</th>\n",
              "      <th>CMAUID</th>\n",
              "      <th>CMAPUID</th>\n",
              "      <th>CMANAME</th>\n",
              "      <th>CMATYPE</th>\n",
              "      <th>CMAPOP</th>\n",
              "      <th>PRUID</th>\n",
              "      <th>PRNAME</th>\n",
              "      <th>PRPOP</th>\n",
              "      <th>lon</th>\n",
              "      <th>lat</th>\n",
              "      <th>in_db_emp</th>\n",
              "      <th>prox_idx_emp</th>\n",
              "      <th>in_db_pharma</th>\n",
              "      <th>prox_idx_pharma</th>\n",
              "      <th>in_db_childcare</th>\n",
              "      <th>prox_idx_childcare</th>\n",
              "      <th>in_db_health</th>\n",
              "      <th>prox_idx_health</th>\n",
              "      <th>in_db_grocery</th>\n",
              "      <th>prox_idx_grocery</th>\n",
              "      <th>in_db_educpri</th>\n",
              "      <th>prox_idx_educpri</th>\n",
              "      <th>in_db_educsec</th>\n",
              "      <th>prox_idx_educsec</th>\n",
              "      <th>in_db_lib</th>\n",
              "      <th>prox_idx_lib</th>\n",
              "      <th>in_db_parks</th>\n",
              "      <th>prox_idx_parks</th>\n",
              "      <th>in_db_transit</th>\n",
              "      <th>prox_idx_transit</th>\n",
              "      <th>transit_na</th>\n",
              "      <th>amenity_dense</th>\n",
              "      <th>suppressed</th>\n",
              "    </tr>\n",
              "  </thead>\n",
              "  <tbody>\n",
              "    <tr>\n",
              "      <th>0</th>\n",
              "      <td>10010165001</td>\n",
              "      <td>160</td>\n",
              "      <td>10010165</td>\n",
              "      <td>506</td>\n",
              "      <td>1001519</td>\n",
              "      <td>St. John's</td>\n",
              "      <td>CY</td>\n",
              "      <td>108,860</td>\n",
              "      <td>1.0</td>\n",
              "      <td>10001.0</td>\n",
              "      <td>St. John's</td>\n",
              "      <td>B</td>\n",
              "      <td>205,955</td>\n",
              "      <td>10</td>\n",
              "      <td>Newfoundland and Labrador / Terre-Neuve-et-Lab...</td>\n",
              "      <td>519,716</td>\n",
              "      <td>-52.7765</td>\n",
              "      <td>47.5300</td>\n",
              "      <td>1</td>\n",
              "      <td>0.0202</td>\n",
              "      <td>0</td>\n",
              "      <td>0.0121</td>\n",
              "      <td>0</td>\n",
              "      <td>0.0402</td>\n",
              "      <td>0</td>\n",
              "      <td>0.0069</td>\n",
              "      <td>0</td>\n",
              "      <td>..</td>\n",
              "      <td>0</td>\n",
              "      <td>0.0384</td>\n",
              "      <td>0</td>\n",
              "      <td>0.0495</td>\n",
              "      <td>0</td>\n",
              "      <td>0.0486</td>\n",
              "      <td>0</td>\n",
              "      <td>0.0141</td>\n",
              "      <td>1</td>\n",
              "      <td>0.0058</td>\n",
              "      <td>0</td>\n",
              "      <td>0</td>\n",
              "      <td>0</td>\n",
              "    </tr>\n",
              "    <tr>\n",
              "      <th>1</th>\n",
              "      <td>10010165002</td>\n",
              "      <td>25</td>\n",
              "      <td>10010165</td>\n",
              "      <td>506</td>\n",
              "      <td>1001519</td>\n",
              "      <td>St. John's</td>\n",
              "      <td>CY</td>\n",
              "      <td>108,860</td>\n",
              "      <td>1.0</td>\n",
              "      <td>10001.0</td>\n",
              "      <td>St. John's</td>\n",
              "      <td>B</td>\n",
              "      <td>205,955</td>\n",
              "      <td>10</td>\n",
              "      <td>Newfoundland and Labrador / Terre-Neuve-et-Lab...</td>\n",
              "      <td>519,716</td>\n",
              "      <td>-52.7793</td>\n",
              "      <td>47.5290</td>\n",
              "      <td>1</td>\n",
              "      <td>0.0193</td>\n",
              "      <td>0</td>\n",
              "      <td>0.014</td>\n",
              "      <td>0</td>\n",
              "      <td>0.0257</td>\n",
              "      <td>0</td>\n",
              "      <td>0.0028</td>\n",
              "      <td>0</td>\n",
              "      <td>..</td>\n",
              "      <td>0</td>\n",
              "      <td>0.0562</td>\n",
              "      <td>0</td>\n",
              "      <td>0.0375</td>\n",
              "      <td>0</td>\n",
              "      <td>..</td>\n",
              "      <td>0</td>\n",
              "      <td>..</td>\n",
              "      <td>0</td>\n",
              "      <td>0.0046</td>\n",
              "      <td>0</td>\n",
              "      <td>0</td>\n",
              "      <td>0</td>\n",
              "    </tr>\n",
              "    <tr>\n",
              "      <th>2</th>\n",
              "      <td>10010165006</td>\n",
              "      <td>268</td>\n",
              "      <td>10010165</td>\n",
              "      <td>506</td>\n",
              "      <td>1001519</td>\n",
              "      <td>St. John's</td>\n",
              "      <td>CY</td>\n",
              "      <td>108,860</td>\n",
              "      <td>1.0</td>\n",
              "      <td>10001.0</td>\n",
              "      <td>St. John's</td>\n",
              "      <td>B</td>\n",
              "      <td>205,955</td>\n",
              "      <td>10</td>\n",
              "      <td>Newfoundland and Labrador / Terre-Neuve-et-Lab...</td>\n",
              "      <td>519,716</td>\n",
              "      <td>-52.7768</td>\n",
              "      <td>47.5265</td>\n",
              "      <td>1</td>\n",
              "      <td>0.0199</td>\n",
              "      <td>1</td>\n",
              "      <td>0.0205</td>\n",
              "      <td>1</td>\n",
              "      <td>0.0395</td>\n",
              "      <td>1</td>\n",
              "      <td>0.007</td>\n",
              "      <td>0</td>\n",
              "      <td>..</td>\n",
              "      <td>0</td>\n",
              "      <td>0.0734</td>\n",
              "      <td>0</td>\n",
              "      <td>0.0436</td>\n",
              "      <td>0</td>\n",
              "      <td>0.0545</td>\n",
              "      <td>0</td>\n",
              "      <td>..</td>\n",
              "      <td>1</td>\n",
              "      <td>0.0101</td>\n",
              "      <td>0</td>\n",
              "      <td>0</td>\n",
              "      <td>0</td>\n",
              "    </tr>\n",
              "    <tr>\n",
              "      <th>3</th>\n",
              "      <td>10010165007</td>\n",
              "      <td>53</td>\n",
              "      <td>10010165</td>\n",
              "      <td>506</td>\n",
              "      <td>1001519</td>\n",
              "      <td>St. John's</td>\n",
              "      <td>CY</td>\n",
              "      <td>108,860</td>\n",
              "      <td>1.0</td>\n",
              "      <td>10001.0</td>\n",
              "      <td>St. John's</td>\n",
              "      <td>B</td>\n",
              "      <td>205,955</td>\n",
              "      <td>10</td>\n",
              "      <td>Newfoundland and Labrador / Terre-Neuve-et-Lab...</td>\n",
              "      <td>519,716</td>\n",
              "      <td>-52.7726</td>\n",
              "      <td>47.5263</td>\n",
              "      <td>1</td>\n",
              "      <td>0.0204</td>\n",
              "      <td>0</td>\n",
              "      <td>0.0238</td>\n",
              "      <td>0</td>\n",
              "      <td>0.0425</td>\n",
              "      <td>0</td>\n",
              "      <td>0.0074</td>\n",
              "      <td>0</td>\n",
              "      <td>..</td>\n",
              "      <td>0</td>\n",
              "      <td>0.0733</td>\n",
              "      <td>0</td>\n",
              "      <td>0.0548</td>\n",
              "      <td>0</td>\n",
              "      <td>0.0796</td>\n",
              "      <td>0</td>\n",
              "      <td>0.013</td>\n",
              "      <td>0</td>\n",
              "      <td>0.0098</td>\n",
              "      <td>0</td>\n",
              "      <td>0</td>\n",
              "      <td>0</td>\n",
              "    </tr>\n",
              "    <tr>\n",
              "      <th>4</th>\n",
              "      <td>10010166001</td>\n",
              "      <td>71</td>\n",
              "      <td>10010166</td>\n",
              "      <td>327</td>\n",
              "      <td>1001519</td>\n",
              "      <td>St. John's</td>\n",
              "      <td>CY</td>\n",
              "      <td>108,860</td>\n",
              "      <td>1.0</td>\n",
              "      <td>10001.0</td>\n",
              "      <td>St. John's</td>\n",
              "      <td>B</td>\n",
              "      <td>205,955</td>\n",
              "      <td>10</td>\n",
              "      <td>Newfoundland and Labrador / Terre-Neuve-et-Lab...</td>\n",
              "      <td>519,716</td>\n",
              "      <td>-52.7730</td>\n",
              "      <td>47.5268</td>\n",
              "      <td>1</td>\n",
              "      <td>0.0204</td>\n",
              "      <td>0</td>\n",
              "      <td>0.0238</td>\n",
              "      <td>0</td>\n",
              "      <td>0.0425</td>\n",
              "      <td>0</td>\n",
              "      <td>0.0074</td>\n",
              "      <td>0</td>\n",
              "      <td>..</td>\n",
              "      <td>0</td>\n",
              "      <td>0.0735</td>\n",
              "      <td>0</td>\n",
              "      <td>0.0548</td>\n",
              "      <td>0</td>\n",
              "      <td>0.0796</td>\n",
              "      <td>0</td>\n",
              "      <td>0.013</td>\n",
              "      <td>0</td>\n",
              "      <td>0.0098</td>\n",
              "      <td>0</td>\n",
              "      <td>0</td>\n",
              "      <td>0</td>\n",
              "    </tr>\n",
              "  </tbody>\n",
              "</table>\n",
              "</div>"
            ],
            "text/plain": [
              "         DBUID DBPOP     DAUID  ... transit_na  amenity_dense suppressed\n",
              "0  10010165001   160  10010165  ...          0              0          0\n",
              "1  10010165002    25  10010165  ...          0              0          0\n",
              "2  10010165006   268  10010165  ...          0              0          0\n",
              "3  10010165007    53  10010165  ...          0              0          0\n",
              "4  10010166001    71  10010166  ...          0              0          0\n",
              "\n",
              "[5 rows x 41 columns]"
            ]
          },
          "metadata": {
            "tags": []
          },
          "execution_count": 3
        }
      ]
    },
    {
      "cell_type": "code",
      "metadata": {
        "colab": {
          "base_uri": "https://localhost:8080/",
          "height": 326
        },
        "id": "EPMOqzWL84sx",
        "outputId": "fa4fe3be-d874-4930-8015-d4b196e34604"
      },
      "source": [
        "poi = pd.read_csv('/content/data/MyDrive/Capstone_Data/ODCAF_v1.0.csv', encoding='latin-1')\n",
        "poi.head()"
      ],
      "execution_count": null,
      "outputs": [
        {
          "output_type": "execute_result",
          "data": {
            "text/html": [
              "<div>\n",
              "<style scoped>\n",
              "    .dataframe tbody tr th:only-of-type {\n",
              "        vertical-align: middle;\n",
              "    }\n",
              "\n",
              "    .dataframe tbody tr th {\n",
              "        vertical-align: top;\n",
              "    }\n",
              "\n",
              "    .dataframe thead th {\n",
              "        text-align: right;\n",
              "    }\n",
              "</style>\n",
              "<table border=\"1\" class=\"dataframe\">\n",
              "  <thead>\n",
              "    <tr style=\"text-align: right;\">\n",
              "      <th></th>\n",
              "      <th>Index</th>\n",
              "      <th>Facility_Name</th>\n",
              "      <th>Source_Facility_Type</th>\n",
              "      <th>ODCAF_Facility_Type</th>\n",
              "      <th>Provider</th>\n",
              "      <th>Unit</th>\n",
              "      <th>Street_No</th>\n",
              "      <th>Street_Name</th>\n",
              "      <th>Postal_Code</th>\n",
              "      <th>City</th>\n",
              "      <th>Prov_Terr</th>\n",
              "      <th>Source_Format_Address</th>\n",
              "      <th>CSD_Name</th>\n",
              "      <th>CSDUID</th>\n",
              "      <th>PRUID</th>\n",
              "      <th>Latitude</th>\n",
              "      <th>Longitude</th>\n",
              "    </tr>\n",
              "  </thead>\n",
              "  <tbody>\n",
              "    <tr>\n",
              "      <th>0</th>\n",
              "      <td>1</td>\n",
              "      <td>#Hashtag Gallery</td>\n",
              "      <td>..</td>\n",
              "      <td>gallery</td>\n",
              "      <td>toronto</td>\n",
              "      <td>..</td>\n",
              "      <td>801</td>\n",
              "      <td>dundas st w</td>\n",
              "      <td>M6J 1V2</td>\n",
              "      <td>toronto</td>\n",
              "      <td>on</td>\n",
              "      <td>801 dundas st w</td>\n",
              "      <td>Toronto</td>\n",
              "      <td>3520005</td>\n",
              "      <td>35</td>\n",
              "      <td>43.65169472</td>\n",
              "      <td>-79.40803272</td>\n",
              "    </tr>\n",
              "    <tr>\n",
              "      <th>1</th>\n",
              "      <td>2</td>\n",
              "      <td>'Ksan Historical Village &amp; Museum</td>\n",
              "      <td>historic site-building or park</td>\n",
              "      <td>museum</td>\n",
              "      <td>canadian museums association</td>\n",
              "      <td>..</td>\n",
              "      <td>1500</td>\n",
              "      <td>62 hwy</td>\n",
              "      <td>V0J 1Y0</td>\n",
              "      <td>hazelton</td>\n",
              "      <td>bc</td>\n",
              "      <td>1500 hwy 62 hazelton british columbia v0j 1y0 ...</td>\n",
              "      <td>Hazelton</td>\n",
              "      <td>5949022</td>\n",
              "      <td>59</td>\n",
              "      <td>55.2645508</td>\n",
              "      <td>-127.6428124</td>\n",
              "    </tr>\n",
              "    <tr>\n",
              "      <th>2</th>\n",
              "      <td>3</td>\n",
              "      <td>'School Days' Museum</td>\n",
              "      <td>community/regional museum</td>\n",
              "      <td>museum</td>\n",
              "      <td>canadian museums association</td>\n",
              "      <td>..</td>\n",
              "      <td>427</td>\n",
              "      <td>queen st</td>\n",
              "      <td>E3B 5R6</td>\n",
              "      <td>fredericton</td>\n",
              "      <td>nb</td>\n",
              "      <td>427 queen st fredericton new brunswick e3b 5r6...</td>\n",
              "      <td>Fredericton</td>\n",
              "      <td>1310032</td>\n",
              "      <td>13</td>\n",
              "      <td>45.963283</td>\n",
              "      <td>-66.6419017</td>\n",
              "    </tr>\n",
              "    <tr>\n",
              "      <th>3</th>\n",
              "      <td>4</td>\n",
              "      <td>10 Austin Street</td>\n",
              "      <td>built heritage properties</td>\n",
              "      <td>heritage or historic site</td>\n",
              "      <td>moncton</td>\n",
              "      <td>..</td>\n",
              "      <td>10</td>\n",
              "      <td>austin st</td>\n",
              "      <td>E1C 1Z6</td>\n",
              "      <td>moncton</td>\n",
              "      <td>nb</td>\n",
              "      <td>10 austin st</td>\n",
              "      <td>Moncton</td>\n",
              "      <td>1307022</td>\n",
              "      <td>13</td>\n",
              "      <td>46.09247776</td>\n",
              "      <td>-64.78022946</td>\n",
              "    </tr>\n",
              "    <tr>\n",
              "      <th>4</th>\n",
              "      <td>5</td>\n",
              "      <td>10 Gates Dancing Inc.</td>\n",
              "      <td>arts</td>\n",
              "      <td>miscellaneous</td>\n",
              "      <td>ottawa</td>\n",
              "      <td>..</td>\n",
              "      <td>..</td>\n",
              "      <td>..</td>\n",
              "      <td>..</td>\n",
              "      <td>ottawa</td>\n",
              "      <td>on</td>\n",
              "      <td>..</td>\n",
              "      <td>Ottawa</td>\n",
              "      <td>3506008</td>\n",
              "      <td>35</td>\n",
              "      <td>45.40856224</td>\n",
              "      <td>-75.71536766</td>\n",
              "    </tr>\n",
              "  </tbody>\n",
              "</table>\n",
              "</div>"
            ],
            "text/plain": [
              "   Index                      Facility_Name  ...     Latitude     Longitude\n",
              "0      1                   #Hashtag Gallery  ...  43.65169472  -79.40803272\n",
              "1      2  'Ksan Historical Village & Museum  ...   55.2645508  -127.6428124\n",
              "2      3               'School Days' Museum  ...    45.963283   -66.6419017\n",
              "3      4                   10 Austin Street  ...  46.09247776  -64.78022946\n",
              "4      5              10 Gates Dancing Inc.  ...  45.40856224  -75.71536766\n",
              "\n",
              "[5 rows x 17 columns]"
            ]
          },
          "metadata": {
            "tags": []
          },
          "execution_count": 4
        }
      ]
    },
    {
      "cell_type": "code",
      "metadata": {
        "colab": {
          "base_uri": "https://localhost:8080/"
        },
        "id": "isAmh_Jk9-h-",
        "outputId": "5eccee2d-cd0f-45ec-e0c6-0d6f3471fadb"
      },
      "source": [
        "db_data.PRNAME.unique()"
      ],
      "execution_count": null,
      "outputs": [
        {
          "output_type": "execute_result",
          "data": {
            "text/plain": [
              "array(['Newfoundland and Labrador / Terre-Neuve-et-Labrador',\n",
              "       'Prince Edward Island / Île-du-Prince-Édouard',\n",
              "       'Nova Scotia / Nouvelle-Écosse',\n",
              "       'New Brunswick / Nouveau-Brunswick', 'Quebec / Québec', 'Ontario',\n",
              "       'Manitoba', 'Saskatchewan', 'Alberta',\n",
              "       'British Columbia / Colombie-Britannique', 'Yukon',\n",
              "       'Northwest Territories / Territoires du Nord-Ouest', 'Nunavut'],\n",
              "      dtype=object)"
            ]
          },
          "metadata": {
            "tags": []
          },
          "execution_count": 5
        }
      ]
    },
    {
      "cell_type": "code",
      "metadata": {
        "colab": {
          "base_uri": "https://localhost:8080/"
        },
        "id": "l4kJJENT9yNz",
        "outputId": "ea0d79c4-9ff3-4ef5-8238-c421a1bb392f"
      },
      "source": [
        "bc = db_data[db_data['PRNAME'] == 'British Columbia / Colombie-Britannique']\n",
        "bc.CMANAME.unique()"
      ],
      "execution_count": null,
      "outputs": [
        {
          "output_type": "execute_result",
          "data": {
            "text/plain": [
              "array([nan, 'Cranbrook', 'Nelson', 'Penticton', 'Abbotsford - Mission',\n",
              "       'Chilliwack', 'Vancouver', 'Victoria', 'Duncan', 'Parksville',\n",
              "       'Nanaimo', 'Port Alberni', 'Campbell River', 'Courtenay',\n",
              "       'Powell River', 'Squamish', 'Kamloops', 'Kelowna', 'Vernon',\n",
              "       'Salmon Arm', 'Quesnel', 'Williams Lake', 'Prince Rupert',\n",
              "       'Terrace', 'Prince George', 'Dawson Creek', 'Fort St. John'],\n",
              "      dtype=object)"
            ]
          },
          "metadata": {
            "tags": []
          },
          "execution_count": 6
        }
      ]
    },
    {
      "cell_type": "code",
      "metadata": {
        "colab": {
          "base_uri": "https://localhost:8080/"
        },
        "id": "9yctYDZH-sJa",
        "outputId": "3ec5f035-04cb-45f5-f748-d169fd32ab38"
      },
      "source": [
        "van = bc[bc['CMANAME'] == 'Vancouver']\n",
        "van.count()"
      ],
      "execution_count": null,
      "outputs": [
        {
          "output_type": "execute_result",
          "data": {
            "text/plain": [
              "DBUID                 15197\n",
              "DBPOP                 15197\n",
              "DAUID                 15197\n",
              "DAPOP                 15197\n",
              "CSDUID                15197\n",
              "CSDNAME               15197\n",
              "CSDTYPE               15197\n",
              "CSDPOP                15197\n",
              "CMAUID                15197\n",
              "CMAPUID               15197\n",
              "CMANAME               15197\n",
              "CMATYPE               15197\n",
              "CMAPOP                15197\n",
              "PRUID                 15197\n",
              "PRNAME                15197\n",
              "PRPOP                 15197\n",
              "lon                   15197\n",
              "lat                   15197\n",
              "in_db_emp             15197\n",
              "prox_idx_emp          15197\n",
              "in_db_pharma          15197\n",
              "prox_idx_pharma       15197\n",
              "in_db_childcare       15197\n",
              "prox_idx_childcare    15197\n",
              "in_db_health          15197\n",
              "prox_idx_health       15197\n",
              "in_db_grocery         15197\n",
              "prox_idx_grocery      15197\n",
              "in_db_educpri         15197\n",
              "prox_idx_educpri      15197\n",
              "in_db_educsec         15197\n",
              "prox_idx_educsec      15197\n",
              "in_db_lib             15197\n",
              "prox_idx_lib          15197\n",
              "in_db_parks           15197\n",
              "prox_idx_parks        15197\n",
              "in_db_transit         15197\n",
              "prox_idx_transit      15197\n",
              "transit_na            15197\n",
              "amenity_dense         15197\n",
              "suppressed            15197\n",
              "dtype: int64"
            ]
          },
          "metadata": {
            "tags": []
          },
          "execution_count": 7
        }
      ]
    },
    {
      "cell_type": "code",
      "metadata": {
        "id": "Aglrf9BV_hWY"
      },
      "source": [
        "van = van[['DBUID', 'DBPOP', 'lat', 'lon']]\n"
      ],
      "execution_count": null,
      "outputs": []
    },
    {
      "cell_type": "code",
      "metadata": {
        "id": "CT2uhCJo0mIT"
      },
      "source": [
        "van.rename(columns={'DBUID':'id'}, inplace=True)\n",
        "van.to_csv('vancouver_db.csv', index=False)"
      ],
      "execution_count": null,
      "outputs": []
    },
    {
      "cell_type": "code",
      "metadata": {
        "id": "MuDP5o141bfy",
        "colab": {
          "base_uri": "https://localhost:8080/",
          "height": 297
        },
        "outputId": "ead9634c-12ef-4116-8bd2-02ea0693c57a"
      },
      "source": [
        "van.describe()"
      ],
      "execution_count": null,
      "outputs": [
        {
          "output_type": "execute_result",
          "data": {
            "text/html": [
              "<div>\n",
              "<style scoped>\n",
              "    .dataframe tbody tr th:only-of-type {\n",
              "        vertical-align: middle;\n",
              "    }\n",
              "\n",
              "    .dataframe tbody tr th {\n",
              "        vertical-align: top;\n",
              "    }\n",
              "\n",
              "    .dataframe thead th {\n",
              "        text-align: right;\n",
              "    }\n",
              "</style>\n",
              "<table border=\"1\" class=\"dataframe\">\n",
              "  <thead>\n",
              "    <tr style=\"text-align: right;\">\n",
              "      <th></th>\n",
              "      <th>id</th>\n",
              "      <th>lat</th>\n",
              "      <th>lon</th>\n",
              "    </tr>\n",
              "  </thead>\n",
              "  <tbody>\n",
              "    <tr>\n",
              "      <th>count</th>\n",
              "      <td>1.519700e+04</td>\n",
              "      <td>15197.000000</td>\n",
              "      <td>15197.000000</td>\n",
              "    </tr>\n",
              "    <tr>\n",
              "      <th>mean</th>\n",
              "      <td>5.915206e+10</td>\n",
              "      <td>49.215648</td>\n",
              "      <td>-122.960926</td>\n",
              "    </tr>\n",
              "    <tr>\n",
              "      <th>std</th>\n",
              "      <td>1.234185e+06</td>\n",
              "      <td>0.079503</td>\n",
              "      <td>0.180775</td>\n",
              "    </tr>\n",
              "    <tr>\n",
              "      <th>min</th>\n",
              "      <td>5.915000e+10</td>\n",
              "      <td>49.002300</td>\n",
              "      <td>-123.422100</td>\n",
              "    </tr>\n",
              "    <tr>\n",
              "      <th>25%</th>\n",
              "      <td>5.915094e+10</td>\n",
              "      <td>49.168900</td>\n",
              "      <td>-123.104200</td>\n",
              "    </tr>\n",
              "    <tr>\n",
              "      <th>50%</th>\n",
              "      <td>5.915211e+10</td>\n",
              "      <td>49.230600</td>\n",
              "      <td>-123.012900</td>\n",
              "    </tr>\n",
              "    <tr>\n",
              "      <th>75%</th>\n",
              "      <td>5.915318e+10</td>\n",
              "      <td>49.267900</td>\n",
              "      <td>-122.829600</td>\n",
              "    </tr>\n",
              "    <tr>\n",
              "      <th>max</th>\n",
              "      <td>5.915406e+10</td>\n",
              "      <td>49.531200</td>\n",
              "      <td>-122.424900</td>\n",
              "    </tr>\n",
              "  </tbody>\n",
              "</table>\n",
              "</div>"
            ],
            "text/plain": [
              "                 id           lat           lon\n",
              "count  1.519700e+04  15197.000000  15197.000000\n",
              "mean   5.915206e+10     49.215648   -122.960926\n",
              "std    1.234185e+06      0.079503      0.180775\n",
              "min    5.915000e+10     49.002300   -123.422100\n",
              "25%    5.915094e+10     49.168900   -123.104200\n",
              "50%    5.915211e+10     49.230600   -123.012900\n",
              "75%    5.915318e+10     49.267900   -122.829600\n",
              "max    5.915406e+10     49.531200   -122.424900"
            ]
          },
          "metadata": {
            "tags": []
          },
          "execution_count": 12
        }
      ]
    },
    {
      "cell_type": "code",
      "metadata": {
        "id": "1NvZbvPuDSqh"
      },
      "source": [
        "van_list = ['richmond','vancouver','burnaby','township of langley','north vancouver','new-westminster','maple ridge','port moody','surrey','langley',\n",
        "            'coquitlam','delta','fort langley','white rock','pitt meadows','port coquitlam']"
      ],
      "execution_count": null,
      "outputs": []
    },
    {
      "cell_type": "code",
      "metadata": {
        "id": "9c9-urveCJWm",
        "colab": {
          "base_uri": "https://localhost:8080/"
        },
        "outputId": "92cf8dbf-99ab-4118-f2a7-8fb23e6f430f"
      },
      "source": [
        "bc = poi[poi['Prov_Terr'] == 'bc']\n",
        "van_all = bc[bc['City'].isin(van_list)]\n",
        "van_all.count()"
      ],
      "execution_count": null,
      "outputs": [
        {
          "output_type": "execute_result",
          "data": {
            "text/plain": [
              "Index                    447\n",
              "Facility_Name            447\n",
              "Source_Facility_Type     447\n",
              "ODCAF_Facility_Type      447\n",
              "Provider                 447\n",
              "Unit                     447\n",
              "Street_No                447\n",
              "Street_Name              447\n",
              "Postal_Code              447\n",
              "City                     447\n",
              "Prov_Terr                447\n",
              "Source_Format_Address    447\n",
              "CSD_Name                 447\n",
              "CSDUID                   447\n",
              "PRUID                    447\n",
              "Latitude                 447\n",
              "Longitude                447\n",
              "dtype: int64"
            ]
          },
          "metadata": {
            "tags": []
          },
          "execution_count": 14
        }
      ]
    },
    {
      "cell_type": "code",
      "metadata": {
        "colab": {
          "base_uri": "https://localhost:8080/"
        },
        "id": "4b9h_-jCuBY5",
        "outputId": "2c6025ba-0faf-4602-e07f-2d8e825b92d3"
      },
      "source": [
        "van_all.rename(columns={'Index':'id'}, inplace=True)\n",
        "van_all.rename(columns={'Latitude':'lat'}, inplace=True)\n",
        "van_all.rename(columns={'Longitude':'lon'}, inplace=True)\n"
      ],
      "execution_count": null,
      "outputs": [
        {
          "output_type": "stream",
          "text": [
            "/usr/local/lib/python3.7/dist-packages/pandas/core/frame.py:4308: SettingWithCopyWarning: \n",
            "A value is trying to be set on a copy of a slice from a DataFrame\n",
            "\n",
            "See the caveats in the documentation: https://pandas.pydata.org/pandas-docs/stable/user_guide/indexing.html#returning-a-view-versus-a-copy\n",
            "  errors=errors,\n"
          ],
          "name": "stderr"
        }
      ]
    },
    {
      "cell_type": "code",
      "metadata": {
        "colab": {
          "base_uri": "https://localhost:8080/"
        },
        "id": "37BxLVMDuTWc",
        "outputId": "951aaea4-7953-40be-e420-fcd755e047b4"
      },
      "source": [
        "van_all[[\"lat\", \"lon\"]] = van_all[[\"lat\", \"lon\"]].apply(pd.to_numeric, errors='coerce')"
      ],
      "execution_count": null,
      "outputs": [
        {
          "output_type": "stream",
          "text": [
            "/usr/local/lib/python3.7/dist-packages/pandas/core/frame.py:3069: SettingWithCopyWarning: \n",
            "A value is trying to be set on a copy of a slice from a DataFrame.\n",
            "Try using .loc[row_indexer,col_indexer] = value instead\n",
            "\n",
            "See the caveats in the documentation: https://pandas.pydata.org/pandas-docs/stable/user_guide/indexing.html#returning-a-view-versus-a-copy\n",
            "  self[k1] = value[k2]\n"
          ],
          "name": "stderr"
        }
      ]
    },
    {
      "cell_type": "code",
      "metadata": {
        "id": "rgV_EDX8OoR-"
      },
      "source": [
        "van_all = van_all.dropna()"
      ],
      "execution_count": null,
      "outputs": []
    },
    {
      "cell_type": "code",
      "metadata": {
        "id": "E4N3QcN3ywNk"
      },
      "source": [
        "van_all = van_all[['id', 'lat', 'lon']]\n",
        "van_all.to_csv('vancouver_facilities.csv', index=False)"
      ],
      "execution_count": null,
      "outputs": []
    },
    {
      "cell_type": "code",
      "metadata": {
        "colab": {
          "base_uri": "https://localhost:8080/"
        },
        "id": "UFU3YpbWzFHk",
        "outputId": "51f1deef-05f0-47d0-ffdf-7c68e3b8c1f4"
      },
      "source": [
        "van_all.count()"
      ],
      "execution_count": null,
      "outputs": [
        {
          "output_type": "execute_result",
          "data": {
            "text/plain": [
              "id                       436\n",
              "Facility_Name            436\n",
              "Source_Facility_Type     436\n",
              "ODCAF_Facility_Type      436\n",
              "Provider                 436\n",
              "Unit                     436\n",
              "Street_No                436\n",
              "Street_Name              436\n",
              "Postal_Code              436\n",
              "City                     436\n",
              "Prov_Terr                436\n",
              "Source_Format_Address    436\n",
              "CSD_Name                 436\n",
              "CSDUID                   436\n",
              "PRUID                    436\n",
              "lat                      436\n",
              "lon                      436\n",
              "dtype: int64"
            ]
          },
          "metadata": {
            "tags": []
          },
          "execution_count": 20
        }
      ]
    },
    {
      "cell_type": "code",
      "metadata": {
        "id": "dhnhmorpA_Yw"
      },
      "source": [
        "musemu = van_all[van_all['ODCAF_Facility_Type'] == 'museum']\n",
        "musemu.count()\n",
        "musemu.to_csv('vancouver_museums.csv', index=False)"
      ],
      "execution_count": null,
      "outputs": []
    },
    {
      "cell_type": "code",
      "metadata": {
        "id": "SFZrnPKAz-Kj"
      },
      "source": [
        "musemu = musemu[['Index', 'Latitude', 'Longitude']]"
      ],
      "execution_count": null,
      "outputs": []
    },
    {
      "cell_type": "code",
      "metadata": {
        "id": "0NTDWskF4DTB"
      },
      "source": [
        "musemu.rename(columns={'Index':'id'}, inplace=True)\n",
        "musemu.rename(columns={'Latitude':'lat'}, inplace=True)\n",
        "musemu.rename(columns={'Longitude':'lon'}, inplace=True)"
      ],
      "execution_count": null,
      "outputs": []
    },
    {
      "cell_type": "code",
      "metadata": {
        "colab": {
          "base_uri": "https://localhost:8080/"
        },
        "id": "8fXGx0Jm68aG",
        "outputId": "c444fe3a-8a65-4a91-c6ea-9536b38c9b01"
      },
      "source": [
        "musemu.dtypes"
      ],
      "execution_count": null,
      "outputs": [
        {
          "output_type": "execute_result",
          "data": {
            "text/plain": [
              "id       int64\n",
              "lat    float64\n",
              "lon    float64\n",
              "dtype: object"
            ]
          },
          "metadata": {
            "tags": []
          },
          "execution_count": 113
        }
      ]
    },
    {
      "cell_type": "code",
      "metadata": {
        "id": "uapNHyih6cAZ"
      },
      "source": [
        "musemu[[\"lat\", \"lon\"]] = musemu[[\"lat\", \"lon\"]].apply(pd.to_numeric, errors='coerce')"
      ],
      "execution_count": null,
      "outputs": []
    },
    {
      "cell_type": "code",
      "metadata": {
        "colab": {
          "base_uri": "https://localhost:8080/",
          "height": 204
        },
        "id": "QO-UmJoo4UWw",
        "outputId": "610e5f75-5d72-4281-be7f-9ac12a5f9268"
      },
      "source": [
        "musemu.head()"
      ],
      "execution_count": null,
      "outputs": [
        {
          "output_type": "execute_result",
          "data": {
            "text/html": [
              "<div>\n",
              "<style scoped>\n",
              "    .dataframe tbody tr th:only-of-type {\n",
              "        vertical-align: middle;\n",
              "    }\n",
              "\n",
              "    .dataframe tbody tr th {\n",
              "        vertical-align: top;\n",
              "    }\n",
              "\n",
              "    .dataframe thead th {\n",
              "        text-align: right;\n",
              "    }\n",
              "</style>\n",
              "<table border=\"1\" class=\"dataframe\">\n",
              "  <thead>\n",
              "    <tr style=\"text-align: right;\">\n",
              "      <th></th>\n",
              "      <th>id</th>\n",
              "      <th>lat</th>\n",
              "      <th>lon</th>\n",
              "    </tr>\n",
              "  </thead>\n",
              "  <tbody>\n",
              "    <tr>\n",
              "      <th>8</th>\n",
              "      <td>10</td>\n",
              "      <td>49.176354</td>\n",
              "      <td>-123.112783</td>\n",
              "    </tr>\n",
              "    <tr>\n",
              "      <th>13</th>\n",
              "      <td>15</td>\n",
              "      <td>49.261938</td>\n",
              "      <td>-123.151123</td>\n",
              "    </tr>\n",
              "    <tr>\n",
              "      <th>21</th>\n",
              "      <td>24</td>\n",
              "      <td>49.278786</td>\n",
              "      <td>-123.098796</td>\n",
              "    </tr>\n",
              "    <tr>\n",
              "      <th>208</th>\n",
              "      <td>254</td>\n",
              "      <td>49.280310</td>\n",
              "      <td>-123.122836</td>\n",
              "    </tr>\n",
              "    <tr>\n",
              "      <th>267</th>\n",
              "      <td>317</td>\n",
              "      <td>49.201777</td>\n",
              "      <td>-122.911292</td>\n",
              "    </tr>\n",
              "  </tbody>\n",
              "</table>\n",
              "</div>"
            ],
            "text/plain": [
              "      id        lat         lon\n",
              "8     10  49.176354 -123.112783\n",
              "13    15  49.261938 -123.151123\n",
              "21    24  49.278786 -123.098796\n",
              "208  254  49.280310 -123.122836\n",
              "267  317  49.201777 -122.911292"
            ]
          },
          "metadata": {
            "tags": []
          },
          "execution_count": 112
        }
      ]
    },
    {
      "cell_type": "code",
      "metadata": {
        "id": "nJCA9G5A4QvN"
      },
      "source": [
        "musemu.to_csv('van_museum.csv', index=False)"
      ],
      "execution_count": null,
      "outputs": []
    },
    {
      "cell_type": "code",
      "metadata": {
        "colab": {
          "base_uri": "https://localhost:8080/"
        },
        "id": "349b02qeoRAL",
        "outputId": "e894e46b-9de9-43be-d007-870015d7ad06"
      },
      "source": [
        "van.DBUID.nunique()"
      ],
      "execution_count": null,
      "outputs": [
        {
          "output_type": "execute_result",
          "data": {
            "text/plain": [
              "15197"
            ]
          },
          "metadata": {
            "tags": []
          },
          "execution_count": 35
        }
      ]
    },
    {
      "cell_type": "code",
      "metadata": {
        "id": "KPDGr8EqsxVB"
      },
      "source": [
        "van.rename(columns={'DBUID':'id'}, inplace=True)"
      ],
      "execution_count": null,
      "outputs": []
    },
    {
      "cell_type": "code",
      "metadata": {
        "colab": {
          "base_uri": "https://localhost:8080/"
        },
        "id": "KLU3dDaVyhLB",
        "outputId": "e7b42ff6-5e5f-477b-ae14-719626b51cb5"
      },
      "source": [
        "van['id'] = van['id'].apply(str)\n",
        "van.id.count()"
      ],
      "execution_count": null,
      "outputs": [
        {
          "output_type": "execute_result",
          "data": {
            "text/plain": [
              "15197"
            ]
          },
          "metadata": {
            "tags": []
          },
          "execution_count": 100
        }
      ]
    },
    {
      "cell_type": "code",
      "metadata": {
        "colab": {
          "base_uri": "https://localhost:8080/",
          "height": 204
        },
        "id": "F3PlMUqhpqnR",
        "outputId": "2b28135f-96f6-41fb-97f5-3a3e3f098cab"
      },
      "source": [
        "samp = pd.read_csv('/content/data/MyDrive/Capstone_Data/poa_hexgrid.csv')\n",
        "samp.head()"
      ],
      "execution_count": null,
      "outputs": [
        {
          "output_type": "execute_result",
          "data": {
            "text/html": [
              "<div>\n",
              "<style scoped>\n",
              "    .dataframe tbody tr th:only-of-type {\n",
              "        vertical-align: middle;\n",
              "    }\n",
              "\n",
              "    .dataframe tbody tr th {\n",
              "        vertical-align: top;\n",
              "    }\n",
              "\n",
              "    .dataframe thead th {\n",
              "        text-align: right;\n",
              "    }\n",
              "</style>\n",
              "<table border=\"1\" class=\"dataframe\">\n",
              "  <thead>\n",
              "    <tr style=\"text-align: right;\">\n",
              "      <th></th>\n",
              "      <th>id</th>\n",
              "      <th>lon</th>\n",
              "      <th>lat</th>\n",
              "      <th>population</th>\n",
              "      <th>schools</th>\n",
              "    </tr>\n",
              "  </thead>\n",
              "  <tbody>\n",
              "    <tr>\n",
              "      <th>0</th>\n",
              "      <td>89a901291abffff</td>\n",
              "      <td>-51.158246</td>\n",
              "      <td>-30.053846</td>\n",
              "      <td>0</td>\n",
              "      <td>0</td>\n",
              "    </tr>\n",
              "    <tr>\n",
              "      <th>1</th>\n",
              "      <td>89a9012a3cfffff</td>\n",
              "      <td>-51.211867</td>\n",
              "      <td>-30.100576</td>\n",
              "      <td>159</td>\n",
              "      <td>0</td>\n",
              "    </tr>\n",
              "    <tr>\n",
              "      <th>2</th>\n",
              "      <td>89a901295b7ffff</td>\n",
              "      <td>-51.165206</td>\n",
              "      <td>-30.075442</td>\n",
              "      <td>1008</td>\n",
              "      <td>0</td>\n",
              "    </tr>\n",
              "    <tr>\n",
              "      <th>3</th>\n",
              "      <td>89a901284a3ffff</td>\n",
              "      <td>-51.205354</td>\n",
              "      <td>-30.090046</td>\n",
              "      <td>92</td>\n",
              "      <td>0</td>\n",
              "    </tr>\n",
              "    <tr>\n",
              "      <th>4</th>\n",
              "      <td>89a9012809bffff</td>\n",
              "      <td>-51.195754</td>\n",
              "      <td>-30.078387</td>\n",
              "      <td>577</td>\n",
              "      <td>0</td>\n",
              "    </tr>\n",
              "  </tbody>\n",
              "</table>\n",
              "</div>"
            ],
            "text/plain": [
              "                id        lon        lat  population  schools\n",
              "0  89a901291abffff -51.158246 -30.053846           0        0\n",
              "1  89a9012a3cfffff -51.211867 -30.100576         159        0\n",
              "2  89a901295b7ffff -51.165206 -30.075442        1008        0\n",
              "3  89a901284a3ffff -51.205354 -30.090046          92        0\n",
              "4  89a9012809bffff -51.195754 -30.078387         577        0"
            ]
          },
          "metadata": {
            "tags": []
          },
          "execution_count": 24
        }
      ]
    },
    {
      "cell_type": "code",
      "metadata": {
        "colab": {
          "base_uri": "https://localhost:8080/"
        },
        "id": "LZ3CN1nu1s3L",
        "outputId": "5d8d4b1e-dacb-4ff1-c4fd-b6b67695a623"
      },
      "source": [
        "cols = list(van.columns.values)\n",
        "cols"
      ],
      "execution_count": null,
      "outputs": [
        {
          "output_type": "execute_result",
          "data": {
            "text/plain": [
              "['id', 'DBPOP', 'lat', 'lon']"
            ]
          },
          "metadata": {
            "tags": []
          },
          "execution_count": 101
        }
      ]
    },
    {
      "cell_type": "code",
      "metadata": {
        "id": "gDQkCK7P1wVd"
      },
      "source": [
        "van = van[['id', 'lon', 'lat', 'DBPOP']]"
      ],
      "execution_count": null,
      "outputs": []
    },
    {
      "cell_type": "code",
      "metadata": {
        "colab": {
          "base_uri": "https://localhost:8080/",
          "height": 204
        },
        "id": "CVWLykrv2zFx",
        "outputId": "154678bb-cc1b-4da7-e93e-680bfeb613e3"
      },
      "source": [
        "van.loc[:, 'schools'] = 0\n",
        "van.head()"
      ],
      "execution_count": null,
      "outputs": [
        {
          "output_type": "execute_result",
          "data": {
            "text/html": [
              "<div>\n",
              "<style scoped>\n",
              "    .dataframe tbody tr th:only-of-type {\n",
              "        vertical-align: middle;\n",
              "    }\n",
              "\n",
              "    .dataframe tbody tr th {\n",
              "        vertical-align: top;\n",
              "    }\n",
              "\n",
              "    .dataframe thead th {\n",
              "        text-align: right;\n",
              "    }\n",
              "</style>\n",
              "<table border=\"1\" class=\"dataframe\">\n",
              "  <thead>\n",
              "    <tr style=\"text-align: right;\">\n",
              "      <th></th>\n",
              "      <th>id</th>\n",
              "      <th>lon</th>\n",
              "      <th>lat</th>\n",
              "      <th>DBPOP</th>\n",
              "      <th>schools</th>\n",
              "    </tr>\n",
              "  </thead>\n",
              "  <tbody>\n",
              "    <tr>\n",
              "      <th>442430</th>\n",
              "      <td>59150004004</td>\n",
              "      <td>-123.2738</td>\n",
              "      <td>49.3739</td>\n",
              "      <td>35</td>\n",
              "      <td>0</td>\n",
              "    </tr>\n",
              "    <tr>\n",
              "      <th>442431</th>\n",
              "      <td>59150004005</td>\n",
              "      <td>-123.2757</td>\n",
              "      <td>49.3746</td>\n",
              "      <td>50</td>\n",
              "      <td>0</td>\n",
              "    </tr>\n",
              "    <tr>\n",
              "      <th>442432</th>\n",
              "      <td>59150004006</td>\n",
              "      <td>-123.2763</td>\n",
              "      <td>49.3738</td>\n",
              "      <td>94</td>\n",
              "      <td>0</td>\n",
              "    </tr>\n",
              "    <tr>\n",
              "      <th>442433</th>\n",
              "      <td>59150004011</td>\n",
              "      <td>-123.2725</td>\n",
              "      <td>49.3735</td>\n",
              "      <td>0</td>\n",
              "      <td>0</td>\n",
              "    </tr>\n",
              "    <tr>\n",
              "      <th>442434</th>\n",
              "      <td>59150004012</td>\n",
              "      <td>-123.2729</td>\n",
              "      <td>49.3725</td>\n",
              "      <td>0</td>\n",
              "      <td>0</td>\n",
              "    </tr>\n",
              "  </tbody>\n",
              "</table>\n",
              "</div>"
            ],
            "text/plain": [
              "                 id       lon      lat DBPOP  schools\n",
              "442430  59150004004 -123.2738  49.3739    35        0\n",
              "442431  59150004005 -123.2757  49.3746    50        0\n",
              "442432  59150004006 -123.2763  49.3738    94        0\n",
              "442433  59150004011 -123.2725  49.3735     0        0\n",
              "442434  59150004012 -123.2729  49.3725     0        0"
            ]
          },
          "metadata": {
            "tags": []
          },
          "execution_count": 103
        }
      ]
    },
    {
      "cell_type": "code",
      "metadata": {
        "id": "rJGAkCId5O60"
      },
      "source": [
        "van.rename(columns={'DBPOP':'population'}, inplace=True)"
      ],
      "execution_count": null,
      "outputs": []
    },
    {
      "cell_type": "code",
      "metadata": {
        "colab": {
          "base_uri": "https://localhost:8080/",
          "height": 297
        },
        "id": "7FkcI8rl5VSn",
        "outputId": "7fe98a71-8bd2-48ef-b7c6-ebbd1653ad47"
      },
      "source": [
        "musemu.describe()"
      ],
      "execution_count": null,
      "outputs": [
        {
          "output_type": "execute_result",
          "data": {
            "text/html": [
              "<div>\n",
              "<style scoped>\n",
              "    .dataframe tbody tr th:only-of-type {\n",
              "        vertical-align: middle;\n",
              "    }\n",
              "\n",
              "    .dataframe tbody tr th {\n",
              "        vertical-align: top;\n",
              "    }\n",
              "\n",
              "    .dataframe thead th {\n",
              "        text-align: right;\n",
              "    }\n",
              "</style>\n",
              "<table border=\"1\" class=\"dataframe\">\n",
              "  <thead>\n",
              "    <tr style=\"text-align: right;\">\n",
              "      <th></th>\n",
              "      <th>id</th>\n",
              "    </tr>\n",
              "  </thead>\n",
              "  <tbody>\n",
              "    <tr>\n",
              "      <th>count</th>\n",
              "      <td>92.000000</td>\n",
              "    </tr>\n",
              "    <tr>\n",
              "      <th>mean</th>\n",
              "      <td>5487.630435</td>\n",
              "    </tr>\n",
              "    <tr>\n",
              "      <th>std</th>\n",
              "      <td>3265.823834</td>\n",
              "    </tr>\n",
              "    <tr>\n",
              "      <th>min</th>\n",
              "      <td>10.000000</td>\n",
              "    </tr>\n",
              "    <tr>\n",
              "      <th>25%</th>\n",
              "      <td>2577.250000</td>\n",
              "    </tr>\n",
              "    <tr>\n",
              "      <th>50%</th>\n",
              "      <td>6323.000000</td>\n",
              "    </tr>\n",
              "    <tr>\n",
              "      <th>75%</th>\n",
              "      <td>8581.000000</td>\n",
              "    </tr>\n",
              "    <tr>\n",
              "      <th>max</th>\n",
              "      <td>9644.000000</td>\n",
              "    </tr>\n",
              "  </tbody>\n",
              "</table>\n",
              "</div>"
            ],
            "text/plain": [
              "                id\n",
              "count    92.000000\n",
              "mean   5487.630435\n",
              "std    3265.823834\n",
              "min      10.000000\n",
              "25%    2577.250000\n",
              "50%    6323.000000\n",
              "75%    8581.000000\n",
              "max    9644.000000"
            ]
          },
          "metadata": {
            "tags": []
          },
          "execution_count": 108
        }
      ]
    },
    {
      "cell_type": "code",
      "metadata": {
        "id": "mk29k_oDtTYL"
      },
      "source": [
        "van.to_csv('vancouver_db.csv', index=False)"
      ],
      "execution_count": null,
      "outputs": []
    }
  ]
}