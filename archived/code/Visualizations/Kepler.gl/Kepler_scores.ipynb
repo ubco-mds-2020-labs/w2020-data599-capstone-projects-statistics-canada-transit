{
 "cells": [
  {
   "cell_type": "code",
   "execution_count": 33,
   "metadata": {},
   "outputs": [],
   "source": [
    "import warnings\n",
    "import keplergl\n",
    "import numpy as np\n",
    "import osmnx as ox\n",
    "import pandas as pd\n",
    "import geopandas as gpd\n",
    "import plotly.express as px\n",
    "from skgstat import Variogram\n",
    "import matplotlib.pyplot as plt\n",
    "from shapely.geometry import Point\n",
    "from pykrige.ok import OrdinaryKriging\n",
    "from scipy.interpolate import NearestNDInterpolator\n",
    "from tobler.area_weighted import area_interpolate\n",
    "import plotly.express as px\n",
    "import json\n",
    "import ogr\n",
    "import ipywidgets as widgets\n",
    "from IPython.display import display\n",
    "# Custom functions\n",
    "from scripts.utils import pixel2poly\n",
    "# Plotting defaults\n",
    "plt.style.use('ggplot')\n",
    "px.defaults.height = 400; px.defaults.width = 620\n",
    "plt.rcParams.update({'font.size': 16, 'axes.labelweight': 'bold', 'figure.figsize': (6, 6), 'axes.grid': False})"
   ]
  },
  {
   "cell_type": "code",
   "execution_count": 34,
   "metadata": {},
   "outputs": [],
   "source": [
    "# this isn't really a .geojson, it's just a json list of features\n",
    "with open('van_poly.geojson') as f:\n",
    "  blocks = json.load(f)"
   ]
  },
  {
   "cell_type": "code",
   "execution_count": 35,
   "metadata": {},
   "outputs": [
    {
     "data": {
      "text/plain": [
       "{'type': 'Feature',\n",
       " 'properties': {'DBUID': '59150244005',\n",
       "  'DBRPLAMX': 4030983.593945,\n",
       "  'DBRPLAMY': 2005717.42964501,\n",
       "  'PRUID': '59',\n",
       "  'PRNAME': 'British Columbia / Colombie-Britannique',\n",
       "  'CDUID': '5915',\n",
       "  'CDNAME': 'Greater Vancouver',\n",
       "  'CDTYPE': 'RD',\n",
       "  'CCSUID': '5915020',\n",
       "  'CCSNAME': 'Greater Vancouver A',\n",
       "  'CSDUID': '5915046',\n",
       "  'CSDNAME': 'North Vancouver',\n",
       "  'CSDTYPE': 'DM',\n",
       "  'ERUID': '5920',\n",
       "  'ERNAME': 'Lower Mainland--Southwest / Lower Mainland--Sud-ouest',\n",
       "  'FEDUID': '59002',\n",
       "  'FEDNAME': 'Burnaby North--Seymour / Burnaby-Nord--Seymour',\n",
       "  'SACCODE': '933',\n",
       "  'SACTYPE': '1',\n",
       "  'CMAUID': '933',\n",
       "  'CMAPUID': '59933',\n",
       "  'CMANAME': 'Vancouver',\n",
       "  'CMATYPE': 'B',\n",
       "  'CTUID': '9330110.03',\n",
       "  'CTNAME': '0110.03',\n",
       "  'ADAUID': '59150014',\n",
       "  'DAUID': '59150244'},\n",
       " 'geometry': {'type': 'Polygon',\n",
       "  'coordinates': [[[-122.96251616532064, 49.32169736741242],\n",
       "    [-122.96222837991496, 49.321261359289615],\n",
       "    [-122.9621961748921, 49.32116586646329],\n",
       "    [-122.96234696135333, 49.321026057053416],\n",
       "    [-122.96258594868415, 49.320990470301105],\n",
       "    [-122.9628158677417, 49.32100765306524],\n",
       "    [-122.96293694647484, 49.32109213975306],\n",
       "    [-122.96318953915885, 49.321498256578465],\n",
       "    [-122.96251616532064, 49.32169736741242]]]}}"
      ]
     },
     "execution_count": 35,
     "metadata": {},
     "output_type": "execute_result"
    }
   ],
   "source": [
    "# we need to convert it to geojson format by putting back in this dictionary structure\n",
    "geo_json = {\"type\": \"FeatureCollection\", \"features\": blocks}\n",
    "geo_json[\"features\"][0]"
   ]
  },
  {
   "cell_type": "code",
   "execution_count": 36,
   "metadata": {},
   "outputs": [
    {
     "data": {
      "text/html": [
       "<div>\n",
       "<style scoped>\n",
       "    .dataframe tbody tr th:only-of-type {\n",
       "        vertical-align: middle;\n",
       "    }\n",
       "\n",
       "    .dataframe tbody tr th {\n",
       "        vertical-align: top;\n",
       "    }\n",
       "\n",
       "    .dataframe thead th {\n",
       "        text-align: right;\n",
       "    }\n",
       "</style>\n",
       "<table border=\"1\" class=\"dataframe\">\n",
       "  <thead>\n",
       "    <tr style=\"text-align: right;\">\n",
       "      <th></th>\n",
       "      <th>geometry</th>\n",
       "      <th>DBUID</th>\n",
       "    </tr>\n",
       "  </thead>\n",
       "  <tbody>\n",
       "    <tr>\n",
       "      <th>0</th>\n",
       "      <td>POLYGON ((-122.96252 49.32170, -122.96223 49.3...</td>\n",
       "      <td>59150244005</td>\n",
       "    </tr>\n",
       "    <tr>\n",
       "      <th>1</th>\n",
       "      <td>POLYGON ((-122.96832 49.34238, -122.96780 49.3...</td>\n",
       "      <td>59150244008</td>\n",
       "    </tr>\n",
       "    <tr>\n",
       "      <th>2</th>\n",
       "      <td>POLYGON ((-123.07798 49.25263, -123.07799 49.2...</td>\n",
       "      <td>59150372006</td>\n",
       "    </tr>\n",
       "    <tr>\n",
       "      <th>3</th>\n",
       "      <td>POLYGON ((-123.07991 49.25206, -123.07802 49.2...</td>\n",
       "      <td>59150372007</td>\n",
       "    </tr>\n",
       "    <tr>\n",
       "      <th>4</th>\n",
       "      <td>POLYGON ((-123.08188 49.25090, -123.08189 49.2...</td>\n",
       "      <td>59150373001</td>\n",
       "    </tr>\n",
       "  </tbody>\n",
       "</table>\n",
       "</div>"
      ],
      "text/plain": [
       "                                            geometry        DBUID\n",
       "0  POLYGON ((-122.96252 49.32170, -122.96223 49.3...  59150244005\n",
       "1  POLYGON ((-122.96832 49.34238, -122.96780 49.3...  59150244008\n",
       "2  POLYGON ((-123.07798 49.25263, -123.07799 49.2...  59150372006\n",
       "3  POLYGON ((-123.07991 49.25206, -123.07802 49.2...  59150372007\n",
       "4  POLYGON ((-123.08188 49.25090, -123.08189 49.2...  59150373001"
      ]
     },
     "execution_count": 36,
     "metadata": {},
     "output_type": "execute_result"
    }
   ],
   "source": [
    "df = gpd.GeoDataFrame.from_features(geo_json)\n",
    "df = df[['geometry', 'DBUID']]\n",
    "df.head()"
   ]
  },
  {
   "cell_type": "code",
   "execution_count": 12,
   "metadata": {},
   "outputs": [
    {
     "data": {
      "text/html": [
       "<div>\n",
       "<style scoped>\n",
       "    .dataframe tbody tr th:only-of-type {\n",
       "        vertical-align: middle;\n",
       "    }\n",
       "\n",
       "    .dataframe tbody tr th {\n",
       "        vertical-align: top;\n",
       "    }\n",
       "\n",
       "    .dataframe thead th {\n",
       "        text-align: right;\n",
       "    }\n",
       "</style>\n",
       "<table border=\"1\" class=\"dataframe\">\n",
       "  <thead>\n",
       "    <tr style=\"text-align: right;\">\n",
       "      <th></th>\n",
       "      <th>geometry</th>\n",
       "      <th>Label</th>\n",
       "    </tr>\n",
       "  </thead>\n",
       "  <tbody>\n",
       "    <tr>\n",
       "      <th>0</th>\n",
       "      <td>POLYGON ((-123.07270 49.21479, -123.07365 49.2...</td>\n",
       "      <td>Building Footprints</td>\n",
       "    </tr>\n",
       "    <tr>\n",
       "      <th>1</th>\n",
       "      <td>POLYGON ((-123.11352 49.27631, -123.11329 49.2...</td>\n",
       "      <td>Building Footprints</td>\n",
       "    </tr>\n",
       "    <tr>\n",
       "      <th>2</th>\n",
       "      <td>POLYGON ((-123.10901 49.27844, -123.10881 49.2...</td>\n",
       "      <td>Building Footprints</td>\n",
       "    </tr>\n",
       "    <tr>\n",
       "      <th>3</th>\n",
       "      <td>POLYGON ((-123.13516 49.27260, -123.13519 49.2...</td>\n",
       "      <td>Building Footprints</td>\n",
       "    </tr>\n",
       "    <tr>\n",
       "      <th>4</th>\n",
       "      <td>POLYGON ((-123.09811 49.27417, -123.09808 49.2...</td>\n",
       "      <td>Building Footprints</td>\n",
       "    </tr>\n",
       "  </tbody>\n",
       "</table>\n",
       "</div>"
      ],
      "text/plain": [
       "                                            geometry                Label\n",
       "0  POLYGON ((-123.07270 49.21479, -123.07365 49.2...  Building Footprints\n",
       "1  POLYGON ((-123.11352 49.27631, -123.11329 49.2...  Building Footprints\n",
       "2  POLYGON ((-123.10901 49.27844, -123.10881 49.2...  Building Footprints\n",
       "3  POLYGON ((-123.13516 49.27260, -123.13519 49.2...  Building Footprints\n",
       "4  POLYGON ((-123.09811 49.27417, -123.09808 49.2...  Building Footprints"
      ]
     },
     "execution_count": 12,
     "metadata": {},
     "output_type": "execute_result"
    }
   ],
   "source": [
    "van_api = (ox.geometries_from_place('Vancouver, Canada', tags={'building':True})\n",
    "         .loc[:, [\"geometry\"]]                 # just keep the geometry column for now\n",
    "         .query(\"geometry.type == 'Polygon'\")  # only what polygons (buidling footprints)\n",
    "         .assign(Label=\"Building Footprints\")  # assign a label for later use\n",
    "         .reset_index(drop=True)               # reset to 0 integer indexing\n",
    "      )\n",
    "van_api.head()"
   ]
  },
  {
   "cell_type": "code",
   "execution_count": 15,
   "metadata": {},
   "outputs": [
    {
     "name": "stderr",
     "output_type": "stream",
     "text": [
      "C:\\Users\\rainy\\AppData\\Roaming\\Python\\Python38\\site-packages\\ipykernel\\ipkernel.py:283: DeprecationWarning: `should_run_async` will not call `transform_cell` automatically in the future. Please pass the result to `transformed_cell` argument and any exception that happen during thetransform in `preprocessing_exc_tuple` in IPython 7.17 and above.\n",
      "  and should_run_async(code)\n"
     ]
    },
    {
     "data": {
      "image/png": "[encoded data removed]",
      "text/plain": [
       "<Figure size 576x576 with 1 Axes>"
      ]
     },
     "metadata": {},
     "output_type": "display_data"
    }
   ],
   "source": [
    "ax = van.plot(figsize=(8, 8), column=\"Label\", legend=True,\n",
    "              edgecolor=\"0.2\", markersize=200, cmap=\"rainbow\")\n",
    "plt.title(\"Vancouver\");"
   ]
  },
  {
   "cell_type": "markdown",
   "metadata": {},
   "source": [
    "## Kepler.gl"
   ]
  },
  {
   "cell_type": "markdown",
   "metadata": {},
   "source": [
    "### Geojson"
   ]
  },
  {
   "cell_type": "code",
   "execution_count": 8,
   "metadata": {},
   "outputs": [
    {
     "name": "stdout",
     "output_type": "stream",
     "text": [
      "User Guide: https://docs.kepler.gl/docs/keplergl-jupyter\n"
     ]
    },
    {
     "data": {
      "application/vnd.jupyter.widget-view+json": {
       "model_id": "a23583cc7e4c4f8cb752cc905d5f75a7",
       "version_major": 2,
       "version_minor": 0
      },
      "text/plain": [
       "KeplerGl(data={'geojson': {'type': 'FeatureCollection', 'features': [{'type': 'Feature', 'properties': {'DBUID…"
      ]
     },
     "metadata": {},
     "output_type": "display_data"
    }
   ],
   "source": [
    "import keplergl\n",
    "map_1 = keplergl.KeplerGl(height=600)\n",
    "map_1.add_data(geo_json, \"geojson\")\n",
    "map_1"
   ]
  },
  {
   "cell_type": "code",
   "execution_count": 10,
   "metadata": {
    "tags": [
     "hide-output"
    ]
   },
   "outputs": [
    {
     "name": "stdout",
     "output_type": "stream",
     "text": [
      "User Guide: https://docs.kepler.gl/docs/keplergl-jupyter\n"
     ]
    },
    {
     "data": {
      "application/vnd.jupyter.widget-view+json": {
       "model_id": "748301e5bc9a497cacfe79e2bad83b74",
       "version_major": 2,
       "version_minor": 0
      },
      "text/plain": [
       "KeplerGl(data={'Building heights': {'index': [0, 1, 2, 3, 4, 5, 6, 7, 8, 9, 10, 11, 12, 13, 14, 15, 16, 17, 18…"
      ]
     },
     "metadata": {},
     "output_type": "display_data"
    }
   ],
   "source": [
    "import keplergl\n",
    "van_map = keplergl.KeplerGl(height=500)\n",
    "van_map.add_data(data=van.copy(), name=\"Building heights\")\n",
    "van_map"
   ]
  },
  {
   "cell_type": "code",
   "execution_count": 6,
   "metadata": {},
   "outputs": [
    {
     "name": "stdout",
     "output_type": "stream",
     "text": [
      "Map saved to json.html!\n"
     ]
    }
   ],
   "source": [
    "map_1.save_to_html(file_name='json.html')"
   ]
  },
  {
   "cell_type": "code",
   "execution_count": 7,
   "metadata": {},
   "outputs": [
    {
     "data": {
      "text/html": [
       "<iframe src=\"json.html\" width=\"80%\" height=\"500\"></iframe>\n"
      ],
      "text/plain": [
       "<IPython.core.display.HTML object>"
      ]
     },
     "metadata": {},
     "output_type": "display_data"
    }
   ],
   "source": [
    "%%html\n",
    "<iframe src=\"json.html\" width=\"80%\" height=\"500\"></iframe>"
   ]
  },
  {
   "cell_type": "markdown",
   "metadata": {},
   "source": [
    "### All destinations"
   ]
  },
  {
   "cell_type": "code",
   "execution_count": 9,
   "metadata": {},
   "outputs": [
    {
     "data": {
      "text/plain": [
       "14227    0.113493\n",
       "Name: score, dtype: float64"
      ]
     },
     "execution_count": 9,
     "metadata": {},
     "output_type": "execute_result"
    }
   ],
   "source": [
    "des = pd.read_csv('all_destination_scores.csv')\n",
    "des.loc[des['fromId'] == 59154027001,'score']"
   ]
  },
  {
   "cell_type": "code",
   "execution_count": 10,
   "metadata": {},
   "outputs": [
    {
     "data": {
      "text/plain": [
       "5368060     115\n",
       "5368061    2359\n",
       "5368062    7212\n",
       "Name: toId, dtype: int64"
      ]
     },
     "execution_count": 10,
     "metadata": {},
     "output_type": "execute_result"
    }
   ],
   "source": [
    "ttm = pd.read_csv('ttm_1.5.csv')\n",
    "ttm.query('fromId==59154027001')['toId']\n",
    "# ttm.loc[ttm['fromId'] == 59154027001, 'toId']"
   ]
  },
  {
   "cell_type": "code",
   "execution_count": 11,
   "metadata": {},
   "outputs": [
    {
     "data": {
      "text/html": [
       "<div>\n",
       "<style scoped>\n",
       "    .dataframe tbody tr th:only-of-type {\n",
       "        vertical-align: middle;\n",
       "    }\n",
       "\n",
       "    .dataframe tbody tr th {\n",
       "        vertical-align: top;\n",
       "    }\n",
       "\n",
       "    .dataframe thead th {\n",
       "        text-align: right;\n",
       "    }\n",
       "</style>\n",
       "<table border=\"1\" class=\"dataframe\">\n",
       "  <thead>\n",
       "    <tr style=\"text-align: right;\">\n",
       "      <th></th>\n",
       "      <th>fromId</th>\n",
       "      <th>toId</th>\n",
       "      <th>avg_unique_time</th>\n",
       "      <th>sd_unique_time</th>\n",
       "    </tr>\n",
       "  </thead>\n",
       "  <tbody>\n",
       "    <tr>\n",
       "      <th>0</th>\n",
       "      <td>59150004004</td>\n",
       "      <td>10</td>\n",
       "      <td>97.641026</td>\n",
       "      <td>3.936918</td>\n",
       "    </tr>\n",
       "    <tr>\n",
       "      <th>1</th>\n",
       "      <td>59150004004</td>\n",
       "      <td>15</td>\n",
       "      <td>72.487179</td>\n",
       "      <td>3.401794</td>\n",
       "    </tr>\n",
       "    <tr>\n",
       "      <th>2</th>\n",
       "      <td>59150004004</td>\n",
       "      <td>157</td>\n",
       "      <td>96.692308</td>\n",
       "      <td>3.001349</td>\n",
       "    </tr>\n",
       "    <tr>\n",
       "      <th>3</th>\n",
       "      <td>59150004004</td>\n",
       "      <td>1759</td>\n",
       "      <td>106.820513</td>\n",
       "      <td>4.388213</td>\n",
       "    </tr>\n",
       "    <tr>\n",
       "      <th>4</th>\n",
       "      <td>59150004004</td>\n",
       "      <td>1760</td>\n",
       "      <td>46.589744</td>\n",
       "      <td>2.642944</td>\n",
       "    </tr>\n",
       "  </tbody>\n",
       "</table>\n",
       "</div>"
      ],
      "text/plain": [
       "        fromId  toId  avg_unique_time  sd_unique_time\n",
       "0  59150004004    10        97.641026        3.936918\n",
       "1  59150004004    15        72.487179        3.401794\n",
       "2  59150004004   157        96.692308        3.001349\n",
       "3  59150004004  1759       106.820513        4.388213\n",
       "4  59150004004  1760        46.589744        2.642944"
      ]
     },
     "execution_count": 11,
     "metadata": {},
     "output_type": "execute_result"
    }
   ],
   "source": [
    "ttm.head()"
   ]
  },
  {
   "cell_type": "markdown",
   "metadata": {},
   "source": [
    "### Read shapefiles for Dissemination Blocks"
   ]
  },
  {
   "cell_type": "code",
   "execution_count": 10,
   "metadata": {},
   "outputs": [],
   "source": [
    "van = gpd.read_file(\"ldb_000b16a_e\", rows = slice(430905, 431004))"
   ]
  },
  {
   "cell_type": "code",
   "execution_count": 35,
   "metadata": {},
   "outputs": [],
   "source": [
    "van = gpd.read_file(\"ldb_000b16a_e\", bbox=(-123.45,48.99,-122.45,49.49))"
   ]
  },
  {
   "cell_type": "code",
   "execution_count": 6,
   "metadata": {},
   "outputs": [
    {
     "data": {
      "text/html": [
       "<div>\n",
       "<style scoped>\n",
       "    .dataframe tbody tr th:only-of-type {\n",
       "        vertical-align: middle;\n",
       "    }\n",
       "\n",
       "    .dataframe tbody tr th {\n",
       "        vertical-align: top;\n",
       "    }\n",
       "\n",
       "    .dataframe thead th {\n",
       "        text-align: right;\n",
       "    }\n",
       "</style>\n",
       "<table border=\"1\" class=\"dataframe\">\n",
       "  <thead>\n",
       "    <tr style=\"text-align: right;\">\n",
       "      <th></th>\n",
       "      <th>DBUID</th>\n",
       "      <th>geometry</th>\n",
       "    </tr>\n",
       "  </thead>\n",
       "  <tbody>\n",
       "    <tr>\n",
       "      <th>430905</th>\n",
       "      <td>59150244005</td>\n",
       "      <td>POLYGON ((4031012.989 2005749.389, 4031008.691...</td>\n",
       "    </tr>\n",
       "    <tr>\n",
       "      <th>430906</th>\n",
       "      <td>59150244008</td>\n",
       "      <td>POLYGON ((4031720.003 2007975.080, 4031753.591...</td>\n",
       "    </tr>\n",
       "    <tr>\n",
       "      <th>430907</th>\n",
       "      <td>59150372006</td>\n",
       "      <td>POLYGON ((4019999.297 2002926.017, 4019976.249...</td>\n",
       "    </tr>\n",
       "    <tr>\n",
       "      <th>430908</th>\n",
       "      <td>59150372007</td>\n",
       "      <td>POLYGON ((4019845.486 2002936.617, 4019919.283...</td>\n",
       "    </tr>\n",
       "    <tr>\n",
       "      <th>430909</th>\n",
       "      <td>59150373001</td>\n",
       "      <td>POLYGON ((4019657.589 2002889.880, 4019631.389...</td>\n",
       "    </tr>\n",
       "    <tr>\n",
       "      <th>...</th>\n",
       "      <td>...</td>\n",
       "      <td>...</td>\n",
       "    </tr>\n",
       "    <tr>\n",
       "      <th>482214</th>\n",
       "      <td>59153521001</td>\n",
       "      <td>POLYGON ((4030892.540 1982172.203, 4030755.003...</td>\n",
       "    </tr>\n",
       "    <tr>\n",
       "      <th>482215</th>\n",
       "      <td>59153521002</td>\n",
       "      <td>POLYGON ((4030570.246 1982459.846, 4030646.403...</td>\n",
       "    </tr>\n",
       "    <tr>\n",
       "      <th>482216</th>\n",
       "      <td>59153521003</td>\n",
       "      <td>POLYGON ((4030728.943 1982566.280, 4030822.440...</td>\n",
       "    </tr>\n",
       "    <tr>\n",
       "      <th>482217</th>\n",
       "      <td>59153521004</td>\n",
       "      <td>POLYGON ((4030523.351 1982365.306, 4030456.617...</td>\n",
       "    </tr>\n",
       "    <tr>\n",
       "      <th>482218</th>\n",
       "      <td>59153521005</td>\n",
       "      <td>POLYGON ((4030570.246 1982459.846, 4030487.860...</td>\n",
       "    </tr>\n",
       "  </tbody>\n",
       "</table>\n",
       "<p>15197 rows × 2 columns</p>\n",
       "</div>"
      ],
      "text/plain": [
       "              DBUID                                           geometry\n",
       "430905  59150244005  POLYGON ((4031012.989 2005749.389, 4031008.691...\n",
       "430906  59150244008  POLYGON ((4031720.003 2007975.080, 4031753.591...\n",
       "430907  59150372006  POLYGON ((4019999.297 2002926.017, 4019976.249...\n",
       "430908  59150372007  POLYGON ((4019845.486 2002936.617, 4019919.283...\n",
       "430909  59150373001  POLYGON ((4019657.589 2002889.880, 4019631.389...\n",
       "...             ...                                                ...\n",
       "482214  59153521001  POLYGON ((4030892.540 1982172.203, 4030755.003...\n",
       "482215  59153521002  POLYGON ((4030570.246 1982459.846, 4030646.403...\n",
       "482216  59153521003  POLYGON ((4030728.943 1982566.280, 4030822.440...\n",
       "482217  59153521004  POLYGON ((4030523.351 1982365.306, 4030456.617...\n",
       "482218  59153521005  POLYGON ((4030570.246 1982459.846, 4030487.860...\n",
       "\n",
       "[15197 rows x 2 columns]"
      ]
     },
     "execution_count": 6,
     "metadata": {},
     "output_type": "execute_result"
    }
   ],
   "source": [
    "ca = gpd.read_file(\"ldb_000b16a_e\")\n",
    "bc = ca[ca['PRNAME'] == 'British Columbia / Colombie-Britannique']\n",
    "van = bc[bc['CMANAME'] == 'Vancouver']\n",
    "# van = van.reset_index(drop=True)\n",
    "van = van[['DBUID', 'geometry']]\n",
    "van"
   ]
  },
  {
   "cell_type": "code",
   "execution_count": 3,
   "metadata": {},
   "outputs": [],
   "source": [
    "van.to_csv('van_kep.csv', index=False)"
   ]
  },
  {
   "cell_type": "code",
   "execution_count": 33,
   "metadata": {},
   "outputs": [
    {
     "data": {
      "text/plain": [
       "geopandas.geodataframe.GeoDataFrame"
      ]
     },
     "execution_count": 33,
     "metadata": {},
     "output_type": "execute_result"
    }
   ],
   "source": [
    "type(van)"
   ]
  },
  {
   "cell_type": "code",
   "execution_count": 5,
   "metadata": {},
   "outputs": [],
   "source": [
    "from geopandas import GeoDataFrame\n",
    "van = van.reset_index(drop=True)\n",
    "van = van.set_crs(crs=\"EPSG:3857\", allow_override=True)\n",
    "#van = GeoDataFrame(van, crs=\"EPSG:3857\")\n",
    "# van = van.to_crs(\"EPSG:3857\")"
   ]
  },
  {
   "cell_type": "code",
   "execution_count": 39,
   "metadata": {},
   "outputs": [],
   "source": [
    "van = van[van['CMANAME'] == 'Vancouver']"
   ]
  },
  {
   "cell_type": "code",
   "execution_count": 40,
   "metadata": {},
   "outputs": [
    {
     "data": {
      "text/plain": [
       "DBUID       15196\n",
       "DBRPLAMX    15196\n",
       "DBRPLAMY    15196\n",
       "PRUID       15196\n",
       "PRNAME      15196\n",
       "CDUID       15196\n",
       "CDNAME      15196\n",
       "CDTYPE      15196\n",
       "CCSUID      15196\n",
       "CCSNAME     15196\n",
       "CSDUID      15196\n",
       "CSDNAME     15196\n",
       "CSDTYPE     15196\n",
       "ERUID       15196\n",
       "ERNAME      15196\n",
       "FEDUID      15196\n",
       "FEDNAME     15196\n",
       "SACCODE     15196\n",
       "SACTYPE     15196\n",
       "CMAUID      15196\n",
       "CMAPUID     15196\n",
       "CMANAME     15196\n",
       "CMATYPE     15196\n",
       "CTUID       15196\n",
       "CTNAME      15196\n",
       "ADAUID      15196\n",
       "DAUID       15196\n",
       "geometry    15196\n",
       "dtype: int64"
      ]
     },
     "execution_count": 40,
     "metadata": {},
     "output_type": "execute_result"
    }
   ],
   "source": [
    "# van = pd.DataFrame(van)\n",
    "van.count()"
   ]
  },
  {
   "cell_type": "code",
   "execution_count": 39,
   "metadata": {},
   "outputs": [],
   "source": [
    "# id needs to be numeric for joining\n",
    "\n",
    "df[\"DBUID\"] = pd.to_numeric(df[\"DBUID\"])"
   ]
  },
  {
   "cell_type": "code",
   "execution_count": 13,
   "metadata": {},
   "outputs": [
    {
     "data": {
      "text/html": [
       "<div>\n",
       "<style scoped>\n",
       "    .dataframe tbody tr th:only-of-type {\n",
       "        vertical-align: middle;\n",
       "    }\n",
       "\n",
       "    .dataframe tbody tr th {\n",
       "        vertical-align: top;\n",
       "    }\n",
       "\n",
       "    .dataframe thead th {\n",
       "        text-align: right;\n",
       "    }\n",
       "</style>\n",
       "<table border=\"1\" class=\"dataframe\">\n",
       "  <thead>\n",
       "    <tr style=\"text-align: right;\">\n",
       "      <th></th>\n",
       "      <th>DBUID</th>\n",
       "      <th>Score</th>\n",
       "    </tr>\n",
       "  </thead>\n",
       "  <tbody>\n",
       "    <tr>\n",
       "      <th>0</th>\n",
       "      <td>59150004004</td>\n",
       "      <td>0.409541</td>\n",
       "    </tr>\n",
       "    <tr>\n",
       "      <th>1</th>\n",
       "      <td>59150004005</td>\n",
       "      <td>0.404883</td>\n",
       "    </tr>\n",
       "    <tr>\n",
       "      <th>2</th>\n",
       "      <td>59150004006</td>\n",
       "      <td>0.404903</td>\n",
       "    </tr>\n",
       "    <tr>\n",
       "      <th>3</th>\n",
       "      <td>59150004011</td>\n",
       "      <td>0.406174</td>\n",
       "    </tr>\n",
       "    <tr>\n",
       "      <th>4</th>\n",
       "      <td>59150004012</td>\n",
       "      <td>0.403910</td>\n",
       "    </tr>\n",
       "  </tbody>\n",
       "</table>\n",
       "</div>"
      ],
      "text/plain": [
       "         DBUID     Score\n",
       "0  59150004004  0.409541\n",
       "1  59150004005  0.404883\n",
       "2  59150004006  0.404903\n",
       "3  59150004011  0.406174\n",
       "4  59150004012  0.403910"
      ]
     },
     "execution_count": 13,
     "metadata": {},
     "output_type": "execute_result"
    }
   ],
   "source": [
    "scores = pd.read_csv('all_destination_scores.csv')\n",
    "scores.columns = ['DBUID', 'Score']\n",
    "scores.head()"
   ]
  },
  {
   "cell_type": "markdown",
   "metadata": {},
   "source": [
    "### Merge two data sets"
   ]
  },
  {
   "cell_type": "code",
   "execution_count": 14,
   "metadata": {},
   "outputs": [
    {
     "data": {
      "text/html": [
       "<div>\n",
       "<style scoped>\n",
       "    .dataframe tbody tr th:only-of-type {\n",
       "        vertical-align: middle;\n",
       "    }\n",
       "\n",
       "    .dataframe tbody tr th {\n",
       "        vertical-align: top;\n",
       "    }\n",
       "\n",
       "    .dataframe thead th {\n",
       "        text-align: right;\n",
       "    }\n",
       "</style>\n",
       "<table border=\"1\" class=\"dataframe\">\n",
       "  <thead>\n",
       "    <tr style=\"text-align: right;\">\n",
       "      <th></th>\n",
       "      <th>geometry</th>\n",
       "      <th>DBUID</th>\n",
       "      <th>Score</th>\n",
       "    </tr>\n",
       "  </thead>\n",
       "  <tbody>\n",
       "    <tr>\n",
       "      <th>0</th>\n",
       "      <td>POLYGON ((-122.96252 49.32170, -122.96223 49.3...</td>\n",
       "      <td>59150244005</td>\n",
       "      <td>0.312841</td>\n",
       "    </tr>\n",
       "    <tr>\n",
       "      <th>1</th>\n",
       "      <td>POLYGON ((-123.07798 49.25263, -123.07799 49.2...</td>\n",
       "      <td>59150372006</td>\n",
       "      <td>0.710115</td>\n",
       "    </tr>\n",
       "    <tr>\n",
       "      <th>2</th>\n",
       "      <td>POLYGON ((-123.07991 49.25206, -123.07802 49.2...</td>\n",
       "      <td>59150372007</td>\n",
       "      <td>0.710409</td>\n",
       "    </tr>\n",
       "    <tr>\n",
       "      <th>3</th>\n",
       "      <td>POLYGON ((-123.08188 49.25090, -123.08189 49.2...</td>\n",
       "      <td>59150373001</td>\n",
       "      <td>0.707403</td>\n",
       "    </tr>\n",
       "    <tr>\n",
       "      <th>4</th>\n",
       "      <td>POLYGON ((-123.08268 49.24857, -123.08332 49.2...</td>\n",
       "      <td>59150373002</td>\n",
       "      <td>0.707778</td>\n",
       "    </tr>\n",
       "  </tbody>\n",
       "</table>\n",
       "</div>"
      ],
      "text/plain": [
       "                                            geometry        DBUID     Score\n",
       "0  POLYGON ((-122.96252 49.32170, -122.96223 49.3...  59150244005  0.312841\n",
       "1  POLYGON ((-123.07798 49.25263, -123.07799 49.2...  59150372006  0.710115\n",
       "2  POLYGON ((-123.07991 49.25206, -123.07802 49.2...  59150372007  0.710409\n",
       "3  POLYGON ((-123.08188 49.25090, -123.08189 49.2...  59150373001  0.707403\n",
       "4  POLYGON ((-123.08268 49.24857, -123.08332 49.2...  59150373002  0.707778"
      ]
     },
     "execution_count": 14,
     "metadata": {},
     "output_type": "execute_result"
    }
   ],
   "source": [
    "van_geo = df.merge(scores, on='DBUID')\n",
    "van_geo.head()"
   ]
  },
  {
   "cell_type": "code",
   "execution_count": 9,
   "metadata": {},
   "outputs": [
    {
     "data": {
      "text/html": [
       "<div>\n",
       "<style scoped>\n",
       "    .dataframe tbody tr th:only-of-type {\n",
       "        vertical-align: middle;\n",
       "    }\n",
       "\n",
       "    .dataframe tbody tr th {\n",
       "        vertical-align: top;\n",
       "    }\n",
       "\n",
       "    .dataframe thead th {\n",
       "        text-align: right;\n",
       "    }\n",
       "</style>\n",
       "<table border=\"1\" class=\"dataframe\">\n",
       "  <thead>\n",
       "    <tr style=\"text-align: right;\">\n",
       "      <th></th>\n",
       "      <th>DBUID</th>\n",
       "      <th>geometry</th>\n",
       "      <th>score</th>\n",
       "    </tr>\n",
       "  </thead>\n",
       "  <tbody>\n",
       "    <tr>\n",
       "      <th>0</th>\n",
       "      <td>59150244005</td>\n",
       "      <td>POLYGON ((4031012.989 2005749.389, 4031008.691...</td>\n",
       "      <td>0.312841</td>\n",
       "    </tr>\n",
       "    <tr>\n",
       "      <th>1</th>\n",
       "      <td>59150244008</td>\n",
       "      <td>POLYGON ((4031720.003 2007975.080, 4031753.591...</td>\n",
       "      <td>NaN</td>\n",
       "    </tr>\n",
       "    <tr>\n",
       "      <th>2</th>\n",
       "      <td>59150372006</td>\n",
       "      <td>POLYGON ((4019999.297 2002926.017, 4019976.249...</td>\n",
       "      <td>0.710115</td>\n",
       "    </tr>\n",
       "    <tr>\n",
       "      <th>3</th>\n",
       "      <td>59150372007</td>\n",
       "      <td>POLYGON ((4019845.486 2002936.617, 4019919.283...</td>\n",
       "      <td>0.710409</td>\n",
       "    </tr>\n",
       "    <tr>\n",
       "      <th>4</th>\n",
       "      <td>59150373001</td>\n",
       "      <td>POLYGON ((4019657.589 2002889.880, 4019631.389...</td>\n",
       "      <td>0.707403</td>\n",
       "    </tr>\n",
       "  </tbody>\n",
       "</table>\n",
       "</div>"
      ],
      "text/plain": [
       "         DBUID                                           geometry     score\n",
       "0  59150244005  POLYGON ((4031012.989 2005749.389, 4031008.691...  0.312841\n",
       "1  59150244008  POLYGON ((4031720.003 2007975.080, 4031753.591...       NaN\n",
       "2  59150372006  POLYGON ((4019999.297 2002926.017, 4019976.249...  0.710115\n",
       "3  59150372007  POLYGON ((4019845.486 2002936.617, 4019919.283...  0.710409\n",
       "4  59150373001  POLYGON ((4019657.589 2002889.880, 4019631.389...  0.707403"
      ]
     },
     "execution_count": 9,
     "metadata": {},
     "output_type": "execute_result"
    }
   ],
   "source": [
    "# kep = pd.merge(van, scores.rename(columns={'fromId':'DBUID'}), on='DBUID',  how='left')\n",
    "kep = pd.merge(van, scores, left_on='DBUID', right_on='fromId', how='left').drop('fromId', axis=1)\n",
    "kep.head()"
   ]
  },
  {
   "cell_type": "code",
   "execution_count": 67,
   "metadata": {},
   "outputs": [
    {
     "data": {
      "text/html": [
       "<div>\n",
       "<style scoped>\n",
       "    .dataframe tbody tr th:only-of-type {\n",
       "        vertical-align: middle;\n",
       "    }\n",
       "\n",
       "    .dataframe tbody tr th {\n",
       "        vertical-align: top;\n",
       "    }\n",
       "\n",
       "    .dataframe thead th {\n",
       "        text-align: right;\n",
       "    }\n",
       "</style>\n",
       "<table border=\"1\" class=\"dataframe\">\n",
       "  <thead>\n",
       "    <tr style=\"text-align: right;\">\n",
       "      <th></th>\n",
       "      <th>DBUID</th>\n",
       "      <th>score</th>\n",
       "      <th>geometry</th>\n",
       "    </tr>\n",
       "  </thead>\n",
       "  <tbody>\n",
       "    <tr>\n",
       "      <th>0</th>\n",
       "      <td>59150244005</td>\n",
       "      <td>0.312841</td>\n",
       "      <td>POLYGON ((4031012.9885700000450015 2005749.388...</td>\n",
       "    </tr>\n",
       "    <tr>\n",
       "      <th>1</th>\n",
       "      <td>59150244008</td>\n",
       "      <td>NaN</td>\n",
       "      <td>POLYGON ((4031720.0028550000861287 2007975.080...</td>\n",
       "    </tr>\n",
       "    <tr>\n",
       "      <th>2</th>\n",
       "      <td>59150372006</td>\n",
       "      <td>0.710115</td>\n",
       "      <td>POLYGON ((4019999.2971449997276068 2002926.017...</td>\n",
       "    </tr>\n",
       "    <tr>\n",
       "      <th>3</th>\n",
       "      <td>59150372007</td>\n",
       "      <td>0.710409</td>\n",
       "      <td>POLYGON ((4019845.4857149999588728 2002936.617...</td>\n",
       "    </tr>\n",
       "    <tr>\n",
       "      <th>4</th>\n",
       "      <td>59150373001</td>\n",
       "      <td>0.707403</td>\n",
       "      <td>POLYGON ((4019657.5885700001381338 2002889.879...</td>\n",
       "    </tr>\n",
       "  </tbody>\n",
       "</table>\n",
       "</div>"
      ],
      "text/plain": [
       "         DBUID     score                                           geometry\n",
       "0  59150244005  0.312841  POLYGON ((4031012.9885700000450015 2005749.388...\n",
       "1  59150244008       NaN  POLYGON ((4031720.0028550000861287 2007975.080...\n",
       "2  59150372006  0.710115  POLYGON ((4019999.2971449997276068 2002926.017...\n",
       "3  59150372007  0.710409  POLYGON ((4019845.4857149999588728 2002936.617...\n",
       "4  59150373001  0.707403  POLYGON ((4019657.5885700001381338 2002889.879..."
      ]
     },
     "execution_count": 67,
     "metadata": {},
     "output_type": "execute_result"
    }
   ],
   "source": [
    "kep = kep[['DBUID', 'score', 'geometry']]\n",
    "kep.head()"
   ]
  },
  {
   "cell_type": "code",
   "execution_count": null,
   "metadata": {},
   "outputs": [],
   "source": [
    "together = (gpd.sjoin(van, gdf, how=\"left\")\n",
    "                       .drop(columns=\"index_right\")\n",
    "#                        .rename(columns={\"hgt_agl\": \"Height\"})\n",
    "                       .reset_index()\n",
    "                       .dissolve(by=\"index\", aggfunc=\"mean\")  # dissolve is like \"groupby\" in pandas. We use it because it retains geometry information\n",
    "                   )"
   ]
  },
  {
   "cell_type": "markdown",
   "metadata": {},
   "source": [
    "## Compute kepler map"
   ]
  },
  {
   "cell_type": "markdown",
   "metadata": {},
   "source": [
    "### For all destinations"
   ]
  },
  {
   "cell_type": "code",
   "execution_count": 15,
   "metadata": {
    "tags": [
     "hide-output"
    ]
   },
   "outputs": [
    {
     "name": "stdout",
     "output_type": "stream",
     "text": [
      "User Guide: https://docs.kepler.gl/docs/keplergl-jupyter\n"
     ]
    },
    {
     "data": {
      "application/vnd.jupyter.widget-view+json": {
       "model_id": "349628081e65426dbe45ceb355503038",
       "version_major": 2,
       "version_minor": 0
      },
      "text/plain": [
       "KeplerGl(data={'DB Scores': {'index': [0, 1, 2, 3, 4, 5, 6, 7, 8, 9, 10, 11, 12, 13, 14, 15, 16, 17, 18, 19, 2…"
      ]
     },
     "metadata": {},
     "output_type": "display_data"
    }
   ],
   "source": [
    "van_kep = keplergl.KeplerGl(height=500)\n",
    "van_kep.add_data(data=van_geo.copy(), name=\"DB Scores\")\n",
    "van_kep"
   ]
  },
  {
   "cell_type": "code",
   "execution_count": 10,
   "metadata": {},
   "outputs": [
    {
     "name": "stdout",
     "output_type": "stream",
     "text": [
      "Map saved to Vancouver_Kepler.html!\n"
     ]
    }
   ],
   "source": [
    "van_kep.save_to_html(file_name='Vancouver_Kepler.html')"
   ]
  },
  {
   "cell_type": "code",
   "execution_count": 39,
   "metadata": {
    "tags": [
     "hide-input"
    ]
   },
   "outputs": [
    {
     "data": {
      "text/html": [
       "<iframe src=\"Vancouver_Kepler.html\" width=\"80%\" height=\"500\"></iframe>\n"
      ],
      "text/plain": [
       "<IPython.core.display.HTML object>"
      ]
     },
     "metadata": {},
     "output_type": "display_data"
    }
   ],
   "source": [
    "%%html\n",
    "<iframe src=\"Vancouver_Kepler.html\" width=\"80%\" height=\"500\"></iframe>"
   ]
  },
  {
   "cell_type": "markdown",
   "metadata": {},
   "source": [
    "### Nearest library"
   ]
  },
  {
   "cell_type": "code",
   "execution_count": 16,
   "metadata": {},
   "outputs": [
    {
     "data": {
      "text/html": [
       "<div>\n",
       "<style scoped>\n",
       "    .dataframe tbody tr th:only-of-type {\n",
       "        vertical-align: middle;\n",
       "    }\n",
       "\n",
       "    .dataframe tbody tr th {\n",
       "        vertical-align: top;\n",
       "    }\n",
       "\n",
       "    .dataframe thead th {\n",
       "        text-align: right;\n",
       "    }\n",
       "</style>\n",
       "<table border=\"1\" class=\"dataframe\">\n",
       "  <thead>\n",
       "    <tr style=\"text-align: right;\">\n",
       "      <th></th>\n",
       "      <th>DBUID</th>\n",
       "      <th>Score</th>\n",
       "    </tr>\n",
       "  </thead>\n",
       "  <tbody>\n",
       "    <tr>\n",
       "      <th>0</th>\n",
       "      <td>59150004004</td>\n",
       "      <td>0.217863</td>\n",
       "    </tr>\n",
       "    <tr>\n",
       "      <th>1</th>\n",
       "      <td>59150004005</td>\n",
       "      <td>0.217357</td>\n",
       "    </tr>\n",
       "    <tr>\n",
       "      <th>2</th>\n",
       "      <td>59150004006</td>\n",
       "      <td>0.213091</td>\n",
       "    </tr>\n",
       "    <tr>\n",
       "      <th>3</th>\n",
       "      <td>59150004011</td>\n",
       "      <td>0.213930</td>\n",
       "    </tr>\n",
       "    <tr>\n",
       "      <th>4</th>\n",
       "      <td>59150004012</td>\n",
       "      <td>0.208508</td>\n",
       "    </tr>\n",
       "  </tbody>\n",
       "</table>\n",
       "</div>"
      ],
      "text/plain": [
       "         DBUID     Score\n",
       "0  59150004004  0.217863\n",
       "1  59150004005  0.217357\n",
       "2  59150004006  0.213091\n",
       "3  59150004011  0.213930\n",
       "4  59150004012  0.208508"
      ]
     },
     "execution_count": 16,
     "metadata": {},
     "output_type": "execute_result"
    }
   ],
   "source": [
    "library1 = pd.read_csv('nearest1_library_or_archives_scores.csv')\n",
    "library1.columns = ['DBUID', 'Score']\n",
    "library1.head()"
   ]
  },
  {
   "cell_type": "code",
   "execution_count": 17,
   "metadata": {},
   "outputs": [
    {
     "data": {
      "text/html": [
       "<div>\n",
       "<style scoped>\n",
       "    .dataframe tbody tr th:only-of-type {\n",
       "        vertical-align: middle;\n",
       "    }\n",
       "\n",
       "    .dataframe tbody tr th {\n",
       "        vertical-align: top;\n",
       "    }\n",
       "\n",
       "    .dataframe thead th {\n",
       "        text-align: right;\n",
       "    }\n",
       "</style>\n",
       "<table border=\"1\" class=\"dataframe\">\n",
       "  <thead>\n",
       "    <tr style=\"text-align: right;\">\n",
       "      <th></th>\n",
       "      <th>geometry</th>\n",
       "      <th>DBUID</th>\n",
       "      <th>Score</th>\n",
       "    </tr>\n",
       "  </thead>\n",
       "  <tbody>\n",
       "    <tr>\n",
       "      <th>0</th>\n",
       "      <td>POLYGON ((-122.96252 49.32170, -122.96223 49.3...</td>\n",
       "      <td>59150244005</td>\n",
       "      <td>0.485169</td>\n",
       "    </tr>\n",
       "    <tr>\n",
       "      <th>1</th>\n",
       "      <td>POLYGON ((-123.07798 49.25263, -123.07799 49.2...</td>\n",
       "      <td>59150372006</td>\n",
       "      <td>0.585612</td>\n",
       "    </tr>\n",
       "    <tr>\n",
       "      <th>2</th>\n",
       "      <td>POLYGON ((-123.07991 49.25206, -123.07802 49.2...</td>\n",
       "      <td>59150372007</td>\n",
       "      <td>0.620586</td>\n",
       "    </tr>\n",
       "    <tr>\n",
       "      <th>3</th>\n",
       "      <td>POLYGON ((-123.08188 49.25090, -123.08189 49.2...</td>\n",
       "      <td>59150373001</td>\n",
       "      <td>0.516520</td>\n",
       "    </tr>\n",
       "    <tr>\n",
       "      <th>4</th>\n",
       "      <td>POLYGON ((-123.08268 49.24857, -123.08332 49.2...</td>\n",
       "      <td>59150373002</td>\n",
       "      <td>0.535664</td>\n",
       "    </tr>\n",
       "  </tbody>\n",
       "</table>\n",
       "</div>"
      ],
      "text/plain": [
       "                                            geometry        DBUID     Score\n",
       "0  POLYGON ((-122.96252 49.32170, -122.96223 49.3...  59150244005  0.485169\n",
       "1  POLYGON ((-123.07798 49.25263, -123.07799 49.2...  59150372006  0.585612\n",
       "2  POLYGON ((-123.07991 49.25206, -123.07802 49.2...  59150372007  0.620586\n",
       "3  POLYGON ((-123.08188 49.25090, -123.08189 49.2...  59150373001  0.516520\n",
       "4  POLYGON ((-123.08268 49.24857, -123.08332 49.2...  59150373002  0.535664"
      ]
     },
     "execution_count": 17,
     "metadata": {},
     "output_type": "execute_result"
    }
   ],
   "source": [
    "van_lib1 = df.merge(library1, on='DBUID')\n",
    "van_lib1.head()"
   ]
  },
  {
   "cell_type": "code",
   "execution_count": 18,
   "metadata": {},
   "outputs": [
    {
     "name": "stdout",
     "output_type": "stream",
     "text": [
      "User Guide: https://docs.kepler.gl/docs/keplergl-jupyter\n"
     ]
    },
    {
     "data": {
      "application/vnd.jupyter.widget-view+json": {
       "model_id": "9250b503d08248a8b43cb64db6a90f6c",
       "version_major": 2,
       "version_minor": 0
      },
      "text/plain": [
       "KeplerGl(data={'DB Scores': {'index': [0, 1, 2, 3, 4, 5, 6, 7, 8, 9, 10, 11, 12, 13, 14, 15, 16, 17, 18, 19, 2…"
      ]
     },
     "metadata": {},
     "output_type": "display_data"
    }
   ],
   "source": [
    "lib1 = keplergl.KeplerGl(height=500)\n",
    "lib1.add_data(data=van_lib1.copy(), name=\"DB Scores\")\n",
    "lib1"
   ]
  },
  {
   "cell_type": "code",
   "execution_count": 19,
   "metadata": {},
   "outputs": [
    {
     "name": "stdout",
     "output_type": "stream",
     "text": [
      "Map saved to Lib1_Kepler.html!\n"
     ]
    }
   ],
   "source": [
    "lib1.save_to_html(file_name='Lib1_Kepler.html')"
   ]
  },
  {
   "cell_type": "markdown",
   "metadata": {},
   "source": [
    "### Nearest Museum"
   ]
  },
  {
   "cell_type": "code",
   "execution_count": 20,
   "metadata": {},
   "outputs": [
    {
     "data": {
      "text/html": [
       "<div>\n",
       "<style scoped>\n",
       "    .dataframe tbody tr th:only-of-type {\n",
       "        vertical-align: middle;\n",
       "    }\n",
       "\n",
       "    .dataframe tbody tr th {\n",
       "        vertical-align: top;\n",
       "    }\n",
       "\n",
       "    .dataframe thead th {\n",
       "        text-align: right;\n",
       "    }\n",
       "</style>\n",
       "<table border=\"1\" class=\"dataframe\">\n",
       "  <thead>\n",
       "    <tr style=\"text-align: right;\">\n",
       "      <th></th>\n",
       "      <th>DBUID</th>\n",
       "      <th>Score</th>\n",
       "    </tr>\n",
       "  </thead>\n",
       "  <tbody>\n",
       "    <tr>\n",
       "      <th>0</th>\n",
       "      <td>59150004004</td>\n",
       "      <td>0.240111</td>\n",
       "    </tr>\n",
       "    <tr>\n",
       "      <th>1</th>\n",
       "      <td>59150004005</td>\n",
       "      <td>0.231695</td>\n",
       "    </tr>\n",
       "    <tr>\n",
       "      <th>2</th>\n",
       "      <td>59150004006</td>\n",
       "      <td>0.227944</td>\n",
       "    </tr>\n",
       "    <tr>\n",
       "      <th>3</th>\n",
       "      <td>59150004011</td>\n",
       "      <td>0.236166</td>\n",
       "    </tr>\n",
       "    <tr>\n",
       "      <th>4</th>\n",
       "      <td>59150004012</td>\n",
       "      <td>0.233876</td>\n",
       "    </tr>\n",
       "  </tbody>\n",
       "</table>\n",
       "</div>"
      ],
      "text/plain": [
       "         DBUID     Score\n",
       "0  59150004004  0.240111\n",
       "1  59150004005  0.231695\n",
       "2  59150004006  0.227944\n",
       "3  59150004011  0.236166\n",
       "4  59150004012  0.233876"
      ]
     },
     "execution_count": 20,
     "metadata": {},
     "output_type": "execute_result"
    }
   ],
   "source": [
    "museum1 = pd.read_csv('nearest1_museum_scores.csv')\n",
    "museum1.columns = ['DBUID', 'Score']\n",
    "museum1.head()"
   ]
  },
  {
   "cell_type": "code",
   "execution_count": 21,
   "metadata": {},
   "outputs": [
    {
     "data": {
      "text/html": [
       "<div>\n",
       "<style scoped>\n",
       "    .dataframe tbody tr th:only-of-type {\n",
       "        vertical-align: middle;\n",
       "    }\n",
       "\n",
       "    .dataframe tbody tr th {\n",
       "        vertical-align: top;\n",
       "    }\n",
       "\n",
       "    .dataframe thead th {\n",
       "        text-align: right;\n",
       "    }\n",
       "</style>\n",
       "<table border=\"1\" class=\"dataframe\">\n",
       "  <thead>\n",
       "    <tr style=\"text-align: right;\">\n",
       "      <th></th>\n",
       "      <th>geometry</th>\n",
       "      <th>DBUID</th>\n",
       "      <th>Score</th>\n",
       "    </tr>\n",
       "  </thead>\n",
       "  <tbody>\n",
       "    <tr>\n",
       "      <th>0</th>\n",
       "      <td>POLYGON ((-122.96252 49.32170, -122.96223 49.3...</td>\n",
       "      <td>59150244005</td>\n",
       "      <td>0.134515</td>\n",
       "    </tr>\n",
       "    <tr>\n",
       "      <th>1</th>\n",
       "      <td>POLYGON ((-123.07798 49.25263, -123.07799 49.2...</td>\n",
       "      <td>59150372006</td>\n",
       "      <td>0.377272</td>\n",
       "    </tr>\n",
       "    <tr>\n",
       "      <th>2</th>\n",
       "      <td>POLYGON ((-123.07991 49.25206, -123.07802 49.2...</td>\n",
       "      <td>59150372007</td>\n",
       "      <td>0.376623</td>\n",
       "    </tr>\n",
       "    <tr>\n",
       "      <th>3</th>\n",
       "      <td>POLYGON ((-123.08188 49.25090, -123.08189 49.2...</td>\n",
       "      <td>59150373001</td>\n",
       "      <td>0.364482</td>\n",
       "    </tr>\n",
       "    <tr>\n",
       "      <th>4</th>\n",
       "      <td>POLYGON ((-123.08268 49.24857, -123.08332 49.2...</td>\n",
       "      <td>59150373002</td>\n",
       "      <td>0.320572</td>\n",
       "    </tr>\n",
       "  </tbody>\n",
       "</table>\n",
       "</div>"
      ],
      "text/plain": [
       "                                            geometry        DBUID     Score\n",
       "0  POLYGON ((-122.96252 49.32170, -122.96223 49.3...  59150244005  0.134515\n",
       "1  POLYGON ((-123.07798 49.25263, -123.07799 49.2...  59150372006  0.377272\n",
       "2  POLYGON ((-123.07991 49.25206, -123.07802 49.2...  59150372007  0.376623\n",
       "3  POLYGON ((-123.08188 49.25090, -123.08189 49.2...  59150373001  0.364482\n",
       "4  POLYGON ((-123.08268 49.24857, -123.08332 49.2...  59150373002  0.320572"
      ]
     },
     "execution_count": 21,
     "metadata": {},
     "output_type": "execute_result"
    }
   ],
   "source": [
    "van_muse1 = df.merge(museum1, on='DBUID')\n",
    "van_muse1.head()"
   ]
  },
  {
   "cell_type": "code",
   "execution_count": 22,
   "metadata": {},
   "outputs": [
    {
     "name": "stdout",
     "output_type": "stream",
     "text": [
      "User Guide: https://docs.kepler.gl/docs/keplergl-jupyter\n"
     ]
    },
    {
     "data": {
      "application/vnd.jupyter.widget-view+json": {
       "model_id": "0f0064945c7f4537a98522d6c04ef0a3",
       "version_major": 2,
       "version_minor": 0
      },
      "text/plain": [
       "KeplerGl(data={'DB Scores': {'index': [0, 1, 2, 3, 4, 5, 6, 7, 8, 9, 10, 11, 12, 13, 14, 15, 16, 17, 18, 19, 2…"
      ]
     },
     "metadata": {},
     "output_type": "display_data"
    }
   ],
   "source": [
    "muse1 = keplergl.KeplerGl(height=500)\n",
    "muse1.add_data(data=van_muse1.copy(), name=\"DB Scores\")\n",
    "muse1"
   ]
  },
  {
   "cell_type": "code",
   "execution_count": 23,
   "metadata": {},
   "outputs": [
    {
     "name": "stdout",
     "output_type": "stream",
     "text": [
      "Map saved to Muse1_Kepler.html!\n"
     ]
    }
   ],
   "source": [
    "muse1.save_to_html(file_name='Muse1_Kepler.html')"
   ]
  },
  {
   "cell_type": "markdown",
   "metadata": {},
   "source": [
    "### Nearest Gallery"
   ]
  },
  {
   "cell_type": "code",
   "execution_count": 24,
   "metadata": {},
   "outputs": [
    {
     "data": {
      "text/html": [
       "<div>\n",
       "<style scoped>\n",
       "    .dataframe tbody tr th:only-of-type {\n",
       "        vertical-align: middle;\n",
       "    }\n",
       "\n",
       "    .dataframe tbody tr th {\n",
       "        vertical-align: top;\n",
       "    }\n",
       "\n",
       "    .dataframe thead th {\n",
       "        text-align: right;\n",
       "    }\n",
       "</style>\n",
       "<table border=\"1\" class=\"dataframe\">\n",
       "  <thead>\n",
       "    <tr style=\"text-align: right;\">\n",
       "      <th></th>\n",
       "      <th>DBUID</th>\n",
       "      <th>Score</th>\n",
       "    </tr>\n",
       "  </thead>\n",
       "  <tbody>\n",
       "    <tr>\n",
       "      <th>0</th>\n",
       "      <td>59150004004</td>\n",
       "      <td>0.231266</td>\n",
       "    </tr>\n",
       "    <tr>\n",
       "      <th>1</th>\n",
       "      <td>59150004005</td>\n",
       "      <td>0.232063</td>\n",
       "    </tr>\n",
       "    <tr>\n",
       "      <th>2</th>\n",
       "      <td>59150004006</td>\n",
       "      <td>0.231326</td>\n",
       "    </tr>\n",
       "    <tr>\n",
       "      <th>3</th>\n",
       "      <td>59150004011</td>\n",
       "      <td>0.228734</td>\n",
       "    </tr>\n",
       "    <tr>\n",
       "      <th>4</th>\n",
       "      <td>59150004012</td>\n",
       "      <td>0.227863</td>\n",
       "    </tr>\n",
       "  </tbody>\n",
       "</table>\n",
       "</div>"
      ],
      "text/plain": [
       "         DBUID     Score\n",
       "0  59150004004  0.231266\n",
       "1  59150004005  0.232063\n",
       "2  59150004006  0.231326\n",
       "3  59150004011  0.228734\n",
       "4  59150004012  0.227863"
      ]
     },
     "execution_count": 24,
     "metadata": {},
     "output_type": "execute_result"
    }
   ],
   "source": [
    "gallery1 = pd.read_csv('nearest1_gallery_scores.csv')\n",
    "gallery1.columns = ['DBUID', 'Score']\n",
    "gallery1.head()"
   ]
  },
  {
   "cell_type": "code",
   "execution_count": 25,
   "metadata": {},
   "outputs": [
    {
     "data": {
      "text/html": [
       "<div>\n",
       "<style scoped>\n",
       "    .dataframe tbody tr th:only-of-type {\n",
       "        vertical-align: middle;\n",
       "    }\n",
       "\n",
       "    .dataframe tbody tr th {\n",
       "        vertical-align: top;\n",
       "    }\n",
       "\n",
       "    .dataframe thead th {\n",
       "        text-align: right;\n",
       "    }\n",
       "</style>\n",
       "<table border=\"1\" class=\"dataframe\">\n",
       "  <thead>\n",
       "    <tr style=\"text-align: right;\">\n",
       "      <th></th>\n",
       "      <th>geometry</th>\n",
       "      <th>DBUID</th>\n",
       "      <th>Score</th>\n",
       "    </tr>\n",
       "  </thead>\n",
       "  <tbody>\n",
       "    <tr>\n",
       "      <th>0</th>\n",
       "      <td>POLYGON ((-122.96252 49.32170, -122.96223 49.3...</td>\n",
       "      <td>59150244005</td>\n",
       "      <td>0.193400</td>\n",
       "    </tr>\n",
       "    <tr>\n",
       "      <th>1</th>\n",
       "      <td>POLYGON ((-123.07798 49.25263, -123.07799 49.2...</td>\n",
       "      <td>59150372006</td>\n",
       "      <td>0.364944</td>\n",
       "    </tr>\n",
       "    <tr>\n",
       "      <th>2</th>\n",
       "      <td>POLYGON ((-123.07991 49.25206, -123.07802 49.2...</td>\n",
       "      <td>59150372007</td>\n",
       "      <td>0.363815</td>\n",
       "    </tr>\n",
       "    <tr>\n",
       "      <th>3</th>\n",
       "      <td>POLYGON ((-123.08188 49.25090, -123.08189 49.2...</td>\n",
       "      <td>59150373001</td>\n",
       "      <td>0.373992</td>\n",
       "    </tr>\n",
       "    <tr>\n",
       "      <th>4</th>\n",
       "      <td>POLYGON ((-123.08268 49.24857, -123.08332 49.2...</td>\n",
       "      <td>59150373002</td>\n",
       "      <td>0.401834</td>\n",
       "    </tr>\n",
       "  </tbody>\n",
       "</table>\n",
       "</div>"
      ],
      "text/plain": [
       "                                            geometry        DBUID     Score\n",
       "0  POLYGON ((-122.96252 49.32170, -122.96223 49.3...  59150244005  0.193400\n",
       "1  POLYGON ((-123.07798 49.25263, -123.07799 49.2...  59150372006  0.364944\n",
       "2  POLYGON ((-123.07991 49.25206, -123.07802 49.2...  59150372007  0.363815\n",
       "3  POLYGON ((-123.08188 49.25090, -123.08189 49.2...  59150373001  0.373992\n",
       "4  POLYGON ((-123.08268 49.24857, -123.08332 49.2...  59150373002  0.401834"
      ]
     },
     "execution_count": 25,
     "metadata": {},
     "output_type": "execute_result"
    }
   ],
   "source": [
    "van_gal1 = df.merge(gallery1, on='DBUID')\n",
    "van_gal1.head()"
   ]
  },
  {
   "cell_type": "code",
   "execution_count": 26,
   "metadata": {},
   "outputs": [
    {
     "name": "stdout",
     "output_type": "stream",
     "text": [
      "User Guide: https://docs.kepler.gl/docs/keplergl-jupyter\n"
     ]
    },
    {
     "data": {
      "application/vnd.jupyter.widget-view+json": {
       "model_id": "9f930b265dd44b15a4e218a517adba16",
       "version_major": 2,
       "version_minor": 0
      },
      "text/plain": [
       "KeplerGl(data={'DB Scores': {'index': [0, 1, 2, 3, 4, 5, 6, 7, 8, 9, 10, 11, 12, 13, 14, 15, 16, 17, 18, 19, 2…"
      ]
     },
     "metadata": {},
     "output_type": "display_data"
    }
   ],
   "source": [
    "gal1 = keplergl.KeplerGl(height=500)\n",
    "gal1.add_data(data=van_gal1.copy(), name=\"DB Scores\")\n",
    "gal1"
   ]
  },
  {
   "cell_type": "code",
   "execution_count": 27,
   "metadata": {},
   "outputs": [
    {
     "name": "stdout",
     "output_type": "stream",
     "text": [
      "Map saved to Gal1_Kepler.html!\n"
     ]
    }
   ],
   "source": [
    "gal1.save_to_html(file_name='Gal1_Kepler.html')"
   ]
  },
  {
   "cell_type": "markdown",
   "metadata": {},
   "source": [
    "### All amenities in different types"
   ]
  },
  {
   "cell_type": "code",
   "execution_count": 37,
   "metadata": {},
   "outputs": [
    {
     "data": {
      "text/html": [
       "<div>\n",
       "<style scoped>\n",
       "    .dataframe tbody tr th:only-of-type {\n",
       "        vertical-align: middle;\n",
       "    }\n",
       "\n",
       "    .dataframe tbody tr th {\n",
       "        vertical-align: top;\n",
       "    }\n",
       "\n",
       "    .dataframe thead th {\n",
       "        text-align: right;\n",
       "    }\n",
       "</style>\n",
       "<table border=\"1\" class=\"dataframe\">\n",
       "  <thead>\n",
       "    <tr style=\"text-align: right;\">\n",
       "      <th></th>\n",
       "      <th>fromId</th>\n",
       "      <th>score</th>\n",
       "      <th>type</th>\n",
       "    </tr>\n",
       "  </thead>\n",
       "  <tbody>\n",
       "    <tr>\n",
       "      <th>0</th>\n",
       "      <td>59150004004</td>\n",
       "      <td>0.020862</td>\n",
       "      <td>art or cultural centre</td>\n",
       "    </tr>\n",
       "    <tr>\n",
       "      <th>1</th>\n",
       "      <td>59150004004</td>\n",
       "      <td>0.115708</td>\n",
       "      <td>artist</td>\n",
       "    </tr>\n",
       "    <tr>\n",
       "      <th>2</th>\n",
       "      <td>59150004004</td>\n",
       "      <td>0.317420</td>\n",
       "      <td>gallery</td>\n",
       "    </tr>\n",
       "    <tr>\n",
       "      <th>3</th>\n",
       "      <td>59150004004</td>\n",
       "      <td>0.032337</td>\n",
       "      <td>heritage or historic site</td>\n",
       "    </tr>\n",
       "    <tr>\n",
       "      <th>4</th>\n",
       "      <td>59150004004</td>\n",
       "      <td>0.182327</td>\n",
       "      <td>library or archives</td>\n",
       "    </tr>\n",
       "  </tbody>\n",
       "</table>\n",
       "</div>"
      ],
      "text/plain": [
       "        fromId     score                       type\n",
       "0  59150004004  0.020862     art or cultural centre\n",
       "1  59150004004  0.115708                     artist\n",
       "2  59150004004  0.317420                    gallery\n",
       "3  59150004004  0.032337  heritage or historic site\n",
       "4  59150004004  0.182327        library or archives"
      ]
     },
     "execution_count": 37,
     "metadata": {},
     "output_type": "execute_result"
    }
   ],
   "source": [
    "types = pd.read_csv('type_destination_scores.csv')\n",
    "# types.columns = ['DBUID', 'Score']\n",
    "types.head()"
   ]
  },
  {
   "cell_type": "code",
   "execution_count": 40,
   "metadata": {},
   "outputs": [
    {
     "data": {
      "text/html": [
       "<div>\n",
       "<style scoped>\n",
       "    .dataframe tbody tr th:only-of-type {\n",
       "        vertical-align: middle;\n",
       "    }\n",
       "\n",
       "    .dataframe tbody tr th {\n",
       "        vertical-align: top;\n",
       "    }\n",
       "\n",
       "    .dataframe thead th {\n",
       "        text-align: right;\n",
       "    }\n",
       "</style>\n",
       "<table border=\"1\" class=\"dataframe\">\n",
       "  <thead>\n",
       "    <tr style=\"text-align: right;\">\n",
       "      <th></th>\n",
       "      <th>geometry</th>\n",
       "      <th>DBUID</th>\n",
       "      <th>Score</th>\n",
       "    </tr>\n",
       "  </thead>\n",
       "  <tbody>\n",
       "    <tr>\n",
       "      <th>0</th>\n",
       "      <td>POLYGON ((-122.96252 49.32170, -122.96223 49.3...</td>\n",
       "      <td>59150244005</td>\n",
       "      <td>0.193400</td>\n",
       "    </tr>\n",
       "    <tr>\n",
       "      <th>1</th>\n",
       "      <td>POLYGON ((-123.07798 49.25263, -123.07799 49.2...</td>\n",
       "      <td>59150372006</td>\n",
       "      <td>0.364944</td>\n",
       "    </tr>\n",
       "    <tr>\n",
       "      <th>2</th>\n",
       "      <td>POLYGON ((-123.07991 49.25206, -123.07802 49.2...</td>\n",
       "      <td>59150372007</td>\n",
       "      <td>0.363815</td>\n",
       "    </tr>\n",
       "    <tr>\n",
       "      <th>3</th>\n",
       "      <td>POLYGON ((-123.08188 49.25090, -123.08189 49.2...</td>\n",
       "      <td>59150373001</td>\n",
       "      <td>0.373992</td>\n",
       "    </tr>\n",
       "    <tr>\n",
       "      <th>4</th>\n",
       "      <td>POLYGON ((-123.08268 49.24857, -123.08332 49.2...</td>\n",
       "      <td>59150373002</td>\n",
       "      <td>0.401834</td>\n",
       "    </tr>\n",
       "  </tbody>\n",
       "</table>\n",
       "</div>"
      ],
      "text/plain": [
       "                                            geometry        DBUID     Score\n",
       "0  POLYGON ((-122.96252 49.32170, -122.96223 49.3...  59150244005  0.193400\n",
       "1  POLYGON ((-123.07798 49.25263, -123.07799 49.2...  59150372006  0.364944\n",
       "2  POLYGON ((-123.07991 49.25206, -123.07802 49.2...  59150372007  0.363815\n",
       "3  POLYGON ((-123.08188 49.25090, -123.08189 49.2...  59150373001  0.373992\n",
       "4  POLYGON ((-123.08268 49.24857, -123.08332 49.2...  59150373002  0.401834"
      ]
     },
     "execution_count": 40,
     "metadata": {},
     "output_type": "execute_result"
    }
   ],
   "source": [
    "van_gal1 = df.merge(gallery1, on='DBUID')\n",
    "van_gal1.head()"
   ]
  },
  {
   "cell_type": "code",
   "execution_count": null,
   "metadata": {},
   "outputs": [],
   "source": [
    "gal1 = keplergl.KeplerGl(height=500)\n",
    "gal1.add_data(data=van_gal1.copy(), name=\"DB Scores\")\n",
    "gal1"
   ]
  },
  {
   "cell_type": "code",
   "execution_count": null,
   "metadata": {},
   "outputs": [],
   "source": [
    "gal1.save_to_html(file_name='Gal1_Kepler.html')"
   ]
  }
 ],
 "metadata": {
  "kernelspec": {
   "display_name": "Python 3",
   "language": "python",
   "name": "python3"
  },
  "language_info": {
   "codemirror_mode": {
    "name": "ipython",
    "version": 3
   },
   "file_extension": ".py",
   "mimetype": "text/x-python",
   "name": "python",
   "nbconvert_exporter": "python",
   "pygments_lexer": "ipython3",
   "version": "3.8.10"
  },
  "toc": {
   "base_numbering": 1,
   "nav_menu": {},
   "number_sections": false,
   "sideBar": true,
   "skip_h1_title": true,
   "title_cell": "Lecture Outline",
   "title_sidebar": "Contents",
   "toc_cell": true,
   "toc_position": {},
   "toc_section_display": true,
   "toc_window_display": false
  },
  "toc-autonumbering": false,
  "toc-showcode": false,
  "toc-showmarkdowntxt": false,
  "toc-showtags": false,
  "widgets": {
   "application/vnd.jupyter.widget-state+json": {
    "state": {},
    "version_major": 2,
    "version_minor": 0
   }
  }
 },
 "nbformat": 4,
 "nbformat_minor": 4
}
